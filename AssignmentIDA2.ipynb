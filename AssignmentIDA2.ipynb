{
 "cells": [
  {
   "cell_type": "markdown",
   "metadata": {},
   "source": [
    "# ASSIGNMENT NO.2"
   ]
  },
  {
   "cell_type": "markdown",
   "metadata": {},
   "source": [
    "# RACHIT AGGARWAL - M12506500"
   ]
  },
  {
   "cell_type": "markdown",
   "metadata": {},
   "source": [
    "## Impoorting Libraries"
   ]
  },
  {
   "cell_type": "code",
   "execution_count": 1,
   "metadata": {
    "collapsed": true
   },
   "outputs": [],
   "source": [
    "%matplotlib inline\n",
    "import matplotlib.pyplot as plt  # to plot graphs\n",
    "import pandas as pd              # to make dataframes(tables)\n",
    "import numpy as np               # for numerical calculations\n",
    "from sklearn.utils import shuffle   # to shuffle data\n",
    "from sklearn.metrics import accuracy_score       # to import accuracy function\n",
    "from sklearn.metrics import precision_recall_fscore_support  # to import function for Precision, Recall and Fscore\n",
    "from sklearn.svm import SVC\n",
    "from sklearn.metrics import classification_report, confusion_matrix\n",
    "import seaborn as sns"
   ]
  },
  {
   "cell_type": "markdown",
   "metadata": {},
   "source": [
    "## Answer 1"
   ]
  },
  {
   "cell_type": "markdown",
   "metadata": {},
   "source": [
    "## Importing data ino pandas data frame"
   ]
  },
  {
   "cell_type": "code",
   "execution_count": 107,
   "metadata": {},
   "outputs": [
    {
     "data": {
      "text/html": [
       "<div>\n",
       "<style>\n",
       "    .dataframe thead tr:only-child th {\n",
       "        text-align: right;\n",
       "    }\n",
       "\n",
       "    .dataframe thead th {\n",
       "        text-align: left;\n",
       "    }\n",
       "\n",
       "    .dataframe tbody tr th {\n",
       "        vertical-align: top;\n",
       "    }\n",
       "</style>\n",
       "<table border=\"1\" class=\"dataframe\">\n",
       "  <thead>\n",
       "    <tr style=\"text-align: right;\">\n",
       "      <th></th>\n",
       "      <th>pelvic_incidence</th>\n",
       "      <th>pelvic_tilt numeric</th>\n",
       "      <th>lumbar_lordosis_angle</th>\n",
       "      <th>sacral_slope</th>\n",
       "      <th>pelvic_radius</th>\n",
       "      <th>degree_spondylolisthesis</th>\n",
       "      <th>class</th>\n",
       "    </tr>\n",
       "  </thead>\n",
       "  <tbody>\n",
       "    <tr>\n",
       "      <th>0</th>\n",
       "      <td>63.027818</td>\n",
       "      <td>22.552586</td>\n",
       "      <td>39.609117</td>\n",
       "      <td>40.475232</td>\n",
       "      <td>98.672917</td>\n",
       "      <td>-0.254400</td>\n",
       "      <td>Abnormal</td>\n",
       "    </tr>\n",
       "    <tr>\n",
       "      <th>1</th>\n",
       "      <td>39.056951</td>\n",
       "      <td>10.060991</td>\n",
       "      <td>25.015378</td>\n",
       "      <td>28.995960</td>\n",
       "      <td>114.405425</td>\n",
       "      <td>4.564259</td>\n",
       "      <td>Abnormal</td>\n",
       "    </tr>\n",
       "    <tr>\n",
       "      <th>2</th>\n",
       "      <td>68.832021</td>\n",
       "      <td>22.218482</td>\n",
       "      <td>50.092194</td>\n",
       "      <td>46.613539</td>\n",
       "      <td>105.985135</td>\n",
       "      <td>-3.530317</td>\n",
       "      <td>Abnormal</td>\n",
       "    </tr>\n",
       "    <tr>\n",
       "      <th>3</th>\n",
       "      <td>69.297008</td>\n",
       "      <td>24.652878</td>\n",
       "      <td>44.311238</td>\n",
       "      <td>44.644130</td>\n",
       "      <td>101.868495</td>\n",
       "      <td>11.211523</td>\n",
       "      <td>Abnormal</td>\n",
       "    </tr>\n",
       "    <tr>\n",
       "      <th>4</th>\n",
       "      <td>49.712859</td>\n",
       "      <td>9.652075</td>\n",
       "      <td>28.317406</td>\n",
       "      <td>40.060784</td>\n",
       "      <td>108.168725</td>\n",
       "      <td>7.918501</td>\n",
       "      <td>Abnormal</td>\n",
       "    </tr>\n",
       "  </tbody>\n",
       "</table>\n",
       "</div>"
      ],
      "text/plain": [
       "   pelvic_incidence  pelvic_tilt numeric  lumbar_lordosis_angle  sacral_slope  \\\n",
       "0         63.027818            22.552586              39.609117     40.475232   \n",
       "1         39.056951            10.060991              25.015378     28.995960   \n",
       "2         68.832021            22.218482              50.092194     46.613539   \n",
       "3         69.297008            24.652878              44.311238     44.644130   \n",
       "4         49.712859             9.652075              28.317406     40.060784   \n",
       "\n",
       "   pelvic_radius  degree_spondylolisthesis     class  \n",
       "0      98.672917                 -0.254400  Abnormal  \n",
       "1     114.405425                  4.564259  Abnormal  \n",
       "2     105.985135                 -3.530317  Abnormal  \n",
       "3     101.868495                 11.211523  Abnormal  \n",
       "4     108.168725                  7.918501  Abnormal  "
      ]
     },
     "execution_count": 107,
     "metadata": {},
     "output_type": "execute_result"
    }
   ],
   "source": [
    "data2 = pd.read_csv('C:/Users/rachi/Documents/UC Study Material/Sem 2/Intelligent Data Analysis/Assignments/Assignment 2/data2.csv')\n",
    "data2.head()"
   ]
  },
  {
   "cell_type": "markdown",
   "metadata": {},
   "source": [
    "## Listing the columns in the data"
   ]
  },
  {
   "cell_type": "code",
   "execution_count": 108,
   "metadata": {},
   "outputs": [
    {
     "data": {
      "text/plain": [
       "['pelvic_incidence',\n",
       " 'pelvic_tilt numeric',\n",
       " 'lumbar_lordosis_angle',\n",
       " 'sacral_slope',\n",
       " 'pelvic_radius',\n",
       " 'degree_spondylolisthesis',\n",
       " 'class']"
      ]
     },
     "execution_count": 108,
     "metadata": {},
     "output_type": "execute_result"
    }
   ],
   "source": [
    "list(data2.keys()) # column names"
   ]
  },
  {
   "cell_type": "markdown",
   "metadata": {},
   "source": [
    "## Shuffling the data"
   ]
  },
  {
   "cell_type": "code",
   "execution_count": 109,
   "metadata": {},
   "outputs": [
    {
     "data": {
      "text/html": [
       "<div>\n",
       "<style>\n",
       "    .dataframe thead tr:only-child th {\n",
       "        text-align: right;\n",
       "    }\n",
       "\n",
       "    .dataframe thead th {\n",
       "        text-align: left;\n",
       "    }\n",
       "\n",
       "    .dataframe tbody tr th {\n",
       "        vertical-align: top;\n",
       "    }\n",
       "</style>\n",
       "<table border=\"1\" class=\"dataframe\">\n",
       "  <thead>\n",
       "    <tr style=\"text-align: right;\">\n",
       "      <th></th>\n",
       "      <th>pelvic_incidence</th>\n",
       "      <th>pelvic_tilt numeric</th>\n",
       "      <th>lumbar_lordosis_angle</th>\n",
       "      <th>sacral_slope</th>\n",
       "      <th>pelvic_radius</th>\n",
       "      <th>degree_spondylolisthesis</th>\n",
       "      <th>class</th>\n",
       "    </tr>\n",
       "  </thead>\n",
       "  <tbody>\n",
       "    <tr>\n",
       "      <th>94</th>\n",
       "      <td>94.174822</td>\n",
       "      <td>15.380770</td>\n",
       "      <td>67.705721</td>\n",
       "      <td>78.794052</td>\n",
       "      <td>114.890113</td>\n",
       "      <td>53.255220</td>\n",
       "      <td>Abnormal</td>\n",
       "    </tr>\n",
       "    <tr>\n",
       "      <th>237</th>\n",
       "      <td>62.140805</td>\n",
       "      <td>13.960975</td>\n",
       "      <td>58.000000</td>\n",
       "      <td>48.179830</td>\n",
       "      <td>133.281834</td>\n",
       "      <td>4.955106</td>\n",
       "      <td>Normal</td>\n",
       "    </tr>\n",
       "    <tr>\n",
       "      <th>270</th>\n",
       "      <td>51.311771</td>\n",
       "      <td>8.875541</td>\n",
       "      <td>57.000000</td>\n",
       "      <td>42.436230</td>\n",
       "      <td>126.472258</td>\n",
       "      <td>-2.144044</td>\n",
       "      <td>Normal</td>\n",
       "    </tr>\n",
       "    <tr>\n",
       "      <th>146</th>\n",
       "      <td>85.581710</td>\n",
       "      <td>30.457039</td>\n",
       "      <td>78.231379</td>\n",
       "      <td>55.124672</td>\n",
       "      <td>114.866049</td>\n",
       "      <td>68.376122</td>\n",
       "      <td>Abnormal</td>\n",
       "    </tr>\n",
       "    <tr>\n",
       "      <th>6</th>\n",
       "      <td>53.432928</td>\n",
       "      <td>15.864336</td>\n",
       "      <td>37.165934</td>\n",
       "      <td>37.568592</td>\n",
       "      <td>120.567523</td>\n",
       "      <td>5.988551</td>\n",
       "      <td>Abnormal</td>\n",
       "    </tr>\n",
       "  </tbody>\n",
       "</table>\n",
       "</div>"
      ],
      "text/plain": [
       "     pelvic_incidence  pelvic_tilt numeric  lumbar_lordosis_angle  \\\n",
       "94          94.174822            15.380770              67.705721   \n",
       "237         62.140805            13.960975              58.000000   \n",
       "270         51.311771             8.875541              57.000000   \n",
       "146         85.581710            30.457039              78.231379   \n",
       "6           53.432928            15.864336              37.165934   \n",
       "\n",
       "     sacral_slope  pelvic_radius  degree_spondylolisthesis     class  \n",
       "94      78.794052     114.890113                 53.255220  Abnormal  \n",
       "237     48.179830     133.281834                  4.955106    Normal  \n",
       "270     42.436230     126.472258                 -2.144044    Normal  \n",
       "146     55.124672     114.866049                 68.376122  Abnormal  \n",
       "6       37.568592     120.567523                  5.988551  Abnormal  "
      ]
     },
     "execution_count": 109,
     "metadata": {},
     "output_type": "execute_result"
    }
   ],
   "source": [
    "data2 = shuffle(data2)\n",
    "data2.head()"
   ]
  },
  {
   "cell_type": "markdown",
   "metadata": {},
   "source": [
    "## Separating features and target labels"
   ]
  },
  {
   "cell_type": "code",
   "execution_count": 110,
   "metadata": {},
   "outputs": [
    {
     "data": {
      "text/html": [
       "<div>\n",
       "<style>\n",
       "    .dataframe thead tr:only-child th {\n",
       "        text-align: right;\n",
       "    }\n",
       "\n",
       "    .dataframe thead th {\n",
       "        text-align: left;\n",
       "    }\n",
       "\n",
       "    .dataframe tbody tr th {\n",
       "        vertical-align: top;\n",
       "    }\n",
       "</style>\n",
       "<table border=\"1\" class=\"dataframe\">\n",
       "  <thead>\n",
       "    <tr style=\"text-align: right;\">\n",
       "      <th></th>\n",
       "      <th>pelvic_incidence</th>\n",
       "      <th>pelvic_tilt numeric</th>\n",
       "      <th>lumbar_lordosis_angle</th>\n",
       "      <th>sacral_slope</th>\n",
       "      <th>pelvic_radius</th>\n",
       "      <th>degree_spondylolisthesis</th>\n",
       "    </tr>\n",
       "  </thead>\n",
       "  <tbody>\n",
       "    <tr>\n",
       "      <th>94</th>\n",
       "      <td>94.174822</td>\n",
       "      <td>15.380770</td>\n",
       "      <td>67.705721</td>\n",
       "      <td>78.794052</td>\n",
       "      <td>114.890113</td>\n",
       "      <td>53.255220</td>\n",
       "    </tr>\n",
       "    <tr>\n",
       "      <th>237</th>\n",
       "      <td>62.140805</td>\n",
       "      <td>13.960975</td>\n",
       "      <td>58.000000</td>\n",
       "      <td>48.179830</td>\n",
       "      <td>133.281834</td>\n",
       "      <td>4.955106</td>\n",
       "    </tr>\n",
       "    <tr>\n",
       "      <th>270</th>\n",
       "      <td>51.311771</td>\n",
       "      <td>8.875541</td>\n",
       "      <td>57.000000</td>\n",
       "      <td>42.436230</td>\n",
       "      <td>126.472258</td>\n",
       "      <td>-2.144044</td>\n",
       "    </tr>\n",
       "    <tr>\n",
       "      <th>146</th>\n",
       "      <td>85.581710</td>\n",
       "      <td>30.457039</td>\n",
       "      <td>78.231379</td>\n",
       "      <td>55.124672</td>\n",
       "      <td>114.866049</td>\n",
       "      <td>68.376122</td>\n",
       "    </tr>\n",
       "    <tr>\n",
       "      <th>6</th>\n",
       "      <td>53.432928</td>\n",
       "      <td>15.864336</td>\n",
       "      <td>37.165934</td>\n",
       "      <td>37.568592</td>\n",
       "      <td>120.567523</td>\n",
       "      <td>5.988551</td>\n",
       "    </tr>\n",
       "  </tbody>\n",
       "</table>\n",
       "</div>"
      ],
      "text/plain": [
       "     pelvic_incidence  pelvic_tilt numeric  lumbar_lordosis_angle  \\\n",
       "94          94.174822            15.380770              67.705721   \n",
       "237         62.140805            13.960975              58.000000   \n",
       "270         51.311771             8.875541              57.000000   \n",
       "146         85.581710            30.457039              78.231379   \n",
       "6           53.432928            15.864336              37.165934   \n",
       "\n",
       "     sacral_slope  pelvic_radius  degree_spondylolisthesis  \n",
       "94      78.794052     114.890113                 53.255220  \n",
       "237     48.179830     133.281834                  4.955106  \n",
       "270     42.436230     126.472258                 -2.144044  \n",
       "146     55.124672     114.866049                 68.376122  \n",
       "6       37.568592     120.567523                  5.988551  "
      ]
     },
     "execution_count": 110,
     "metadata": {},
     "output_type": "execute_result"
    }
   ],
   "source": [
    "X = data2.loc[:,'pelvic_incidence':'degree_spondylolisthesis'] # features\n",
    "y = data2.loc[:,'class'] # target label\n",
    "X.head()"
   ]
  },
  {
   "cell_type": "markdown",
   "metadata": {},
   "source": [
    "## Dividing data into train and test data"
   ]
  },
  {
   "cell_type": "code",
   "execution_count": 111,
   "metadata": {
    "collapsed": true
   },
   "outputs": [],
   "source": [
    "X_train, X_test  = X[:210], X[210:] # training and testing features"
   ]
  },
  {
   "cell_type": "code",
   "execution_count": 112,
   "metadata": {
    "collapsed": true
   },
   "outputs": [],
   "source": [
    "y_train, y_test = y[:210], y[210:] # training and testing labels"
   ]
  },
  {
   "cell_type": "markdown",
   "metadata": {},
   "source": [
    "## Applying Support Vector Machine with 'linear' kernel"
   ]
  },
  {
   "cell_type": "code",
   "execution_count": 113,
   "metadata": {},
   "outputs": [],
   "source": [
    "clf = SVC(kernel='linear') # Applying linear kernel"
   ]
  },
  {
   "cell_type": "code",
   "execution_count": 114,
   "metadata": {},
   "outputs": [
    {
     "data": {
      "text/plain": [
       "SVC(C=1.0, cache_size=200, class_weight=None, coef0=0.0,\n",
       "  decision_function_shape='ovr', degree=3, gamma='auto', kernel='linear',\n",
       "  max_iter=-1, probability=False, random_state=None, shrinking=True,\n",
       "  tol=0.001, verbose=False)"
      ]
     },
     "execution_count": 114,
     "metadata": {},
     "output_type": "execute_result"
    }
   ],
   "source": [
    "clf.fit(X_train,y_train)  # Fitting the training nd testing data"
   ]
  },
  {
   "cell_type": "code",
   "execution_count": 115,
   "metadata": {
    "collapsed": true
   },
   "outputs": [],
   "source": [
    "sup_vec = clf.support_vectors_    # Collecting number of support vectors\n",
    "no_sup_vec = clf.support_"
   ]
  },
  {
   "cell_type": "markdown",
   "metadata": {},
   "source": [
    "## Answer 1 (a)."
   ]
  },
  {
   "cell_type": "markdown",
   "metadata": {},
   "source": [
    "## Llist of all the support vectors"
   ]
  },
  {
   "cell_type": "code",
   "execution_count": 116,
   "metadata": {},
   "outputs": [
    {
     "data": {
      "text/plain": [
       "array([[ 53.43292815,  15.86433612,  37.16593387,  37.56859203,\n",
       "        120.5675233 ,   5.9885507 ],\n",
       "       [ 54.91944259,  21.06233245,  42.19999999,  33.85711014,\n",
       "        125.2127163 ,   2.43256144],\n",
       "       [ 56.03021778,  16.2979149 ,  62.27527456,  39.73230287,\n",
       "        114.0231172 ,  -2.32568384],\n",
       "       [ 46.85578065,  15.35151393,  38.        ,  31.50426672,\n",
       "        116.2509174 ,   1.66270559],\n",
       "       [ 40.25019968,  13.92190658,  25.1249496 ,  26.32829311,\n",
       "        130.3278713 ,   2.23065173],\n",
       "       [ 42.02138603,  -6.55494835,  67.89999999,  48.57633437,\n",
       "        111.5857819 ,  27.33867086],\n",
       "       [ 53.85479842,  19.23064334,  32.77905978,  34.62415508,\n",
       "        121.6709148 ,   5.3298432 ],\n",
       "       [ 55.28585178,  20.44011836,  34.        ,  34.84573342,\n",
       "        115.8770174 ,   3.55837236],\n",
       "       [ 43.20318499,  19.66314572,  35.        ,  23.54003927,\n",
       "        124.8461088 ,  -2.91907595],\n",
       "       [ 45.36675362,  10.75561143,  29.03834896,  34.61114218,\n",
       "        117.2700675 , -10.67587083],\n",
       "       [ 50.91244034,  23.01516931,  46.99999999,  27.89727103,\n",
       "        117.4222591 ,  -2.52670151],\n",
       "       [ 70.25043628,  10.34012252,  76.37007032,  59.91031376,\n",
       "        119.2370072 ,  32.66650243],\n",
       "       [ 43.79019026,  13.5337531 ,  42.69081398,  30.25643716,\n",
       "        125.0028927 ,  13.28901817],\n",
       "       [ 31.27601184,   3.14466948,  32.56299592,  28.13134236,\n",
       "        129.0114183 ,   3.62302007],\n",
       "       [ 46.44207842,   8.39503589,  29.0372302 ,  38.04704253,\n",
       "        115.4814047 ,   2.0454758 ],\n",
       "       [ 43.34960621,   7.46746896,  28.06548279,  35.88213725,\n",
       "        112.7761866 ,   5.75327746],\n",
       "       [ 35.70345781,  19.44325311,  20.7       ,  16.26020471,\n",
       "        137.5406125 ,  -0.26348965],\n",
       "       [ 65.00796426,  27.60260762,  50.94751899,  37.40535663,\n",
       "        116.5811088 ,   7.01597788],\n",
       "       [ 43.92283983,  14.17795853,  37.8325467 ,  29.7448813 ,\n",
       "        134.4610156 ,   6.45164764],\n",
       "       [ 38.69791243,  13.44474904,  31.        ,  25.25316339,\n",
       "        123.1592507 ,   1.42918576],\n",
       "       [ 66.87921138,  24.89199889,  49.27859673,  41.9872125 ,\n",
       "        113.4770183 ,  -2.00589175],\n",
       "       [ 68.83202098,  22.21848205,  50.09219357,  46.61353893,\n",
       "        105.9851355 ,  -3.53031731],\n",
       "       [ 78.40125389,  14.04225971,  79.69426258,  64.35899418,\n",
       "        104.7312342 ,  12.39285327],\n",
       "       [ 69.78100617,  13.77746531,  57.99999999,  56.00354085,\n",
       "        118.9306656 ,  17.91456046],\n",
       "       [ 26.14792141,  10.75945357,  14.        ,  15.38846783,\n",
       "        125.2032956 , -10.09310817],\n",
       "       [ 38.66325708,  12.98644139,  39.99999999,  25.67681568,\n",
       "        124.914118  ,   2.70300805],\n",
       "       [ 48.10923638,  14.93072472,  35.56468278,  33.17851166,\n",
       "        124.0564518 ,   7.94790486],\n",
       "       [ 45.44374959,   9.9060718 ,  44.99999999,  35.53767779,\n",
       "        163.0710405 ,  20.31531532],\n",
       "       [ 81.05661087,  20.80149217,  91.78449512,  60.2551187 ,\n",
       "        125.430176  ,  38.18178176],\n",
       "       [ 72.07627839,  18.94617604,  50.99999999,  53.13010236,\n",
       "        114.2130126 ,   1.01004051],\n",
       "       [ 40.55735663,  17.97778407,  34.        ,  22.57957256,\n",
       "        121.0462458 ,  -1.53738307],\n",
       "       [ 57.30022656,  24.1888846 ,  46.99999999,  33.11134196,\n",
       "        116.8065868 ,   5.76694694],\n",
       "       [ 41.35250407,  16.57736351,  30.70619135,  24.77514057,\n",
       "        113.2666746 ,  -4.49795756],\n",
       "       [ 44.48927476,  21.78643263,  31.47415392,  22.70284212,\n",
       "        113.7784936 ,  -0.28412937],\n",
       "       [ 37.7319919 ,   9.38629828,  41.99999999,  28.34569362,\n",
       "        135.740926  ,  13.68304672],\n",
       "       [ 56.10377352,  13.10630665,  62.63701952,  42.99746687,\n",
       "        116.2285032 ,  31.17276727],\n",
       "       [ 48.80190855,  18.01776202,  51.99999999,  30.78414653,\n",
       "        139.1504066 ,  10.44286169],\n",
       "       [ 46.37408781,  10.21590237,  42.69999999,  36.15818544,\n",
       "        121.2476572 ,  -0.54202201],\n",
       "       [ 41.6469159 ,   8.8355491 ,  36.03197484,  32.8113668 ,\n",
       "        116.5551679 ,  -6.05453796],\n",
       "       [ 43.1919153 ,   9.9766638 ,  28.93814927,  33.21525149,\n",
       "        123.4674001 ,   1.74101758],\n",
       "       [ 33.84164075,   5.07399141,  36.64123294,  28.76764934,\n",
       "        123.9452436 ,  -0.19924909],\n",
       "       [ 61.44659663,  22.6949683 ,  46.17034732,  38.75162833,\n",
       "        125.6707246 ,  -2.70787952],\n",
       "       [ 64.31186727,  26.32836901,  50.95896417,  37.98349826,\n",
       "        106.1777511 ,   3.11822129],\n",
       "       [ 69.3988184 ,  18.89840693,  75.96636144,  50.50041147,\n",
       "        103.5825398 ,  -0.44366081],\n",
       "       [ 54.92085752,  18.96842952,  51.60145541,  35.952428  ,\n",
       "        125.8466462 ,   2.00164247],\n",
       "       [ 63.02630005,  27.33624023,  51.60501665,  35.69005983,\n",
       "        114.5066078 ,   7.4398698 ],\n",
       "       [ 39.35870531,   7.01126181,  37.        ,  32.3474435 ,\n",
       "        117.8187599 ,   1.9040482 ],\n",
       "       [ 38.50527283,  16.96429691,  35.11281407,  21.54097592,\n",
       "        127.6328747 ,   7.98668323],\n",
       "       [ 38.04655072,   8.30166942,  26.23683004,  29.7448813 ,\n",
       "        123.8034132 ,   3.88577349],\n",
       "       [ 43.11795103,  13.81574355,  40.34738779,  29.30220748,\n",
       "        128.5177217 ,   0.97092641],\n",
       "       [ 47.90356517,  13.61668819,  36.        ,  34.28687698,\n",
       "        117.4490622 ,  -4.24539542],\n",
       "       [ 74.97602148,  14.92170492,  53.73007172,  60.05431656,\n",
       "        105.6453997 ,   1.59474773],\n",
       "       [ 51.07983294,  14.20993529,  35.95122893,  36.86989765,\n",
       "        115.8037111 ,   6.90508996],\n",
       "       [ 42.51561014,  16.54121618,  41.99999999,  25.97439396,\n",
       "        120.631941  ,   7.87673069],\n",
       "       [ 53.91105429,  12.93931796,  38.99999999,  40.97173633,\n",
       "        118.1930354 ,   5.07435318],\n",
       "       [ 46.63786363,  15.85371711,  39.99999999,  30.78414653,\n",
       "        119.3776026 ,   9.06458168],\n",
       "       [ 53.68337998,  13.44702168,  41.58429713,  40.23635831,\n",
       "        113.9137026 ,   2.73703529],\n",
       "       [ 47.31964755,   8.5736803 ,  35.56025198,  38.74596726,\n",
       "        120.5769719 ,   1.63066351],\n",
       "       [ 39.65690201,  16.20883944,  36.67485694,  23.44806258,\n",
       "        131.922009  ,  -4.96897988],\n",
       "       [ 45.57548229,  18.75913544,  33.77414297,  26.81634684,\n",
       "        116.7970069 ,   3.13190992],\n",
       "       [ 63.79242525,  21.34532339,  65.99999999,  42.44710185,\n",
       "        119.5503909 ,  12.38260373],\n",
       "       [ 48.90290434,   5.58758866,  55.49999999,  43.31531568,\n",
       "        137.1082886 ,  19.85475919],\n",
       "       [ 48.3189305 ,  17.45212105,  47.99999999,  30.86680945,\n",
       "        128.9803079 ,  -0.91094057],\n",
       "       [ 53.93674778,  20.72149628,  29.22053381,  33.21525149,\n",
       "        114.365845  ,  -0.42101039],\n",
       "       [ 59.16761171,  14.56274875,  43.19915768,  44.60486296,\n",
       "        121.0356423 ,   2.83050412],\n",
       "       [ 67.80469442,  16.55066167,  43.25680184,  51.25403274,\n",
       "        119.6856451 ,   4.86753994],\n",
       "       [ 66.50717865,  20.89767207,  31.72747138,  45.60950658,\n",
       "        128.9029049 ,   1.51720336],\n",
       "       [ 36.42248549,  13.87942449,  20.24256187,  22.543061  ,\n",
       "        126.0768612 ,   0.17971708]])"
      ]
     },
     "execution_count": 116,
     "metadata": {},
     "output_type": "execute_result"
    }
   ],
   "source": [
    "sup_vec"
   ]
  },
  {
   "cell_type": "markdown",
   "metadata": {},
   "source": [
    "## Number of support vectors for each class"
   ]
  },
  {
   "cell_type": "code",
   "execution_count": 117,
   "metadata": {},
   "outputs": [
    {
     "data": {
      "text/plain": [
       "array([33, 35])"
      ]
     },
     "execution_count": 117,
     "metadata": {},
     "output_type": "execute_result"
    }
   ],
   "source": [
    "clf.n_support_ "
   ]
  },
  {
   "cell_type": "code",
   "execution_count": 118,
   "metadata": {},
   "outputs": [
    {
     "data": {
      "text/plain": [
       "array([  4,  12,  19,  27,  30,  32,  43,  56,  76,  79,  88,  90,  92,\n",
       "        97, 101, 110, 116, 119, 122, 123, 125, 131, 136, 141, 142, 148,\n",
       "       150, 163, 170, 180, 184, 193, 197,   6,   7,  10,  14,  18,  25,\n",
       "        33,  36,  57,  68,  77,  89,  91,  95, 103, 105, 112, 118, 129,\n",
       "       134, 135, 143, 149, 151, 165, 173, 174, 182, 183, 189, 190, 192,\n",
       "       198, 200, 201])"
      ]
     },
     "execution_count": 118,
     "metadata": {},
     "output_type": "execute_result"
    }
   ],
   "source": [
    "no_sup_vec   # Indices of support vectors"
   ]
  },
  {
   "cell_type": "code",
   "execution_count": 119,
   "metadata": {},
   "outputs": [
    {
     "data": {
      "text/plain": [
       "array(['Abnormal', 'Abnormal', 'Abnormal', 'Abnormal', 'Abnormal',\n",
       "       'Abnormal', 'Abnormal', 'Abnormal', 'Abnormal', 'Abnormal',\n",
       "       'Abnormal', 'Abnormal', 'Abnormal', 'Abnormal', 'Abnormal',\n",
       "       'Abnormal', 'Abnormal', 'Abnormal', 'Abnormal', 'Abnormal',\n",
       "       'Abnormal', 'Abnormal', 'Abnormal', 'Abnormal', 'Abnormal',\n",
       "       'Abnormal', 'Abnormal', 'Abnormal', 'Abnormal', 'Abnormal',\n",
       "       'Abnormal', 'Abnormal', 'Abnormal', 'Normal', 'Normal', 'Normal',\n",
       "       'Normal', 'Normal', 'Normal', 'Normal', 'Normal', 'Normal',\n",
       "       'Normal', 'Normal', 'Normal', 'Normal', 'Normal', 'Normal',\n",
       "       'Normal', 'Normal', 'Normal', 'Normal', 'Normal', 'Normal',\n",
       "       'Normal', 'Normal', 'Normal', 'Normal', 'Normal', 'Normal',\n",
       "       'Normal', 'Normal', 'Normal', 'Normal', 'Normal', 'Normal',\n",
       "       'Normal', 'Normal'], dtype='<U8')"
      ]
     },
     "execution_count": 119,
     "metadata": {},
     "output_type": "execute_result"
    }
   ],
   "source": [
    "ar = np.asarray(y_train)\n",
    "b = []\n",
    "for i in no_sup_vec:\n",
    "    b.append(ar[i])\n",
    "b = np.array(b)\n",
    "b"
   ]
  },
  {
   "cell_type": "code",
   "execution_count": 120,
   "metadata": {},
   "outputs": [],
   "source": [
    "A  = pd.DataFrame(sup_vec, columns=['pelvic_incidence','pelvic_tilt numeric','lumbar_lordosis_angle','sacral_slope',\n",
    "                                    'pelvic_radius','degree_spondylolisthesis'])\n",
    "A['class'] = b   "
   ]
  },
  {
   "cell_type": "markdown",
   "metadata": {},
   "source": [
    "## Support vectors for Abnormal class"
   ]
  },
  {
   "cell_type": "code",
   "execution_count": 121,
   "metadata": {},
   "outputs": [
    {
     "data": {
      "text/html": [
       "<div>\n",
       "<style>\n",
       "    .dataframe thead tr:only-child th {\n",
       "        text-align: right;\n",
       "    }\n",
       "\n",
       "    .dataframe thead th {\n",
       "        text-align: left;\n",
       "    }\n",
       "\n",
       "    .dataframe tbody tr th {\n",
       "        vertical-align: top;\n",
       "    }\n",
       "</style>\n",
       "<table border=\"1\" class=\"dataframe\">\n",
       "  <thead>\n",
       "    <tr style=\"text-align: right;\">\n",
       "      <th></th>\n",
       "      <th>pelvic_incidence</th>\n",
       "      <th>pelvic_tilt numeric</th>\n",
       "      <th>lumbar_lordosis_angle</th>\n",
       "      <th>sacral_slope</th>\n",
       "      <th>pelvic_radius</th>\n",
       "      <th>degree_spondylolisthesis</th>\n",
       "      <th>class</th>\n",
       "    </tr>\n",
       "  </thead>\n",
       "  <tbody>\n",
       "    <tr>\n",
       "      <th>0</th>\n",
       "      <td>53.432928</td>\n",
       "      <td>15.864336</td>\n",
       "      <td>37.165934</td>\n",
       "      <td>37.568592</td>\n",
       "      <td>120.567523</td>\n",
       "      <td>5.988551</td>\n",
       "      <td>Abnormal</td>\n",
       "    </tr>\n",
       "    <tr>\n",
       "      <th>1</th>\n",
       "      <td>54.919443</td>\n",
       "      <td>21.062332</td>\n",
       "      <td>42.200000</td>\n",
       "      <td>33.857110</td>\n",
       "      <td>125.212716</td>\n",
       "      <td>2.432561</td>\n",
       "      <td>Abnormal</td>\n",
       "    </tr>\n",
       "    <tr>\n",
       "      <th>2</th>\n",
       "      <td>56.030218</td>\n",
       "      <td>16.297915</td>\n",
       "      <td>62.275275</td>\n",
       "      <td>39.732303</td>\n",
       "      <td>114.023117</td>\n",
       "      <td>-2.325684</td>\n",
       "      <td>Abnormal</td>\n",
       "    </tr>\n",
       "    <tr>\n",
       "      <th>3</th>\n",
       "      <td>46.855781</td>\n",
       "      <td>15.351514</td>\n",
       "      <td>38.000000</td>\n",
       "      <td>31.504267</td>\n",
       "      <td>116.250917</td>\n",
       "      <td>1.662706</td>\n",
       "      <td>Abnormal</td>\n",
       "    </tr>\n",
       "    <tr>\n",
       "      <th>4</th>\n",
       "      <td>40.250200</td>\n",
       "      <td>13.921907</td>\n",
       "      <td>25.124950</td>\n",
       "      <td>26.328293</td>\n",
       "      <td>130.327871</td>\n",
       "      <td>2.230652</td>\n",
       "      <td>Abnormal</td>\n",
       "    </tr>\n",
       "    <tr>\n",
       "      <th>5</th>\n",
       "      <td>42.021386</td>\n",
       "      <td>-6.554948</td>\n",
       "      <td>67.900000</td>\n",
       "      <td>48.576334</td>\n",
       "      <td>111.585782</td>\n",
       "      <td>27.338671</td>\n",
       "      <td>Abnormal</td>\n",
       "    </tr>\n",
       "    <tr>\n",
       "      <th>6</th>\n",
       "      <td>53.854798</td>\n",
       "      <td>19.230643</td>\n",
       "      <td>32.779060</td>\n",
       "      <td>34.624155</td>\n",
       "      <td>121.670915</td>\n",
       "      <td>5.329843</td>\n",
       "      <td>Abnormal</td>\n",
       "    </tr>\n",
       "    <tr>\n",
       "      <th>7</th>\n",
       "      <td>55.285852</td>\n",
       "      <td>20.440118</td>\n",
       "      <td>34.000000</td>\n",
       "      <td>34.845733</td>\n",
       "      <td>115.877017</td>\n",
       "      <td>3.558372</td>\n",
       "      <td>Abnormal</td>\n",
       "    </tr>\n",
       "    <tr>\n",
       "      <th>8</th>\n",
       "      <td>43.203185</td>\n",
       "      <td>19.663146</td>\n",
       "      <td>35.000000</td>\n",
       "      <td>23.540039</td>\n",
       "      <td>124.846109</td>\n",
       "      <td>-2.919076</td>\n",
       "      <td>Abnormal</td>\n",
       "    </tr>\n",
       "    <tr>\n",
       "      <th>9</th>\n",
       "      <td>45.366754</td>\n",
       "      <td>10.755611</td>\n",
       "      <td>29.038349</td>\n",
       "      <td>34.611142</td>\n",
       "      <td>117.270068</td>\n",
       "      <td>-10.675871</td>\n",
       "      <td>Abnormal</td>\n",
       "    </tr>\n",
       "  </tbody>\n",
       "</table>\n",
       "</div>"
      ],
      "text/plain": [
       "   pelvic_incidence  pelvic_tilt numeric  lumbar_lordosis_angle  sacral_slope  \\\n",
       "0         53.432928            15.864336              37.165934     37.568592   \n",
       "1         54.919443            21.062332              42.200000     33.857110   \n",
       "2         56.030218            16.297915              62.275275     39.732303   \n",
       "3         46.855781            15.351514              38.000000     31.504267   \n",
       "4         40.250200            13.921907              25.124950     26.328293   \n",
       "5         42.021386            -6.554948              67.900000     48.576334   \n",
       "6         53.854798            19.230643              32.779060     34.624155   \n",
       "7         55.285852            20.440118              34.000000     34.845733   \n",
       "8         43.203185            19.663146              35.000000     23.540039   \n",
       "9         45.366754            10.755611              29.038349     34.611142   \n",
       "\n",
       "   pelvic_radius  degree_spondylolisthesis     class  \n",
       "0     120.567523                  5.988551  Abnormal  \n",
       "1     125.212716                  2.432561  Abnormal  \n",
       "2     114.023117                 -2.325684  Abnormal  \n",
       "3     116.250917                  1.662706  Abnormal  \n",
       "4     130.327871                  2.230652  Abnormal  \n",
       "5     111.585782                 27.338671  Abnormal  \n",
       "6     121.670915                  5.329843  Abnormal  \n",
       "7     115.877017                  3.558372  Abnormal  \n",
       "8     124.846109                 -2.919076  Abnormal  \n",
       "9     117.270068                -10.675871  Abnormal  "
      ]
     },
     "execution_count": 121,
     "metadata": {},
     "output_type": "execute_result"
    }
   ],
   "source": [
    "A[A['class']==\"Abnormal\"][:10]"
   ]
  },
  {
   "cell_type": "markdown",
   "metadata": {},
   "source": [
    "## Support Vectors for Normal class"
   ]
  },
  {
   "cell_type": "code",
   "execution_count": 122,
   "metadata": {},
   "outputs": [
    {
     "data": {
      "text/html": [
       "<div>\n",
       "<style>\n",
       "    .dataframe thead tr:only-child th {\n",
       "        text-align: right;\n",
       "    }\n",
       "\n",
       "    .dataframe thead th {\n",
       "        text-align: left;\n",
       "    }\n",
       "\n",
       "    .dataframe tbody tr th {\n",
       "        vertical-align: top;\n",
       "    }\n",
       "</style>\n",
       "<table border=\"1\" class=\"dataframe\">\n",
       "  <thead>\n",
       "    <tr style=\"text-align: right;\">\n",
       "      <th></th>\n",
       "      <th>pelvic_incidence</th>\n",
       "      <th>pelvic_tilt numeric</th>\n",
       "      <th>lumbar_lordosis_angle</th>\n",
       "      <th>sacral_slope</th>\n",
       "      <th>pelvic_radius</th>\n",
       "      <th>degree_spondylolisthesis</th>\n",
       "      <th>class</th>\n",
       "    </tr>\n",
       "  </thead>\n",
       "  <tbody>\n",
       "    <tr>\n",
       "      <th>33</th>\n",
       "      <td>44.489275</td>\n",
       "      <td>21.786433</td>\n",
       "      <td>31.474154</td>\n",
       "      <td>22.702842</td>\n",
       "      <td>113.778494</td>\n",
       "      <td>-0.284129</td>\n",
       "      <td>Normal</td>\n",
       "    </tr>\n",
       "    <tr>\n",
       "      <th>34</th>\n",
       "      <td>37.731992</td>\n",
       "      <td>9.386298</td>\n",
       "      <td>42.000000</td>\n",
       "      <td>28.345694</td>\n",
       "      <td>135.740926</td>\n",
       "      <td>13.683047</td>\n",
       "      <td>Normal</td>\n",
       "    </tr>\n",
       "    <tr>\n",
       "      <th>35</th>\n",
       "      <td>56.103774</td>\n",
       "      <td>13.106307</td>\n",
       "      <td>62.637020</td>\n",
       "      <td>42.997467</td>\n",
       "      <td>116.228503</td>\n",
       "      <td>31.172767</td>\n",
       "      <td>Normal</td>\n",
       "    </tr>\n",
       "    <tr>\n",
       "      <th>36</th>\n",
       "      <td>48.801909</td>\n",
       "      <td>18.017762</td>\n",
       "      <td>52.000000</td>\n",
       "      <td>30.784147</td>\n",
       "      <td>139.150407</td>\n",
       "      <td>10.442862</td>\n",
       "      <td>Normal</td>\n",
       "    </tr>\n",
       "    <tr>\n",
       "      <th>37</th>\n",
       "      <td>46.374088</td>\n",
       "      <td>10.215902</td>\n",
       "      <td>42.700000</td>\n",
       "      <td>36.158185</td>\n",
       "      <td>121.247657</td>\n",
       "      <td>-0.542022</td>\n",
       "      <td>Normal</td>\n",
       "    </tr>\n",
       "    <tr>\n",
       "      <th>38</th>\n",
       "      <td>41.646916</td>\n",
       "      <td>8.835549</td>\n",
       "      <td>36.031975</td>\n",
       "      <td>32.811367</td>\n",
       "      <td>116.555168</td>\n",
       "      <td>-6.054538</td>\n",
       "      <td>Normal</td>\n",
       "    </tr>\n",
       "    <tr>\n",
       "      <th>39</th>\n",
       "      <td>43.191915</td>\n",
       "      <td>9.976664</td>\n",
       "      <td>28.938149</td>\n",
       "      <td>33.215251</td>\n",
       "      <td>123.467400</td>\n",
       "      <td>1.741018</td>\n",
       "      <td>Normal</td>\n",
       "    </tr>\n",
       "    <tr>\n",
       "      <th>40</th>\n",
       "      <td>33.841641</td>\n",
       "      <td>5.073991</td>\n",
       "      <td>36.641233</td>\n",
       "      <td>28.767649</td>\n",
       "      <td>123.945244</td>\n",
       "      <td>-0.199249</td>\n",
       "      <td>Normal</td>\n",
       "    </tr>\n",
       "    <tr>\n",
       "      <th>41</th>\n",
       "      <td>61.446597</td>\n",
       "      <td>22.694968</td>\n",
       "      <td>46.170347</td>\n",
       "      <td>38.751628</td>\n",
       "      <td>125.670725</td>\n",
       "      <td>-2.707880</td>\n",
       "      <td>Normal</td>\n",
       "    </tr>\n",
       "    <tr>\n",
       "      <th>42</th>\n",
       "      <td>64.311867</td>\n",
       "      <td>26.328369</td>\n",
       "      <td>50.958964</td>\n",
       "      <td>37.983498</td>\n",
       "      <td>106.177751</td>\n",
       "      <td>3.118221</td>\n",
       "      <td>Normal</td>\n",
       "    </tr>\n",
       "  </tbody>\n",
       "</table>\n",
       "</div>"
      ],
      "text/plain": [
       "    pelvic_incidence  pelvic_tilt numeric  lumbar_lordosis_angle  \\\n",
       "33         44.489275            21.786433              31.474154   \n",
       "34         37.731992             9.386298              42.000000   \n",
       "35         56.103774            13.106307              62.637020   \n",
       "36         48.801909            18.017762              52.000000   \n",
       "37         46.374088            10.215902              42.700000   \n",
       "38         41.646916             8.835549              36.031975   \n",
       "39         43.191915             9.976664              28.938149   \n",
       "40         33.841641             5.073991              36.641233   \n",
       "41         61.446597            22.694968              46.170347   \n",
       "42         64.311867            26.328369              50.958964   \n",
       "\n",
       "    sacral_slope  pelvic_radius  degree_spondylolisthesis   class  \n",
       "33     22.702842     113.778494                 -0.284129  Normal  \n",
       "34     28.345694     135.740926                 13.683047  Normal  \n",
       "35     42.997467     116.228503                 31.172767  Normal  \n",
       "36     30.784147     139.150407                 10.442862  Normal  \n",
       "37     36.158185     121.247657                 -0.542022  Normal  \n",
       "38     32.811367     116.555168                 -6.054538  Normal  \n",
       "39     33.215251     123.467400                  1.741018  Normal  \n",
       "40     28.767649     123.945244                 -0.199249  Normal  \n",
       "41     38.751628     125.670725                 -2.707880  Normal  \n",
       "42     37.983498     106.177751                  3.118221  Normal  "
      ]
     },
     "execution_count": 122,
     "metadata": {},
     "output_type": "execute_result"
    }
   ],
   "source": [
    "A[A['class']==\"Normal\"][:10]"
   ]
  },
  {
   "cell_type": "markdown",
   "metadata": {},
   "source": [
    "### Inference from Support Vectors:\n",
    "### The range of values for each attribute, for both classes is comparable, which means they exist close to each other and the decision boundary with appropriate margin would be a hyperplane separating these two classes based on these support vectors."
   ]
  },
  {
   "cell_type": "markdown",
   "metadata": {},
   "source": [
    "## Predicting classes for test data"
   ]
  },
  {
   "cell_type": "code",
   "execution_count": 123,
   "metadata": {
    "collapsed": true
   },
   "outputs": [],
   "source": [
    "pred = clf.predict(X_test)"
   ]
  },
  {
   "cell_type": "markdown",
   "metadata": {},
   "source": [
    "## Evaluations"
   ]
  },
  {
   "cell_type": "code",
   "execution_count": 124,
   "metadata": {},
   "outputs": [
    {
     "name": "stdout",
     "output_type": "stream",
     "text": [
      "             precision    recall  f1-score   support\n",
      "\n",
      "   Abnormal       0.90      0.86      0.88        74\n",
      "     Normal       0.66      0.73      0.69        26\n",
      "\n",
      "avg / total       0.84      0.83      0.83       100\n",
      "\n"
     ]
    }
   ],
   "source": [
    "class_name = ['Abnormal', 'Normal']\n",
    "print(classification_report(pred,y_test, target_names=class_name))"
   ]
  },
  {
   "cell_type": "code",
   "execution_count": 125,
   "metadata": {},
   "outputs": [
    {
     "data": {
      "text/plain": [
       "0.83"
      ]
     },
     "execution_count": 125,
     "metadata": {},
     "output_type": "execute_result"
    }
   ],
   "source": [
    "acc = accuracy_score(y_test, pred, normalize=True, sample_weight=None)  # Accuracy\n",
    "acc"
   ]
  },
  {
   "cell_type": "markdown",
   "metadata": {
    "collapsed": true
   },
   "source": [
    "## Confusion matrix"
   ]
  },
  {
   "cell_type": "code",
   "execution_count": 126,
   "metadata": {},
   "outputs": [
    {
     "data": {
      "text/plain": [
       "Text(91.68,0.5,'predicted label')"
      ]
     },
     "execution_count": 126,
     "metadata": {},
     "output_type": "execute_result"
    },
    {
     "data": {
      "image/png": "[encoded data removed]",
      "text/plain": [
       "<matplotlib.figure.Figure at 0x1443b496d30>"
      ]
     },
     "metadata": {},
     "output_type": "display_data"
    }
   ],
   "source": [
    "conf = confusion_matrix(y_test, pred) \n",
    "sns.heatmap(conf.T, square=True, annot=True, fmt='d', cbar=False, xticklabels=class_name, yticklabels=class_name, cmap='hot') \n",
    "plt.title(\"Confusion Matrix\")\n",
    "plt.xlabel('true label') \n",
    "plt.ylabel('predicted label')"
   ]
  },
  {
   "cell_type": "markdown",
   "metadata": {},
   "source": [
    "## Answer 1(b)."
   ]
  },
  {
   "cell_type": "markdown",
   "metadata": {},
   "source": [
    "## Applying SVM for 5 iterations and displaying confusion matrices"
   ]
  },
  {
   "cell_type": "code",
   "execution_count": 127,
   "metadata": {},
   "outputs": [
    {
     "name": "stdout",
     "output_type": "stream",
     "text": [
      "\n",
      " ITERATION 0:\n",
      "\n"
     ]
    },
    {
     "data": {
      "image/png": "[encoded data removed]",
      "text/plain": [
       "<matplotlib.figure.Figure at 0x1443b348b00>"
      ]
     },
     "metadata": {},
     "output_type": "display_data"
    },
    {
     "name": "stdout",
     "output_type": "stream",
     "text": [
      "\n",
      " ITERATION 1:\n",
      "\n"
     ]
    },
    {
     "data": {
      "image/png": "[encoded data removed]",
      "text/plain": [
       "<matplotlib.figure.Figure at 0x1443b165780>"
      ]
     },
     "metadata": {},
     "output_type": "display_data"
    },
    {
     "name": "stdout",
     "output_type": "stream",
     "text": [
      "\n",
      " ITERATION 2:\n",
      "\n"
     ]
    },
    {
     "data": {
      "image/png": "[encoded data removed]",
      "text/plain": [
       "<matplotlib.figure.Figure at 0x1443b125320>"
      ]
     },
     "metadata": {},
     "output_type": "display_data"
    },
    {
     "name": "stdout",
     "output_type": "stream",
     "text": [
      "\n",
      " ITERATION 3:\n",
      "\n"
     ]
    },
    {
     "data": {
      "image/png": "[encoded data removed]",
      "text/plain": [
       "<matplotlib.figure.Figure at 0x1443b15c080>"
      ]
     },
     "metadata": {},
     "output_type": "display_data"
    },
    {
     "name": "stdout",
     "output_type": "stream",
     "text": [
      "\n",
      " ITERATION 4:\n",
      "\n"
     ]
    },
    {
     "data": {
      "image/png": "[encoded data removed]",
      "text/plain": [
       "<matplotlib.figure.Figure at 0x1443b1a99b0>"
      ]
     },
     "metadata": {},
     "output_type": "display_data"
    }
   ],
   "source": [
    "true_positive = []\n",
    "true_negative = []\n",
    "false_positive = []\n",
    "false_negative = []\n",
    "for a in range(5):\n",
    "    print(\"\\n ITERATION \" + str(a) +\":\\n\")\n",
    "    data2 = shuffle(data2)\n",
    "    X = data2.loc[:,'pelvic_incidence':'degree_spondylolisthesis']\n",
    "    y = data2.loc[:,'class']\n",
    "    X_train,X_test,y_train,y_test = X[:210] , X[210:], y[:210] , y[210:]\n",
    "    clf = SVC(kernel='linear')\n",
    "    clf.fit(X_train,y_train)\n",
    "    pred = clf.predict(X_test)\n",
    "    conf = confusion_matrix(y_test, pred)\n",
    "    true_negative.append(conf[0,0])\n",
    "    false_positive.append(conf[0,1])\n",
    "    false_negative.append(conf[1,0])\n",
    "    true_positive.append(conf[1,1])\n",
    "    sns.heatmap(conf.T, square=True, annot=True, fmt='d', cbar=False, xticklabels=class_name, yticklabels=class_name, cmap='hot') \n",
    "    plt.title(\"Confusion Matrix\")\n",
    "    plt.xlabel('true label') \n",
    "    plt.ylabel('predicted label')\n",
    "    plt.show()"
   ]
  },
  {
   "cell_type": "markdown",
   "metadata": {},
   "source": [
    "## Calculating average values for TP, FP, FN and TN for all 5 iterations"
   ]
  },
  {
   "cell_type": "code",
   "execution_count": 128,
   "metadata": {},
   "outputs": [
    {
     "data": {
      "text/plain": [
       "array([[60. ,  9.6],\n",
       "       [ 9.6, 23.6]])"
      ]
     },
     "execution_count": 128,
     "metadata": {},
     "output_type": "execute_result"
    }
   ],
   "source": [
    "avg_TP = np.mean(true_positive)\n",
    "avg_FP = np.mean(false_positive)\n",
    "avg_TN = np.mean(true_negative)\n",
    "avg_FN = np.mean(false_positive)\n",
    "\n",
    "avg_conf_matrix = np.array([[avg_TN, avg_FP], [avg_FN, avg_TP]])\n",
    "avg_conf_matrix"
   ]
  },
  {
   "cell_type": "markdown",
   "metadata": {},
   "source": [
    "## Confusion matrix with average values"
   ]
  },
  {
   "cell_type": "code",
   "execution_count": 129,
   "metadata": {},
   "outputs": [
    {
     "data": {
      "image/png": "[encoded data removed]",
      "text/plain": [
       "<matplotlib.figure.Figure at 0x1443b4675c0>"
      ]
     },
     "metadata": {},
     "output_type": "display_data"
    }
   ],
   "source": [
    "conf = confusion_matrix(y_test, pred) \n",
    "sns.heatmap(avg_conf_matrix.T, square=True, annot=True, cbar=False, xticklabels=class_name, yticklabels=class_name, cmap='hot') \n",
    "plt.title(\"Confusion Matrix\")\n",
    "plt.xlabel('true label') \n",
    "plt.ylabel('predicted label')\n",
    "plt.show()"
   ]
  },
  {
   "cell_type": "markdown",
   "metadata": {},
   "source": [
    "## Answer 1 (c)."
   ]
  },
  {
   "cell_type": "markdown",
   "metadata": {},
   "source": [
    "## Calculating the average values Precision, Recall and Accuracy"
   ]
  },
  {
   "cell_type": "code",
   "execution_count": 130,
   "metadata": {},
   "outputs": [
    {
     "name": "stdout",
     "output_type": "stream",
     "text": [
      "Average Evaluations:\n",
      "Class\t\tAbnormal\tNormal\t\t\tAverage\n",
      "Precision: 0.8620689655172414\t0.7108433734939759\t0.7864561695056087\n",
      "Recall:\t   0.8620689655172414\t0.7108433734939759\t0.7864561695056087\n",
      "Accuracy:  0.8132295719844359\n"
     ]
    }
   ],
   "source": [
    "Precision_Abnormal = avg_TN/(avg_TN + avg_FN)\n",
    "Precision_Normal = avg_TP/(avg_TP + avg_FP)\n",
    "Average_Precision = (Precision_Abnormal + Precision_Normal) / 2\n",
    "Recall_Abnormal = avg_TN/(avg_TN + avg_FP)\n",
    "Recall_Normal = avg_TP/(avg_TP + avg_FN)\n",
    "Average_Recall = (Recall_Abnormal + Recall_Normal) / 2\n",
    "Accuracy = (avg_TP + avg_TN)/(avg_TP + avg_TN + avg_FP + avg_FN)\n",
    "print(\"Average Evaluations:\")\n",
    "print(\"Class\\t\\tAbnormal\\tNormal\\t\\t\\tAverage\")\n",
    "print(\"Precision: \" + str(Precision_Abnormal) + \"\\t\" + str(Precision_Normal) + \"\\t\" + str(Average_Precision))\n",
    "print(\"Recall:\\t   \" + str(Recall_Abnormal) + \"\\t\" + str(Recall_Normal) + \"\\t\" + str(Average_Recall))\n",
    "print(\"Accuracy:  \" + str(Accuracy))"
   ]
  },
  {
   "cell_type": "markdown",
   "metadata": {},
   "source": [
    "# Answer 2"
   ]
  },
  {
   "cell_type": "markdown",
   "metadata": {},
   "source": [
    "## Loading the data into pandas data frame"
   ]
  },
  {
   "cell_type": "code",
   "execution_count": 131,
   "metadata": {},
   "outputs": [
    {
     "data": {
      "text/html": [
       "<div>\n",
       "<style>\n",
       "    .dataframe thead tr:only-child th {\n",
       "        text-align: right;\n",
       "    }\n",
       "\n",
       "    .dataframe thead th {\n",
       "        text-align: left;\n",
       "    }\n",
       "\n",
       "    .dataframe tbody tr th {\n",
       "        vertical-align: top;\n",
       "    }\n",
       "</style>\n",
       "<table border=\"1\" class=\"dataframe\">\n",
       "  <thead>\n",
       "    <tr style=\"text-align: right;\">\n",
       "      <th></th>\n",
       "      <th>pelvic_incidence</th>\n",
       "      <th>pelvic_tilt numeric</th>\n",
       "      <th>lumbar_lordosis_angle</th>\n",
       "      <th>sacral_slope</th>\n",
       "      <th>pelvic_radius</th>\n",
       "      <th>degree_spondylolisthesis</th>\n",
       "      <th>class</th>\n",
       "    </tr>\n",
       "  </thead>\n",
       "  <tbody>\n",
       "    <tr>\n",
       "      <th>0</th>\n",
       "      <td>63.027818</td>\n",
       "      <td>22.552586</td>\n",
       "      <td>39.609117</td>\n",
       "      <td>40.475232</td>\n",
       "      <td>98.672917</td>\n",
       "      <td>-0.254400</td>\n",
       "      <td>Abnormal</td>\n",
       "    </tr>\n",
       "    <tr>\n",
       "      <th>1</th>\n",
       "      <td>39.056951</td>\n",
       "      <td>10.060991</td>\n",
       "      <td>25.015378</td>\n",
       "      <td>28.995960</td>\n",
       "      <td>114.405425</td>\n",
       "      <td>4.564259</td>\n",
       "      <td>Abnormal</td>\n",
       "    </tr>\n",
       "    <tr>\n",
       "      <th>2</th>\n",
       "      <td>68.832021</td>\n",
       "      <td>22.218482</td>\n",
       "      <td>50.092194</td>\n",
       "      <td>46.613539</td>\n",
       "      <td>105.985135</td>\n",
       "      <td>-3.530317</td>\n",
       "      <td>Abnormal</td>\n",
       "    </tr>\n",
       "    <tr>\n",
       "      <th>3</th>\n",
       "      <td>69.297008</td>\n",
       "      <td>24.652878</td>\n",
       "      <td>44.311238</td>\n",
       "      <td>44.644130</td>\n",
       "      <td>101.868495</td>\n",
       "      <td>11.211523</td>\n",
       "      <td>Abnormal</td>\n",
       "    </tr>\n",
       "    <tr>\n",
       "      <th>4</th>\n",
       "      <td>49.712859</td>\n",
       "      <td>9.652075</td>\n",
       "      <td>28.317406</td>\n",
       "      <td>40.060784</td>\n",
       "      <td>108.168725</td>\n",
       "      <td>7.918501</td>\n",
       "      <td>Abnormal</td>\n",
       "    </tr>\n",
       "  </tbody>\n",
       "</table>\n",
       "</div>"
      ],
      "text/plain": [
       "   pelvic_incidence  pelvic_tilt numeric  lumbar_lordosis_angle  sacral_slope  \\\n",
       "0         63.027818            22.552586              39.609117     40.475232   \n",
       "1         39.056951            10.060991              25.015378     28.995960   \n",
       "2         68.832021            22.218482              50.092194     46.613539   \n",
       "3         69.297008            24.652878              44.311238     44.644130   \n",
       "4         49.712859             9.652075              28.317406     40.060784   \n",
       "\n",
       "   pelvic_radius  degree_spondylolisthesis     class  \n",
       "0      98.672917                 -0.254400  Abnormal  \n",
       "1     114.405425                  4.564259  Abnormal  \n",
       "2     105.985135                 -3.530317  Abnormal  \n",
       "3     101.868495                 11.211523  Abnormal  \n",
       "4     108.168725                  7.918501  Abnormal  "
      ]
     },
     "execution_count": 131,
     "metadata": {},
     "output_type": "execute_result"
    }
   ],
   "source": [
    "data2 = pd.read_csv('C:/Users/rachi/Documents/UC Study Material/Sem 2/Intelligent Data Analysis/Assignments/Assignment 2/data2.csv')\n",
    "data2.head()"
   ]
  },
  {
   "cell_type": "markdown",
   "metadata": {},
   "source": [
    "## Listing the column names"
   ]
  },
  {
   "cell_type": "code",
   "execution_count": 132,
   "metadata": {},
   "outputs": [
    {
     "data": {
      "text/plain": [
       "['pelvic_incidence',\n",
       " 'pelvic_tilt numeric',\n",
       " 'lumbar_lordosis_angle',\n",
       " 'sacral_slope',\n",
       " 'pelvic_radius',\n",
       " 'degree_spondylolisthesis',\n",
       " 'class']"
      ]
     },
     "execution_count": 132,
     "metadata": {},
     "output_type": "execute_result"
    }
   ],
   "source": [
    "list(data2.keys()) # column names"
   ]
  },
  {
   "cell_type": "markdown",
   "metadata": {},
   "source": [
    "## Shuffling the Data"
   ]
  },
  {
   "cell_type": "code",
   "execution_count": 133,
   "metadata": {},
   "outputs": [
    {
     "data": {
      "text/html": [
       "<div>\n",
       "<style>\n",
       "    .dataframe thead tr:only-child th {\n",
       "        text-align: right;\n",
       "    }\n",
       "\n",
       "    .dataframe thead th {\n",
       "        text-align: left;\n",
       "    }\n",
       "\n",
       "    .dataframe tbody tr th {\n",
       "        vertical-align: top;\n",
       "    }\n",
       "</style>\n",
       "<table border=\"1\" class=\"dataframe\">\n",
       "  <thead>\n",
       "    <tr style=\"text-align: right;\">\n",
       "      <th></th>\n",
       "      <th>pelvic_incidence</th>\n",
       "      <th>pelvic_tilt numeric</th>\n",
       "      <th>lumbar_lordosis_angle</th>\n",
       "      <th>sacral_slope</th>\n",
       "      <th>pelvic_radius</th>\n",
       "      <th>degree_spondylolisthesis</th>\n",
       "      <th>class</th>\n",
       "    </tr>\n",
       "  </thead>\n",
       "  <tbody>\n",
       "    <tr>\n",
       "      <th>251</th>\n",
       "      <td>40.746996</td>\n",
       "      <td>1.835524</td>\n",
       "      <td>50.00000</td>\n",
       "      <td>38.911472</td>\n",
       "      <td>139.247150</td>\n",
       "      <td>0.668557</td>\n",
       "      <td>Normal</td>\n",
       "    </tr>\n",
       "    <tr>\n",
       "      <th>66</th>\n",
       "      <td>78.491730</td>\n",
       "      <td>22.181798</td>\n",
       "      <td>60.00000</td>\n",
       "      <td>56.309932</td>\n",
       "      <td>118.530327</td>\n",
       "      <td>27.383213</td>\n",
       "      <td>Abnormal</td>\n",
       "    </tr>\n",
       "    <tr>\n",
       "      <th>272</th>\n",
       "      <td>39.358705</td>\n",
       "      <td>7.011262</td>\n",
       "      <td>37.00000</td>\n",
       "      <td>32.347443</td>\n",
       "      <td>117.818760</td>\n",
       "      <td>1.904048</td>\n",
       "      <td>Normal</td>\n",
       "    </tr>\n",
       "    <tr>\n",
       "      <th>131</th>\n",
       "      <td>69.781006</td>\n",
       "      <td>13.777465</td>\n",
       "      <td>58.00000</td>\n",
       "      <td>56.003541</td>\n",
       "      <td>118.930666</td>\n",
       "      <td>17.914560</td>\n",
       "      <td>Abnormal</td>\n",
       "    </tr>\n",
       "    <tr>\n",
       "      <th>133</th>\n",
       "      <td>81.754419</td>\n",
       "      <td>20.123466</td>\n",
       "      <td>70.56044</td>\n",
       "      <td>61.630954</td>\n",
       "      <td>119.425086</td>\n",
       "      <td>55.506889</td>\n",
       "      <td>Abnormal</td>\n",
       "    </tr>\n",
       "  </tbody>\n",
       "</table>\n",
       "</div>"
      ],
      "text/plain": [
       "     pelvic_incidence  pelvic_tilt numeric  lumbar_lordosis_angle  \\\n",
       "251         40.746996             1.835524               50.00000   \n",
       "66          78.491730            22.181798               60.00000   \n",
       "272         39.358705             7.011262               37.00000   \n",
       "131         69.781006            13.777465               58.00000   \n",
       "133         81.754419            20.123466               70.56044   \n",
       "\n",
       "     sacral_slope  pelvic_radius  degree_spondylolisthesis     class  \n",
       "251     38.911472     139.247150                  0.668557    Normal  \n",
       "66      56.309932     118.530327                 27.383213  Abnormal  \n",
       "272     32.347443     117.818760                  1.904048    Normal  \n",
       "131     56.003541     118.930666                 17.914560  Abnormal  \n",
       "133     61.630954     119.425086                 55.506889  Abnormal  "
      ]
     },
     "execution_count": 133,
     "metadata": {},
     "output_type": "execute_result"
    }
   ],
   "source": [
    "data2 = shuffle(data2)\n",
    "data2.head()"
   ]
  },
  {
   "cell_type": "markdown",
   "metadata": {},
   "source": [
    "## Separating Features and target labels"
   ]
  },
  {
   "cell_type": "code",
   "execution_count": 134,
   "metadata": {},
   "outputs": [
    {
     "data": {
      "text/html": [
       "<div>\n",
       "<style>\n",
       "    .dataframe thead tr:only-child th {\n",
       "        text-align: right;\n",
       "    }\n",
       "\n",
       "    .dataframe thead th {\n",
       "        text-align: left;\n",
       "    }\n",
       "\n",
       "    .dataframe tbody tr th {\n",
       "        vertical-align: top;\n",
       "    }\n",
       "</style>\n",
       "<table border=\"1\" class=\"dataframe\">\n",
       "  <thead>\n",
       "    <tr style=\"text-align: right;\">\n",
       "      <th></th>\n",
       "      <th>pelvic_incidence</th>\n",
       "      <th>pelvic_tilt numeric</th>\n",
       "      <th>lumbar_lordosis_angle</th>\n",
       "      <th>sacral_slope</th>\n",
       "      <th>pelvic_radius</th>\n",
       "      <th>degree_spondylolisthesis</th>\n",
       "    </tr>\n",
       "  </thead>\n",
       "  <tbody>\n",
       "    <tr>\n",
       "      <th>251</th>\n",
       "      <td>40.746996</td>\n",
       "      <td>1.835524</td>\n",
       "      <td>50.00000</td>\n",
       "      <td>38.911472</td>\n",
       "      <td>139.247150</td>\n",
       "      <td>0.668557</td>\n",
       "    </tr>\n",
       "    <tr>\n",
       "      <th>66</th>\n",
       "      <td>78.491730</td>\n",
       "      <td>22.181798</td>\n",
       "      <td>60.00000</td>\n",
       "      <td>56.309932</td>\n",
       "      <td>118.530327</td>\n",
       "      <td>27.383213</td>\n",
       "    </tr>\n",
       "    <tr>\n",
       "      <th>272</th>\n",
       "      <td>39.358705</td>\n",
       "      <td>7.011262</td>\n",
       "      <td>37.00000</td>\n",
       "      <td>32.347443</td>\n",
       "      <td>117.818760</td>\n",
       "      <td>1.904048</td>\n",
       "    </tr>\n",
       "    <tr>\n",
       "      <th>131</th>\n",
       "      <td>69.781006</td>\n",
       "      <td>13.777465</td>\n",
       "      <td>58.00000</td>\n",
       "      <td>56.003541</td>\n",
       "      <td>118.930666</td>\n",
       "      <td>17.914560</td>\n",
       "    </tr>\n",
       "    <tr>\n",
       "      <th>133</th>\n",
       "      <td>81.754419</td>\n",
       "      <td>20.123466</td>\n",
       "      <td>70.56044</td>\n",
       "      <td>61.630954</td>\n",
       "      <td>119.425086</td>\n",
       "      <td>55.506889</td>\n",
       "    </tr>\n",
       "  </tbody>\n",
       "</table>\n",
       "</div>"
      ],
      "text/plain": [
       "     pelvic_incidence  pelvic_tilt numeric  lumbar_lordosis_angle  \\\n",
       "251         40.746996             1.835524               50.00000   \n",
       "66          78.491730            22.181798               60.00000   \n",
       "272         39.358705             7.011262               37.00000   \n",
       "131         69.781006            13.777465               58.00000   \n",
       "133         81.754419            20.123466               70.56044   \n",
       "\n",
       "     sacral_slope  pelvic_radius  degree_spondylolisthesis  \n",
       "251     38.911472     139.247150                  0.668557  \n",
       "66      56.309932     118.530327                 27.383213  \n",
       "272     32.347443     117.818760                  1.904048  \n",
       "131     56.003541     118.930666                 17.914560  \n",
       "133     61.630954     119.425086                 55.506889  "
      ]
     },
     "execution_count": 134,
     "metadata": {},
     "output_type": "execute_result"
    }
   ],
   "source": [
    "X = data2.loc[:,'pelvic_incidence':'degree_spondylolisthesis'] # features\n",
    "y = data2.loc[:,'class'] # target label\n",
    "X.head()"
   ]
  },
  {
   "cell_type": "markdown",
   "metadata": {},
   "source": [
    "## Separating training and testing data"
   ]
  },
  {
   "cell_type": "code",
   "execution_count": 135,
   "metadata": {
    "collapsed": true
   },
   "outputs": [],
   "source": [
    "X_train, X_test  = X[:210], X[210:] # training and testing features\n",
    "y_train, y_test = y[:210], y[210:] # training and testing labels"
   ]
  },
  {
   "cell_type": "markdown",
   "metadata": {},
   "source": [
    "## Applying Support Vecrot machine with 'rbf' kernel"
   ]
  },
  {
   "cell_type": "code",
   "execution_count": 136,
   "metadata": {},
   "outputs": [
    {
     "data": {
      "text/plain": [
       "SVC(C=50, cache_size=200, class_weight=None, coef0=0.0,\n",
       "  decision_function_shape='ovr', degree=3, gamma=0.0001, kernel='rbf',\n",
       "  max_iter=-1, probability=False, random_state=None, shrinking=True,\n",
       "  tol=0.001, verbose=False)"
      ]
     },
     "execution_count": 136,
     "metadata": {},
     "output_type": "execute_result"
    }
   ],
   "source": [
    "clf = SVC(kernel='rbf', gamma = 0.0001, C=50)  # Defining SVC object\n",
    "clf.fit(X_train,y_train)    # Fitting the training and testing data"
   ]
  },
  {
   "cell_type": "markdown",
   "metadata": {},
   "source": [
    "### Implemented SVM with 'rbf' kernel, using value of gamma value = 0.001 and C value = 50"
   ]
  },
  {
   "cell_type": "markdown",
   "metadata": {},
   "source": [
    "## Answer 2(a)."
   ]
  },
  {
   "cell_type": "markdown",
   "metadata": {},
   "source": [
    "## Displaying the support vectors"
   ]
  },
  {
   "cell_type": "code",
   "execution_count": 137,
   "metadata": {
    "collapsed": true
   },
   "outputs": [],
   "source": [
    "sup_vec = clf.support_vectors_   # List of support vectors\n",
    "no_sup_vec = clf.support_        # Indices of support vectors"
   ]
  },
  {
   "cell_type": "code",
   "execution_count": 138,
   "metadata": {},
   "outputs": [
    {
     "data": {
      "text/plain": [
       "array([[ 69.78100617,  13.77746531,  57.99999999,  56.00354085,\n",
       "        118.9306656 ,  17.91456046],\n",
       "       [ 48.10923638,  14.93072472,  35.56468278,  33.17851166,\n",
       "        124.0564518 ,   7.94790486],\n",
       "       [ 35.70345781,  19.44325311,  20.7       ,  16.26020471,\n",
       "        137.5406125 ,  -0.26348965],\n",
       "       [ 72.07627839,  18.94617604,  50.99999999,  53.13010236,\n",
       "        114.2130126 ,   1.01004051],\n",
       "       [ 76.1472121 ,  21.93618556,  82.96150249,  54.21102654,\n",
       "        123.9320096 ,  10.43197194],\n",
       "       [ 38.66325708,  12.98644139,  39.99999999,  25.67681568,\n",
       "        124.914118  ,   2.70300805],\n",
       "       [ 46.85578065,  15.35151393,  38.        ,  31.50426672,\n",
       "        116.2509174 ,   1.66270559],\n",
       "       [ 41.35250407,  16.57736351,  30.70619135,  24.77514057,\n",
       "        113.2666746 ,  -4.49795756],\n",
       "       [ 40.55735663,  17.97778407,  34.        ,  22.57957256,\n",
       "        121.0462458 ,  -1.53738307],\n",
       "       [ 45.54078988,  13.06959759,  30.29832059,  32.47119229,\n",
       "        117.9808303 ,  -4.98712962],\n",
       "       [ 50.91244034,  23.01516931,  46.99999999,  27.89727103,\n",
       "        117.4222591 ,  -2.52670151],\n",
       "       [ 64.80954139,  15.17407796,  58.83999352,  49.63546343,\n",
       "        111.679961  ,  21.40719845],\n",
       "       [ 68.83202098,  22.21848205,  50.09219357,  46.61353893,\n",
       "        105.9851355 ,  -3.53031731],\n",
       "       [ 53.94165809,   9.30659443,  43.10049819,  44.63506366,\n",
       "        124.3978211 ,  25.0821266 ],\n",
       "       [ 32.09098679,   6.98937808,  35.99819848,  25.10160871,\n",
       "        132.264735  ,   6.41342771],\n",
       "       [ 78.40125389,  14.04225971,  79.69426258,  64.35899418,\n",
       "        104.7312342 ,  12.39285327],\n",
       "       [ 41.72996308,  12.25407408,  30.12258646,  29.475889  ,\n",
       "        116.5857056 ,  -1.24440249],\n",
       "       [ 50.81926781,  15.40221253,  42.52893886,  35.41705528,\n",
       "        112.192804  ,  10.86956554],\n",
       "       [ 52.41938511,  19.01156052,  35.87265953,  33.40782459,\n",
       "        116.5597709 ,   1.6947051 ],\n",
       "       [ 65.00796426,  27.60260762,  50.94751899,  37.40535663,\n",
       "        116.5811088 ,   7.01597788],\n",
       "       [ 55.84328595,  28.84744756,  47.69054322,  26.99583839,\n",
       "        123.3118449 ,   2.81242686],\n",
       "       [ 65.53600255,  24.15748726,  45.77516991,  41.3785153 ,\n",
       "        136.4403015 ,  16.37808564],\n",
       "       [ 53.85479842,  19.23064334,  32.77905978,  34.62415508,\n",
       "        121.6709148 ,   5.3298432 ],\n",
       "       [ 63.0278175 ,  22.55258597,  39.60911701,  40.47523153,\n",
       "         98.67291675,  -0.25439999],\n",
       "       [ 40.25019968,  13.92190658,  25.1249496 ,  26.32829311,\n",
       "        130.3278713 ,   2.23065173],\n",
       "       [ 44.529051  ,   9.43323421,  51.99999999,  35.09581679,\n",
       "        134.7117723 ,  29.10657504],\n",
       "       [ 39.05695098,  10.06099147,  25.01537822,  28.99595951,\n",
       "        114.4054254 ,   4.56425864],\n",
       "       [ 44.93667457,  17.44383762,  27.78057555,  27.49283695,\n",
       "        117.9803245 ,   5.56961959],\n",
       "       [ 45.36675362,  10.75561143,  29.03834896,  34.61114218,\n",
       "        117.2700675 , -10.67587083],\n",
       "       [ 37.90391014,   4.47909896,  24.71027447,  33.42481118,\n",
       "        157.848799  ,  33.60702661],\n",
       "       [ 43.92283983,  14.17795853,  37.8325467 ,  29.7448813 ,\n",
       "        134.4610156 ,   6.45164764],\n",
       "       [ 43.79019026,  13.5337531 ,  42.69081398,  30.25643716,\n",
       "        125.0028927 ,  13.28901817],\n",
       "       [ 41.17167989,  17.32120599,  33.46940277,  23.85047391,\n",
       "        116.3778894 ,  -9.56924986],\n",
       "       [ 31.48421834,   7.82622134,  24.28481815,  23.657997  ,\n",
       "        113.8331446 ,   4.3930805 ],\n",
       "       [ 39.35870531,   7.01126181,  37.        ,  32.3474435 ,\n",
       "        117.8187599 ,   1.9040482 ],\n",
       "       [ 64.26150724,  14.49786554,  43.90250363,  49.76364169,\n",
       "        115.3882683 ,   5.95145437],\n",
       "       [ 37.14014978,  16.48123972,  24.        ,  20.65891006,\n",
       "        125.0143609 ,   7.3664254 ],\n",
       "       [ 57.1458515 ,  16.48909145,  42.84214764,  40.65676005,\n",
       "        113.8061775 ,   5.0151857 ],\n",
       "       [ 53.93674778,  20.72149628,  29.22053381,  33.21525149,\n",
       "        114.365845  ,  -0.42101039],\n",
       "       [ 89.83467631,  22.63921678,  90.56346144,  67.19545953,\n",
       "        100.5011917 ,   3.04097326],\n",
       "       [ 48.90290434,   5.58758866,  55.49999999,  43.31531568,\n",
       "        137.1082886 ,  19.85475919],\n",
       "       [ 56.10377352,  13.10630665,  62.63701952,  42.99746687,\n",
       "        116.2285032 ,  31.17276727],\n",
       "       [ 48.80190855,  18.01776202,  51.99999999,  30.78414653,\n",
       "        139.1504066 ,  10.44286169],\n",
       "       [ 67.53818154,  14.65504222,  58.00142908,  52.88313932,\n",
       "        123.6322597 ,  25.9702063 ],\n",
       "       [ 49.82813487,  16.73643493,  28.        ,  33.09169994,\n",
       "        121.4355585 ,   1.91330704],\n",
       "       [ 64.31186727,  26.32836901,  50.95896417,  37.98349826,\n",
       "        106.1777511 ,   3.11822129],\n",
       "       [ 33.04168754,  -0.32467846,  19.0710746 ,  33.366366  ,\n",
       "        120.3886112 ,   9.35436493],\n",
       "       [ 89.01487529,  26.07598143,  69.02125897,  62.93889386,\n",
       "        111.4810746 ,   6.0615084 ],\n",
       "       [ 37.7319919 ,   9.38629828,  41.99999999,  28.34569362,\n",
       "        135.740926  ,  13.68304672],\n",
       "       [ 63.79242525,  21.34532339,  65.99999999,  42.44710185,\n",
       "        119.5503909 ,  12.38260373],\n",
       "       [ 82.90535054,  29.89411893,  58.25054221,  53.01123161,\n",
       "        110.7089577 ,   6.07933783],\n",
       "       [ 42.51727249,  14.37567126,  25.32356538,  28.14160123,\n",
       "        128.9056892 ,   0.75702014],\n",
       "       [ 45.57548229,  18.75913544,  33.77414297,  26.81634684,\n",
       "        116.7970069 ,   3.13190992],\n",
       "       [ 74.97602148,  14.92170492,  53.73007172,  60.05431656,\n",
       "        105.6453997 ,   1.59474773],\n",
       "       [ 43.1919153 ,   9.9766638 ,  28.93814927,  33.21525149,\n",
       "        123.4674001 ,   1.74101758],\n",
       "       [ 61.54059876,  19.67695713,  52.89222856,  41.86364163,\n",
       "        118.6862678 ,   4.81503108],\n",
       "       [ 43.11795103,  13.81574355,  40.34738779,  29.30220748,\n",
       "        128.5177217 ,   0.97092641],\n",
       "       [ 44.48927476,  21.78643263,  31.47415392,  22.70284212,\n",
       "        113.7784936 ,  -0.28412937],\n",
       "       [ 39.65690201,  16.20883944,  36.67485694,  23.44806258,\n",
       "        131.922009  ,  -4.96897988],\n",
       "       [ 41.6469159 ,   8.8355491 ,  36.03197484,  32.8113668 ,\n",
       "        116.5551679 ,  -6.05453796],\n",
       "       [ 48.3189305 ,  17.45212105,  47.99999999,  30.86680945,\n",
       "        128.9803079 ,  -0.91094057],\n",
       "       [ 50.75329025,  20.23505957,  37.        ,  30.51823068,\n",
       "        122.343516  ,   2.28848775],\n",
       "       [ 54.60031622,  21.48897426,  29.36021618,  33.11134196,\n",
       "        118.3433212 ,  -1.47106726],\n",
       "       [ 63.02630005,  27.33624023,  51.60501665,  35.69005983,\n",
       "        114.5066078 ,   7.4398698 ],\n",
       "       [ 30.74193812,  13.35496594,  35.90352597,  17.38697218,\n",
       "        142.4101072 ,  -2.0053729 ],\n",
       "       [ 47.90356517,  13.61668819,  36.        ,  34.28687698,\n",
       "        117.4490622 ,  -4.24539542],\n",
       "       [ 36.42248549,  13.87942449,  20.24256187,  22.543061  ,\n",
       "        126.0768612 ,   0.17971708]])"
      ]
     },
     "execution_count": 138,
     "metadata": {},
     "output_type": "execute_result"
    }
   ],
   "source": [
    "sup_vec      # All the support vectors"
   ]
  },
  {
   "cell_type": "markdown",
   "metadata": {},
   "source": [
    "## Number of Support Vectors for each class"
   ]
  },
  {
   "cell_type": "code",
   "execution_count": 139,
   "metadata": {},
   "outputs": [
    {
     "data": {
      "text/plain": [
       "array([34, 33])"
      ]
     },
     "execution_count": 139,
     "metadata": {},
     "output_type": "execute_result"
    }
   ],
   "source": [
    "clf.n_support_  "
   ]
  },
  {
   "cell_type": "code",
   "execution_count": 140,
   "metadata": {},
   "outputs": [
    {
     "data": {
      "text/plain": [
       "array([  3,   5,   6,  14,  32,  34,  36,  37,  43,  44,  48,  49,  54,\n",
       "        58,  64,  72,  82,  87, 102, 106, 116, 120, 123, 125, 131, 140,\n",
       "       144, 150, 155, 166, 167, 168, 200, 204,   2,   9,  16,  17,  22,\n",
       "        23,  26,  27,  46,  50,  56,  60,  73,  80,  86,  88, 100, 103,\n",
       "       105, 111, 121, 124, 135, 137, 141, 173, 177, 180, 191, 194, 205,\n",
       "       206, 207])"
      ]
     },
     "execution_count": 140,
     "metadata": {},
     "output_type": "execute_result"
    }
   ],
   "source": [
    "no_sup_vec    # Indices of support vectors"
   ]
  },
  {
   "cell_type": "code",
   "execution_count": 141,
   "metadata": {},
   "outputs": [
    {
     "data": {
      "text/plain": [
       "array(['Abnormal', 'Abnormal', 'Abnormal', 'Abnormal', 'Abnormal',\n",
       "       'Abnormal', 'Abnormal', 'Abnormal', 'Abnormal', 'Abnormal',\n",
       "       'Abnormal', 'Abnormal', 'Abnormal', 'Abnormal', 'Abnormal',\n",
       "       'Abnormal', 'Abnormal', 'Abnormal', 'Abnormal', 'Abnormal',\n",
       "       'Abnormal', 'Abnormal', 'Abnormal', 'Abnormal', 'Abnormal',\n",
       "       'Abnormal', 'Abnormal', 'Abnormal', 'Abnormal', 'Abnormal',\n",
       "       'Abnormal', 'Abnormal', 'Abnormal', 'Abnormal', 'Normal', 'Normal',\n",
       "       'Normal', 'Normal', 'Normal', 'Normal', 'Normal', 'Normal',\n",
       "       'Normal', 'Normal', 'Normal', 'Normal', 'Normal', 'Normal',\n",
       "       'Normal', 'Normal', 'Normal', 'Normal', 'Normal', 'Normal',\n",
       "       'Normal', 'Normal', 'Normal', 'Normal', 'Normal', 'Normal',\n",
       "       'Normal', 'Normal', 'Normal', 'Normal', 'Normal', 'Normal',\n",
       "       'Normal'], dtype='<U8')"
      ]
     },
     "execution_count": 141,
     "metadata": {},
     "output_type": "execute_result"
    }
   ],
   "source": [
    "ar = np.asarray(y_train)\n",
    "b = []\n",
    "for i in no_sup_vec:\n",
    "    b.append(ar[i])\n",
    "b = np.array(b)\n",
    "b"
   ]
  },
  {
   "cell_type": "code",
   "execution_count": 142,
   "metadata": {},
   "outputs": [],
   "source": [
    "A  = pd.DataFrame(sup_vec, columns=['pelvic_incidence','pelvic_tilt numeric','lumbar_lordosis_angle','sacral_slope',\n",
    "                                    'pelvic_radius','degree_spondylolisthesis'])\n",
    "A['class'] = b"
   ]
  },
  {
   "cell_type": "markdown",
   "metadata": {},
   "source": [
    "## Support vectors for Abnormal class"
   ]
  },
  {
   "cell_type": "code",
   "execution_count": 143,
   "metadata": {},
   "outputs": [
    {
     "data": {
      "text/html": [
       "<div>\n",
       "<style>\n",
       "    .dataframe thead tr:only-child th {\n",
       "        text-align: right;\n",
       "    }\n",
       "\n",
       "    .dataframe thead th {\n",
       "        text-align: left;\n",
       "    }\n",
       "\n",
       "    .dataframe tbody tr th {\n",
       "        vertical-align: top;\n",
       "    }\n",
       "</style>\n",
       "<table border=\"1\" class=\"dataframe\">\n",
       "  <thead>\n",
       "    <tr style=\"text-align: right;\">\n",
       "      <th></th>\n",
       "      <th>pelvic_incidence</th>\n",
       "      <th>pelvic_tilt numeric</th>\n",
       "      <th>lumbar_lordosis_angle</th>\n",
       "      <th>sacral_slope</th>\n",
       "      <th>pelvic_radius</th>\n",
       "      <th>degree_spondylolisthesis</th>\n",
       "      <th>class</th>\n",
       "    </tr>\n",
       "  </thead>\n",
       "  <tbody>\n",
       "    <tr>\n",
       "      <th>0</th>\n",
       "      <td>69.781006</td>\n",
       "      <td>13.777465</td>\n",
       "      <td>58.000000</td>\n",
       "      <td>56.003541</td>\n",
       "      <td>118.930666</td>\n",
       "      <td>17.914560</td>\n",
       "      <td>Abnormal</td>\n",
       "    </tr>\n",
       "    <tr>\n",
       "      <th>1</th>\n",
       "      <td>48.109236</td>\n",
       "      <td>14.930725</td>\n",
       "      <td>35.564683</td>\n",
       "      <td>33.178512</td>\n",
       "      <td>124.056452</td>\n",
       "      <td>7.947905</td>\n",
       "      <td>Abnormal</td>\n",
       "    </tr>\n",
       "    <tr>\n",
       "      <th>2</th>\n",
       "      <td>35.703458</td>\n",
       "      <td>19.443253</td>\n",
       "      <td>20.700000</td>\n",
       "      <td>16.260205</td>\n",
       "      <td>137.540613</td>\n",
       "      <td>-0.263490</td>\n",
       "      <td>Abnormal</td>\n",
       "    </tr>\n",
       "    <tr>\n",
       "      <th>3</th>\n",
       "      <td>72.076278</td>\n",
       "      <td>18.946176</td>\n",
       "      <td>51.000000</td>\n",
       "      <td>53.130102</td>\n",
       "      <td>114.213013</td>\n",
       "      <td>1.010041</td>\n",
       "      <td>Abnormal</td>\n",
       "    </tr>\n",
       "    <tr>\n",
       "      <th>4</th>\n",
       "      <td>76.147212</td>\n",
       "      <td>21.936186</td>\n",
       "      <td>82.961502</td>\n",
       "      <td>54.211027</td>\n",
       "      <td>123.932010</td>\n",
       "      <td>10.431972</td>\n",
       "      <td>Abnormal</td>\n",
       "    </tr>\n",
       "    <tr>\n",
       "      <th>5</th>\n",
       "      <td>38.663257</td>\n",
       "      <td>12.986441</td>\n",
       "      <td>40.000000</td>\n",
       "      <td>25.676816</td>\n",
       "      <td>124.914118</td>\n",
       "      <td>2.703008</td>\n",
       "      <td>Abnormal</td>\n",
       "    </tr>\n",
       "    <tr>\n",
       "      <th>6</th>\n",
       "      <td>46.855781</td>\n",
       "      <td>15.351514</td>\n",
       "      <td>38.000000</td>\n",
       "      <td>31.504267</td>\n",
       "      <td>116.250917</td>\n",
       "      <td>1.662706</td>\n",
       "      <td>Abnormal</td>\n",
       "    </tr>\n",
       "    <tr>\n",
       "      <th>7</th>\n",
       "      <td>41.352504</td>\n",
       "      <td>16.577364</td>\n",
       "      <td>30.706191</td>\n",
       "      <td>24.775141</td>\n",
       "      <td>113.266675</td>\n",
       "      <td>-4.497958</td>\n",
       "      <td>Abnormal</td>\n",
       "    </tr>\n",
       "    <tr>\n",
       "      <th>8</th>\n",
       "      <td>40.557357</td>\n",
       "      <td>17.977784</td>\n",
       "      <td>34.000000</td>\n",
       "      <td>22.579573</td>\n",
       "      <td>121.046246</td>\n",
       "      <td>-1.537383</td>\n",
       "      <td>Abnormal</td>\n",
       "    </tr>\n",
       "    <tr>\n",
       "      <th>9</th>\n",
       "      <td>45.540790</td>\n",
       "      <td>13.069598</td>\n",
       "      <td>30.298321</td>\n",
       "      <td>32.471192</td>\n",
       "      <td>117.980830</td>\n",
       "      <td>-4.987130</td>\n",
       "      <td>Abnormal</td>\n",
       "    </tr>\n",
       "  </tbody>\n",
       "</table>\n",
       "</div>"
      ],
      "text/plain": [
       "   pelvic_incidence  pelvic_tilt numeric  lumbar_lordosis_angle  sacral_slope  \\\n",
       "0         69.781006            13.777465              58.000000     56.003541   \n",
       "1         48.109236            14.930725              35.564683     33.178512   \n",
       "2         35.703458            19.443253              20.700000     16.260205   \n",
       "3         72.076278            18.946176              51.000000     53.130102   \n",
       "4         76.147212            21.936186              82.961502     54.211027   \n",
       "5         38.663257            12.986441              40.000000     25.676816   \n",
       "6         46.855781            15.351514              38.000000     31.504267   \n",
       "7         41.352504            16.577364              30.706191     24.775141   \n",
       "8         40.557357            17.977784              34.000000     22.579573   \n",
       "9         45.540790            13.069598              30.298321     32.471192   \n",
       "\n",
       "   pelvic_radius  degree_spondylolisthesis     class  \n",
       "0     118.930666                 17.914560  Abnormal  \n",
       "1     124.056452                  7.947905  Abnormal  \n",
       "2     137.540613                 -0.263490  Abnormal  \n",
       "3     114.213013                  1.010041  Abnormal  \n",
       "4     123.932010                 10.431972  Abnormal  \n",
       "5     124.914118                  2.703008  Abnormal  \n",
       "6     116.250917                  1.662706  Abnormal  \n",
       "7     113.266675                 -4.497958  Abnormal  \n",
       "8     121.046246                 -1.537383  Abnormal  \n",
       "9     117.980830                 -4.987130  Abnormal  "
      ]
     },
     "execution_count": 143,
     "metadata": {},
     "output_type": "execute_result"
    }
   ],
   "source": [
    "A[A['class']==\"Abnormal\"][:10]"
   ]
  },
  {
   "cell_type": "markdown",
   "metadata": {},
   "source": [
    "## Support vectors for Normal class"
   ]
  },
  {
   "cell_type": "code",
   "execution_count": 144,
   "metadata": {},
   "outputs": [
    {
     "data": {
      "text/html": [
       "<div>\n",
       "<style>\n",
       "    .dataframe thead tr:only-child th {\n",
       "        text-align: right;\n",
       "    }\n",
       "\n",
       "    .dataframe thead th {\n",
       "        text-align: left;\n",
       "    }\n",
       "\n",
       "    .dataframe tbody tr th {\n",
       "        vertical-align: top;\n",
       "    }\n",
       "</style>\n",
       "<table border=\"1\" class=\"dataframe\">\n",
       "  <thead>\n",
       "    <tr style=\"text-align: right;\">\n",
       "      <th></th>\n",
       "      <th>pelvic_incidence</th>\n",
       "      <th>pelvic_tilt numeric</th>\n",
       "      <th>lumbar_lordosis_angle</th>\n",
       "      <th>sacral_slope</th>\n",
       "      <th>pelvic_radius</th>\n",
       "      <th>degree_spondylolisthesis</th>\n",
       "      <th>class</th>\n",
       "    </tr>\n",
       "  </thead>\n",
       "  <tbody>\n",
       "    <tr>\n",
       "      <th>34</th>\n",
       "      <td>39.358705</td>\n",
       "      <td>7.011262</td>\n",
       "      <td>37.000000</td>\n",
       "      <td>32.347443</td>\n",
       "      <td>117.818760</td>\n",
       "      <td>1.904048</td>\n",
       "      <td>Normal</td>\n",
       "    </tr>\n",
       "    <tr>\n",
       "      <th>35</th>\n",
       "      <td>64.261507</td>\n",
       "      <td>14.497866</td>\n",
       "      <td>43.902504</td>\n",
       "      <td>49.763642</td>\n",
       "      <td>115.388268</td>\n",
       "      <td>5.951454</td>\n",
       "      <td>Normal</td>\n",
       "    </tr>\n",
       "    <tr>\n",
       "      <th>36</th>\n",
       "      <td>37.140150</td>\n",
       "      <td>16.481240</td>\n",
       "      <td>24.000000</td>\n",
       "      <td>20.658910</td>\n",
       "      <td>125.014361</td>\n",
       "      <td>7.366425</td>\n",
       "      <td>Normal</td>\n",
       "    </tr>\n",
       "    <tr>\n",
       "      <th>37</th>\n",
       "      <td>57.145851</td>\n",
       "      <td>16.489091</td>\n",
       "      <td>42.842148</td>\n",
       "      <td>40.656760</td>\n",
       "      <td>113.806177</td>\n",
       "      <td>5.015186</td>\n",
       "      <td>Normal</td>\n",
       "    </tr>\n",
       "    <tr>\n",
       "      <th>38</th>\n",
       "      <td>53.936748</td>\n",
       "      <td>20.721496</td>\n",
       "      <td>29.220534</td>\n",
       "      <td>33.215251</td>\n",
       "      <td>114.365845</td>\n",
       "      <td>-0.421010</td>\n",
       "      <td>Normal</td>\n",
       "    </tr>\n",
       "    <tr>\n",
       "      <th>39</th>\n",
       "      <td>89.834676</td>\n",
       "      <td>22.639217</td>\n",
       "      <td>90.563461</td>\n",
       "      <td>67.195460</td>\n",
       "      <td>100.501192</td>\n",
       "      <td>3.040973</td>\n",
       "      <td>Normal</td>\n",
       "    </tr>\n",
       "    <tr>\n",
       "      <th>40</th>\n",
       "      <td>48.902904</td>\n",
       "      <td>5.587589</td>\n",
       "      <td>55.500000</td>\n",
       "      <td>43.315316</td>\n",
       "      <td>137.108289</td>\n",
       "      <td>19.854759</td>\n",
       "      <td>Normal</td>\n",
       "    </tr>\n",
       "    <tr>\n",
       "      <th>41</th>\n",
       "      <td>56.103774</td>\n",
       "      <td>13.106307</td>\n",
       "      <td>62.637020</td>\n",
       "      <td>42.997467</td>\n",
       "      <td>116.228503</td>\n",
       "      <td>31.172767</td>\n",
       "      <td>Normal</td>\n",
       "    </tr>\n",
       "    <tr>\n",
       "      <th>42</th>\n",
       "      <td>48.801909</td>\n",
       "      <td>18.017762</td>\n",
       "      <td>52.000000</td>\n",
       "      <td>30.784147</td>\n",
       "      <td>139.150407</td>\n",
       "      <td>10.442862</td>\n",
       "      <td>Normal</td>\n",
       "    </tr>\n",
       "    <tr>\n",
       "      <th>43</th>\n",
       "      <td>67.538182</td>\n",
       "      <td>14.655042</td>\n",
       "      <td>58.001429</td>\n",
       "      <td>52.883139</td>\n",
       "      <td>123.632260</td>\n",
       "      <td>25.970206</td>\n",
       "      <td>Normal</td>\n",
       "    </tr>\n",
       "  </tbody>\n",
       "</table>\n",
       "</div>"
      ],
      "text/plain": [
       "    pelvic_incidence  pelvic_tilt numeric  lumbar_lordosis_angle  \\\n",
       "34         39.358705             7.011262              37.000000   \n",
       "35         64.261507            14.497866              43.902504   \n",
       "36         37.140150            16.481240              24.000000   \n",
       "37         57.145851            16.489091              42.842148   \n",
       "38         53.936748            20.721496              29.220534   \n",
       "39         89.834676            22.639217              90.563461   \n",
       "40         48.902904             5.587589              55.500000   \n",
       "41         56.103774            13.106307              62.637020   \n",
       "42         48.801909            18.017762              52.000000   \n",
       "43         67.538182            14.655042              58.001429   \n",
       "\n",
       "    sacral_slope  pelvic_radius  degree_spondylolisthesis   class  \n",
       "34     32.347443     117.818760                  1.904048  Normal  \n",
       "35     49.763642     115.388268                  5.951454  Normal  \n",
       "36     20.658910     125.014361                  7.366425  Normal  \n",
       "37     40.656760     113.806177                  5.015186  Normal  \n",
       "38     33.215251     114.365845                 -0.421010  Normal  \n",
       "39     67.195460     100.501192                  3.040973  Normal  \n",
       "40     43.315316     137.108289                 19.854759  Normal  \n",
       "41     42.997467     116.228503                 31.172767  Normal  \n",
       "42     30.784147     139.150407                 10.442862  Normal  \n",
       "43     52.883139     123.632260                 25.970206  Normal  "
      ]
     },
     "execution_count": 144,
     "metadata": {},
     "output_type": "execute_result"
    }
   ],
   "source": [
    "A[A['class']==\"Normal\"][:10]"
   ]
  },
  {
   "cell_type": "markdown",
   "metadata": {},
   "source": [
    "### Inference from Support Vectors:\n",
    "### The range of values for some attributes, for both classes is comparable and based on these support vectors an appropriate decision boundary with a specific margin will be idenfied by the classifier to separate two classes."
   ]
  },
  {
   "cell_type": "markdown",
   "metadata": {},
   "source": [
    "## Evaluatining the model"
   ]
  },
  {
   "cell_type": "code",
   "execution_count": 145,
   "metadata": {},
   "outputs": [
    {
     "name": "stdout",
     "output_type": "stream",
     "text": [
      "             precision    recall  f1-score   support\n",
      "\n",
      "   Abnormal       0.82      0.93      0.87        58\n",
      "     Normal       0.88      0.71      0.79        42\n",
      "\n",
      "avg / total       0.85      0.84      0.84       100\n",
      "\n"
     ]
    }
   ],
   "source": [
    "pred = clf.predict(X_test)\n",
    "class_name = ['Abnormal', 'Normal']\n",
    "print(classification_report(pred,y_test, target_names=class_name))"
   ]
  },
  {
   "cell_type": "code",
   "execution_count": 146,
   "metadata": {},
   "outputs": [
    {
     "data": {
      "text/plain": [
       "0.84"
      ]
     },
     "execution_count": 146,
     "metadata": {},
     "output_type": "execute_result"
    }
   ],
   "source": [
    "acc = accuracy_score(y_test, pred, normalize=True, sample_weight=None)  # Accuracy\n",
    "acc"
   ]
  },
  {
   "cell_type": "markdown",
   "metadata": {
    "collapsed": true
   },
   "source": [
    "## Confusion Matrix"
   ]
  },
  {
   "cell_type": "code",
   "execution_count": 147,
   "metadata": {},
   "outputs": [
    {
     "data": {
      "text/plain": [
       "Text(91.68,0.5,'predicted label')"
      ]
     },
     "execution_count": 147,
     "metadata": {},
     "output_type": "execute_result"
    },
    {
     "data": {
      "image/png": "[encoded data removed]",
      "text/plain": [
       "<matplotlib.figure.Figure at 0x1443b4745f8>"
      ]
     },
     "metadata": {},
     "output_type": "display_data"
    }
   ],
   "source": [
    "conf = confusion_matrix(y_test, pred) \n",
    "sns.heatmap(conf.T, square=True, annot=True, fmt='d', cbar=False, xticklabels=class_name, yticklabels=class_name, cmap='hot') \n",
    "plt.title(\"Confusion Matrix\")\n",
    "plt.xlabel('true label') \n",
    "plt.ylabel('predicted label')"
   ]
  },
  {
   "cell_type": "markdown",
   "metadata": {},
   "source": [
    "## Answer 2(b)."
   ]
  },
  {
   "cell_type": "markdown",
   "metadata": {},
   "source": [
    "## Applying SVM with 'rbf' kernel for 5 iterations and displaying confusion matrix for each"
   ]
  },
  {
   "cell_type": "code",
   "execution_count": 148,
   "metadata": {},
   "outputs": [
    {
     "name": "stdout",
     "output_type": "stream",
     "text": [
      "\n",
      " ITERATION 0:\n",
      "\n"
     ]
    },
    {
     "data": {
      "image/png": "[encoded data removed]",
      "text/plain": [
       "<matplotlib.figure.Figure at 0x1443b372b00>"
      ]
     },
     "metadata": {},
     "output_type": "display_data"
    },
    {
     "name": "stdout",
     "output_type": "stream",
     "text": [
      "\n",
      " ITERATION 1:\n",
      "\n"
     ]
    },
    {
     "data": {
      "image/png": "[encoded data removed]",
      "text/plain": [
       "<matplotlib.figure.Figure at 0x1443b036c18>"
      ]
     },
     "metadata": {},
     "output_type": "display_data"
    },
    {
     "name": "stdout",
     "output_type": "stream",
     "text": [
      "\n",
      " ITERATION 2:\n",
      "\n"
     ]
    },
    {
     "data": {
      "image/png": "[encoded data removed]",
      "text/plain": [
       "<matplotlib.figure.Figure at 0x1443b4ea0f0>"
      ]
     },
     "metadata": {},
     "output_type": "display_data"
    },
    {
     "name": "stdout",
     "output_type": "stream",
     "text": [
      "\n",
      " ITERATION 3:\n",
      "\n"
     ]
    },
    {
     "data": {
      "image/png": "[encoded data removed]",
      "text/plain": [
       "<matplotlib.figure.Figure at 0x1443b0ba048>"
      ]
     },
     "metadata": {},
     "output_type": "display_data"
    },
    {
     "name": "stdout",
     "output_type": "stream",
     "text": [
      "\n",
      " ITERATION 4:\n",
      "\n"
     ]
    },
    {
     "data": {
      "image/png": "[encoded data removed]",
      "text/plain": [
       "<matplotlib.figure.Figure at 0x1443b38ec88>"
      ]
     },
     "metadata": {},
     "output_type": "display_data"
    }
   ],
   "source": [
    "true_positive = []\n",
    "true_negative = []\n",
    "false_positive = []\n",
    "false_negative = []\n",
    "for a in range(5):\n",
    "    print(\"\\n ITERATION \" + str(a) +\":\\n\")\n",
    "    data2 = shuffle(data2)\n",
    "    X = data2.loc[:,'pelvic_incidence':'degree_spondylolisthesis']\n",
    "    y = data2.loc[:,'class']\n",
    "    X_train,X_test,y_train,y_test = X[:210] , X[210:], y[:210] , y[210:]\n",
    "    clf = SVC(kernel='rbf', gamma = 0.0001, C=50)\n",
    "    clf.fit(X_train,y_train)\n",
    "    pred = clf.predict(X_test)\n",
    "    conf = confusion_matrix(y_test, pred)\n",
    "    true_negative.append(conf[0,0])\n",
    "    false_positive.append(conf[0,1])\n",
    "    false_negative.append(conf[1,0])\n",
    "    true_positive.append(conf[1,1])\n",
    "    sns.heatmap(conf.T, square=True, annot=True, fmt='d', cbar=False, xticklabels=class_name, yticklabels=class_name, cmap='hot') \n",
    "    plt.title(\"Confusion Matrix\")\n",
    "    plt.xlabel('true label') \n",
    "    plt.ylabel('predicted label')\n",
    "    plt.show()"
   ]
  },
  {
   "cell_type": "markdown",
   "metadata": {},
   "source": [
    "## Calculating average values for TP, FP, FN and TN for all 5 iterations"
   ]
  },
  {
   "cell_type": "code",
   "execution_count": 149,
   "metadata": {},
   "outputs": [
    {
     "data": {
      "text/plain": [
       "array([[60.6,  6.4],\n",
       "       [ 6.4, 24.2]])"
      ]
     },
     "execution_count": 149,
     "metadata": {},
     "output_type": "execute_result"
    }
   ],
   "source": [
    "avg_TP = np.mean(true_positive)\n",
    "avg_FP = np.mean(false_positive)\n",
    "avg_TN = np.mean(true_negative)\n",
    "avg_FN = np.mean(false_positive)\n",
    "\n",
    "avg_conf_matrix = np.array([[avg_TN, avg_FP], [avg_FN, avg_TP]])\n",
    "avg_conf_matrix"
   ]
  },
  {
   "cell_type": "markdown",
   "metadata": {},
   "source": [
    "## Confusion matrix with average values of metrices"
   ]
  },
  {
   "cell_type": "code",
   "execution_count": 150,
   "metadata": {},
   "outputs": [
    {
     "data": {
      "image/png": "[encoded data removed]",
      "text/plain": [
       "<matplotlib.figure.Figure at 0x1443b2ff898>"
      ]
     },
     "metadata": {},
     "output_type": "display_data"
    }
   ],
   "source": [
    "conf = confusion_matrix(y_test, pred) \n",
    "sns.heatmap(avg_conf_matrix.T, square=True, annot=True, cbar=False, xticklabels=class_name, yticklabels=class_name, cmap='hot') \n",
    "plt.title(\"Confusion Matrix\")\n",
    "plt.xlabel('true label') \n",
    "plt.ylabel('predicted label')\n",
    "plt.show()"
   ]
  },
  {
   "cell_type": "markdown",
   "metadata": {},
   "source": [
    "## Answer 2 (c)."
   ]
  },
  {
   "cell_type": "markdown",
   "metadata": {},
   "source": [
    "## Calculating average values for Precision, Recall, Fscore and Accuracy"
   ]
  },
  {
   "cell_type": "code",
   "execution_count": 151,
   "metadata": {},
   "outputs": [
    {
     "name": "stdout",
     "output_type": "stream",
     "text": [
      "Average Evaluations:\n",
      "Class\t\tAbnormal\tNormal\t\t\tAverage\n",
      "Precision: 0.9044776119402985\t0.7908496732026143\t0.8476636425714564\n",
      "Recall:\t   0.9044776119402985\t0.7908496732026143\t0.8476636425714564\n",
      "Accuracy:  0.8688524590163933\n"
     ]
    }
   ],
   "source": [
    "Precision_Abnormal = avg_TN/(avg_TN + avg_FN)\n",
    "Precision_Normal = avg_TP/(avg_TP + avg_FP)\n",
    "Average_Precision = (Precision_Abnormal + Precision_Normal) / 2\n",
    "Recall_Abnormal = avg_TN/(avg_TN + avg_FP)\n",
    "Recall_Normal = avg_TP/(avg_TP + avg_FN)\n",
    "Average_Recall = (Recall_Abnormal + Recall_Normal) / 2\n",
    "Accuracy = (avg_TP + avg_TN)/(avg_TP + avg_TN + avg_FP + avg_FN)\n",
    "print(\"Average Evaluations:\")\n",
    "print(\"Class\\t\\tAbnormal\\tNormal\\t\\t\\tAverage\")\n",
    "print(\"Precision: \" + str(Precision_Abnormal) + \"\\t\" + str(Precision_Normal) + \"\\t\" + str(Average_Precision))\n",
    "print(\"Recall:\\t   \" + str(Recall_Abnormal) + \"\\t\" + str(Recall_Normal) + \"\\t\" + str(Average_Recall))\n",
    "print(\"Accuracy:  \" + str(Accuracy))"
   ]
  },
  {
   "cell_type": "markdown",
   "metadata": {},
   "source": [
    "## Answer 3"
   ]
  },
  {
   "cell_type": "markdown",
   "metadata": {},
   "source": [
    "### In question 1(c), a support vector machine classifier was implemented using a 'linear' kernel and using gamma value = auto and C = 1.0. Where as in Question 2(c), SVM classifier is implemented using 'rbf' kernel and used gamma value = 0.0001 and C = 50. \n",
    "### The 'rbf' kernel maps the data into infinite dimenssions and perform classification, so on applying SVM on the given data without altering the gamma and C values all the feature instances became support vectors. It can be deduce from this that the given dataset cannot be linearly separated. To improve the perforamce of this model it is required to alter the values of gamma and C.\n",
    "### After evaluating both kind of SVM in quesion 1 and 2, It can be observed that SVM with 'rbf' kernel has more accuracy as compared to SVM with 'linear' kernel"
   ]
  },
  {
   "cell_type": "markdown",
   "metadata": {},
   "source": [
    "### SVM 'linear' kernel:\n",
    "#### Precision: 0.7864561695056087\n",
    "#### Recall: 0.7864561695056087\n",
    "#### Accuracy: 0.8132295719844359"
   ]
  },
  {
   "cell_type": "markdown",
   "metadata": {},
   "source": [
    "### SVM 'rbf' Kernel:\n",
    "#### Precision: 0.8476636425714564\n",
    "#### Recall: 0.8476636425714564\n",
    "#### Accuracy: 0.8688524590163933"
   ]
  },
  {
   "cell_type": "markdown",
   "metadata": {},
   "source": [
    "### Decision Tree:\n",
    "#### Precision: 0.73\n",
    "#### Recall:  0.69\n",
    "#### Accuracy: 0.80"
   ]
  },
  {
   "cell_type": "markdown",
   "metadata": {},
   "source": [
    "### Decision trees are capable of forming a decision boundary parallel to atleast one axis, which degrades its performance on data which is not linearly separable. In case of SVM decision boundary/hyperplane can be inclined with respect to the axis. Since our data is not linearly separable hence SVM classifier will perform better than decision tree."
   ]
  },
  {
   "cell_type": "markdown",
   "metadata": {},
   "source": [
    "### Order of increase in performance:\n",
    "### Decision Tree < SVM 'linear' < SVM 'rbf'"
   ]
  },
  {
   "cell_type": "code",
   "execution_count": null,
   "metadata": {
    "collapsed": true
   },
   "outputs": [],
   "source": []
  }
 ],
 "metadata": {
  "kernelspec": {
   "display_name": "Python 3",
   "language": "python",
   "name": "python3"
  },
  "language_info": {
   "codemirror_mode": {
    "name": "ipython",
    "version": 3
   },
   "file_extension": ".py",
   "mimetype": "text/x-python",
   "name": "python",
   "nbconvert_exporter": "python",
   "pygments_lexer": "ipython3",
   "version": "3.6.3"
  }
 },
 "nbformat": 4,
 "nbformat_minor": 2
}
