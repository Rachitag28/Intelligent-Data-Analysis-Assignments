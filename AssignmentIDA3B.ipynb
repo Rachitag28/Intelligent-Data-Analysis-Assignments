{
 "cells": [
  {
   "cell_type": "markdown",
   "metadata": {},
   "source": [
    "# Intelligent Data Analysis - Assignment 3B"
   ]
  },
  {
   "cell_type": "markdown",
   "metadata": {},
   "source": [
    "# Rachit Aggarwal - M12506500"
   ]
  },
  {
   "cell_type": "markdown",
   "metadata": {},
   "source": [
    "## Importing libraries"
   ]
  },
  {
   "cell_type": "code",
   "execution_count": 105,
   "metadata": {
    "collapsed": true
   },
   "outputs": [],
   "source": [
    "%matplotlib inline\n",
    "import matplotlib.pyplot as plt  # to plot graphs\n",
    "import pandas as pd\n",
    "import numpy as np               # for numerical calculations\n",
    "from sklearn.utils import shuffle   # to shuffle data\n",
    "from sklearn.model_selection import cross_val_score\n",
    "from sklearn.cluster import KMeans  # to import decision tree function\n",
    "from sklearn.metrics import accuracy_score       # to import accuracy function\n",
    "from scipy.cluster.vq import vq\n",
    "from sklearn.metrics import silhouette_samples, silhouette_score\n",
    "import matplotlib.cm as cm\n",
    "import seaborn as sns\n",
    "from sklearn.metrics import precision_recall_fscore_support, confusion_matrix"
   ]
  },
  {
   "cell_type": "markdown",
   "metadata": {},
   "source": [
    "## Answer 1"
   ]
  },
  {
   "cell_type": "markdown",
   "metadata": {},
   "source": [
    "## Loading the dataset"
   ]
  },
  {
   "cell_type": "code",
   "execution_count": 73,
   "metadata": {},
   "outputs": [
    {
     "data": {
      "text/html": [
       "<div>\n",
       "<style>\n",
       "    .dataframe thead tr:only-child th {\n",
       "        text-align: right;\n",
       "    }\n",
       "\n",
       "    .dataframe thead th {\n",
       "        text-align: left;\n",
       "    }\n",
       "\n",
       "    .dataframe tbody tr th {\n",
       "        vertical-align: top;\n",
       "    }\n",
       "</style>\n",
       "<table border=\"1\" class=\"dataframe\">\n",
       "  <thead>\n",
       "    <tr style=\"text-align: right;\">\n",
       "      <th></th>\n",
       "      <th>ID number</th>\n",
       "      <th>Outcome</th>\n",
       "      <th>Time</th>\n",
       "      <th>radius 1</th>\n",
       "      <th>texture 1</th>\n",
       "      <th>perimeter 1</th>\n",
       "      <th>area 1</th>\n",
       "      <th>smoothness 1</th>\n",
       "      <th>compactness 1</th>\n",
       "      <th>concavity 1</th>\n",
       "      <th>...</th>\n",
       "      <th>perimeter 3</th>\n",
       "      <th>area 3</th>\n",
       "      <th>smoothness 3</th>\n",
       "      <th>compactness 3</th>\n",
       "      <th>concavity 3</th>\n",
       "      <th>concave points 3</th>\n",
       "      <th>symmetry 3</th>\n",
       "      <th>fractal dimension 3</th>\n",
       "      <th>Tumor size</th>\n",
       "      <th>Lymph node status</th>\n",
       "    </tr>\n",
       "  </thead>\n",
       "  <tbody>\n",
       "    <tr>\n",
       "      <th>0</th>\n",
       "      <td>119513</td>\n",
       "      <td>N</td>\n",
       "      <td>31</td>\n",
       "      <td>18.02</td>\n",
       "      <td>27.60</td>\n",
       "      <td>117.50</td>\n",
       "      <td>1013.0</td>\n",
       "      <td>0.09489</td>\n",
       "      <td>0.1036</td>\n",
       "      <td>0.1086</td>\n",
       "      <td>...</td>\n",
       "      <td>139.70</td>\n",
       "      <td>1436.0</td>\n",
       "      <td>0.1195</td>\n",
       "      <td>0.1926</td>\n",
       "      <td>0.3140</td>\n",
       "      <td>0.1170</td>\n",
       "      <td>0.2677</td>\n",
       "      <td>0.08113</td>\n",
       "      <td>5.0</td>\n",
       "      <td>5.0</td>\n",
       "    </tr>\n",
       "    <tr>\n",
       "      <th>1</th>\n",
       "      <td>8423</td>\n",
       "      <td>N</td>\n",
       "      <td>61</td>\n",
       "      <td>17.99</td>\n",
       "      <td>10.38</td>\n",
       "      <td>122.80</td>\n",
       "      <td>1001.0</td>\n",
       "      <td>0.11840</td>\n",
       "      <td>0.2776</td>\n",
       "      <td>0.3001</td>\n",
       "      <td>...</td>\n",
       "      <td>184.60</td>\n",
       "      <td>2019.0</td>\n",
       "      <td>0.1622</td>\n",
       "      <td>0.6656</td>\n",
       "      <td>0.7119</td>\n",
       "      <td>0.2654</td>\n",
       "      <td>0.4601</td>\n",
       "      <td>0.11890</td>\n",
       "      <td>3.0</td>\n",
       "      <td>2.0</td>\n",
       "    </tr>\n",
       "    <tr>\n",
       "      <th>2</th>\n",
       "      <td>842517</td>\n",
       "      <td>N</td>\n",
       "      <td>116</td>\n",
       "      <td>21.37</td>\n",
       "      <td>17.44</td>\n",
       "      <td>137.50</td>\n",
       "      <td>1373.0</td>\n",
       "      <td>0.08836</td>\n",
       "      <td>0.1189</td>\n",
       "      <td>0.1255</td>\n",
       "      <td>...</td>\n",
       "      <td>159.10</td>\n",
       "      <td>1949.0</td>\n",
       "      <td>0.1188</td>\n",
       "      <td>0.3449</td>\n",
       "      <td>0.3414</td>\n",
       "      <td>0.2032</td>\n",
       "      <td>0.4334</td>\n",
       "      <td>0.09067</td>\n",
       "      <td>2.5</td>\n",
       "      <td>0.0</td>\n",
       "    </tr>\n",
       "    <tr>\n",
       "      <th>3</th>\n",
       "      <td>843483</td>\n",
       "      <td>N</td>\n",
       "      <td>123</td>\n",
       "      <td>11.42</td>\n",
       "      <td>20.38</td>\n",
       "      <td>77.58</td>\n",
       "      <td>386.1</td>\n",
       "      <td>0.14250</td>\n",
       "      <td>0.2839</td>\n",
       "      <td>0.2414</td>\n",
       "      <td>...</td>\n",
       "      <td>98.87</td>\n",
       "      <td>567.7</td>\n",
       "      <td>0.2098</td>\n",
       "      <td>0.8663</td>\n",
       "      <td>0.6869</td>\n",
       "      <td>0.2575</td>\n",
       "      <td>0.6638</td>\n",
       "      <td>0.17300</td>\n",
       "      <td>2.0</td>\n",
       "      <td>0.0</td>\n",
       "    </tr>\n",
       "    <tr>\n",
       "      <th>4</th>\n",
       "      <td>843584</td>\n",
       "      <td>R</td>\n",
       "      <td>27</td>\n",
       "      <td>20.29</td>\n",
       "      <td>14.34</td>\n",
       "      <td>135.10</td>\n",
       "      <td>1297.0</td>\n",
       "      <td>0.10030</td>\n",
       "      <td>0.1328</td>\n",
       "      <td>0.1980</td>\n",
       "      <td>...</td>\n",
       "      <td>152.20</td>\n",
       "      <td>1575.0</td>\n",
       "      <td>0.1374</td>\n",
       "      <td>0.2050</td>\n",
       "      <td>0.4000</td>\n",
       "      <td>0.1625</td>\n",
       "      <td>0.2364</td>\n",
       "      <td>0.07678</td>\n",
       "      <td>3.5</td>\n",
       "      <td>0.0</td>\n",
       "    </tr>\n",
       "  </tbody>\n",
       "</table>\n",
       "<p>5 rows × 35 columns</p>\n",
       "</div>"
      ],
      "text/plain": [
       "   ID number Outcome  Time  radius 1  texture 1  perimeter 1  area 1   \\\n",
       "0     119513       N    31     18.02      27.60       117.50   1013.0   \n",
       "1       8423       N    61     17.99      10.38       122.80   1001.0   \n",
       "2     842517       N   116     21.37      17.44       137.50   1373.0   \n",
       "3     843483       N   123     11.42      20.38        77.58    386.1   \n",
       "4     843584       R    27     20.29      14.34       135.10   1297.0   \n",
       "\n",
       "   smoothness 1  compactness 1  concavity 1        ...          perimeter 3  \\\n",
       "0       0.09489         0.1036       0.1086        ...               139.70   \n",
       "1       0.11840         0.2776       0.3001        ...               184.60   \n",
       "2       0.08836         0.1189       0.1255        ...               159.10   \n",
       "3       0.14250         0.2839       0.2414        ...                98.87   \n",
       "4       0.10030         0.1328       0.1980        ...               152.20   \n",
       "\n",
       "   area 3  smoothness 3  compactness 3  concavity 3  concave points 3  \\\n",
       "0  1436.0        0.1195         0.1926       0.3140            0.1170   \n",
       "1  2019.0        0.1622         0.6656       0.7119            0.2654   \n",
       "2  1949.0        0.1188         0.3449       0.3414            0.2032   \n",
       "3   567.7        0.2098         0.8663       0.6869            0.2575   \n",
       "4  1575.0        0.1374         0.2050       0.4000            0.1625   \n",
       "\n",
       "   symmetry 3  fractal dimension 3  Tumor size  Lymph node status  \n",
       "0      0.2677              0.08113         5.0                5.0  \n",
       "1      0.4601              0.11890         3.0                2.0  \n",
       "2      0.4334              0.09067         2.5                0.0  \n",
       "3      0.6638              0.17300         2.0                0.0  \n",
       "4      0.2364              0.07678         3.5                0.0  \n",
       "\n",
       "[5 rows x 35 columns]"
      ]
     },
     "execution_count": 73,
     "metadata": {},
     "output_type": "execute_result"
    }
   ],
   "source": [
    "BCPdata = pd.read_csv('C:/Users/rachi/Desktop/wpbc.csv')\n",
    "BCPdata.head()"
   ]
  },
  {
   "cell_type": "markdown",
   "metadata": {},
   "source": [
    "## Finding Null values"
   ]
  },
  {
   "cell_type": "code",
   "execution_count": 74,
   "metadata": {},
   "outputs": [
    {
     "data": {
      "text/plain": [
       "ID number              0\n",
       "Outcome                0\n",
       "Time                   0\n",
       "radius 1               0\n",
       "texture 1              0\n",
       "perimeter 1            0\n",
       "area 1                 0\n",
       "smoothness 1           0\n",
       "compactness 1          0\n",
       "concavity 1            0\n",
       "concave points 1       0\n",
       "symmetry 1             0\n",
       "fractal dimension 1    0\n",
       "radius 2               0\n",
       "texture 2              0\n",
       "perimeter 2            0\n",
       "area 2                 0\n",
       "smoothness 2           0\n",
       "compactness 2          0\n",
       "concavity 2            0\n",
       "concave points 2       0\n",
       "symmetry 2             0\n",
       "fractal dimension 2    0\n",
       "radius 3               0\n",
       "texture 3              0\n",
       "perimeter 3            0\n",
       "area 3                 0\n",
       "smoothness 3           0\n",
       "compactness 3          0\n",
       "concavity 3            0\n",
       "concave points 3       0\n",
       "symmetry 3             0\n",
       "fractal dimension 3    0\n",
       "Tumor size             0\n",
       "Lymph node status      4\n",
       "dtype: int64"
      ]
     },
     "execution_count": 74,
     "metadata": {},
     "output_type": "execute_result"
    }
   ],
   "source": [
    "BCPdata.isnull().sum()"
   ]
  },
  {
   "cell_type": "markdown",
   "metadata": {},
   "source": [
    "## Eliminating Null values and replacing them with Mean value"
   ]
  },
  {
   "cell_type": "code",
   "execution_count": 75,
   "metadata": {
    "collapsed": true
   },
   "outputs": [],
   "source": [
    "BCPdata['Lymph node status'].fillna(BCPdata['Lymph node status'].mean(), inplace=True)"
   ]
  },
  {
   "cell_type": "code",
   "execution_count": 76,
   "metadata": {},
   "outputs": [
    {
     "data": {
      "text/html": [
       "<div>\n",
       "<style>\n",
       "    .dataframe thead tr:only-child th {\n",
       "        text-align: right;\n",
       "    }\n",
       "\n",
       "    .dataframe thead th {\n",
       "        text-align: left;\n",
       "    }\n",
       "\n",
       "    .dataframe tbody tr th {\n",
       "        vertical-align: top;\n",
       "    }\n",
       "</style>\n",
       "<table border=\"1\" class=\"dataframe\">\n",
       "  <thead>\n",
       "    <tr style=\"text-align: right;\">\n",
       "      <th></th>\n",
       "      <th>radius 1</th>\n",
       "      <th>texture 1</th>\n",
       "      <th>perimeter 1</th>\n",
       "      <th>area 1</th>\n",
       "      <th>smoothness 1</th>\n",
       "      <th>compactness 1</th>\n",
       "      <th>concavity 1</th>\n",
       "      <th>concave points 1</th>\n",
       "      <th>symmetry 1</th>\n",
       "      <th>fractal dimension 1</th>\n",
       "      <th>...</th>\n",
       "      <th>perimeter 3</th>\n",
       "      <th>area 3</th>\n",
       "      <th>smoothness 3</th>\n",
       "      <th>compactness 3</th>\n",
       "      <th>concavity 3</th>\n",
       "      <th>concave points 3</th>\n",
       "      <th>symmetry 3</th>\n",
       "      <th>fractal dimension 3</th>\n",
       "      <th>Tumor size</th>\n",
       "      <th>Lymph node status</th>\n",
       "    </tr>\n",
       "  </thead>\n",
       "  <tbody>\n",
       "    <tr>\n",
       "      <th>0</th>\n",
       "      <td>18.02</td>\n",
       "      <td>27.60</td>\n",
       "      <td>117.50</td>\n",
       "      <td>1013.0</td>\n",
       "      <td>0.09489</td>\n",
       "      <td>0.1036</td>\n",
       "      <td>0.1086</td>\n",
       "      <td>0.07055</td>\n",
       "      <td>0.1865</td>\n",
       "      <td>0.06333</td>\n",
       "      <td>...</td>\n",
       "      <td>139.70</td>\n",
       "      <td>1436.0</td>\n",
       "      <td>0.1195</td>\n",
       "      <td>0.1926</td>\n",
       "      <td>0.3140</td>\n",
       "      <td>0.1170</td>\n",
       "      <td>0.2677</td>\n",
       "      <td>0.08113</td>\n",
       "      <td>5.0</td>\n",
       "      <td>5.0</td>\n",
       "    </tr>\n",
       "    <tr>\n",
       "      <th>1</th>\n",
       "      <td>17.99</td>\n",
       "      <td>10.38</td>\n",
       "      <td>122.80</td>\n",
       "      <td>1001.0</td>\n",
       "      <td>0.11840</td>\n",
       "      <td>0.2776</td>\n",
       "      <td>0.3001</td>\n",
       "      <td>0.14710</td>\n",
       "      <td>0.2419</td>\n",
       "      <td>0.07871</td>\n",
       "      <td>...</td>\n",
       "      <td>184.60</td>\n",
       "      <td>2019.0</td>\n",
       "      <td>0.1622</td>\n",
       "      <td>0.6656</td>\n",
       "      <td>0.7119</td>\n",
       "      <td>0.2654</td>\n",
       "      <td>0.4601</td>\n",
       "      <td>0.11890</td>\n",
       "      <td>3.0</td>\n",
       "      <td>2.0</td>\n",
       "    </tr>\n",
       "    <tr>\n",
       "      <th>2</th>\n",
       "      <td>21.37</td>\n",
       "      <td>17.44</td>\n",
       "      <td>137.50</td>\n",
       "      <td>1373.0</td>\n",
       "      <td>0.08836</td>\n",
       "      <td>0.1189</td>\n",
       "      <td>0.1255</td>\n",
       "      <td>0.08180</td>\n",
       "      <td>0.2333</td>\n",
       "      <td>0.06010</td>\n",
       "      <td>...</td>\n",
       "      <td>159.10</td>\n",
       "      <td>1949.0</td>\n",
       "      <td>0.1188</td>\n",
       "      <td>0.3449</td>\n",
       "      <td>0.3414</td>\n",
       "      <td>0.2032</td>\n",
       "      <td>0.4334</td>\n",
       "      <td>0.09067</td>\n",
       "      <td>2.5</td>\n",
       "      <td>0.0</td>\n",
       "    </tr>\n",
       "    <tr>\n",
       "      <th>3</th>\n",
       "      <td>11.42</td>\n",
       "      <td>20.38</td>\n",
       "      <td>77.58</td>\n",
       "      <td>386.1</td>\n",
       "      <td>0.14250</td>\n",
       "      <td>0.2839</td>\n",
       "      <td>0.2414</td>\n",
       "      <td>0.10520</td>\n",
       "      <td>0.2597</td>\n",
       "      <td>0.09744</td>\n",
       "      <td>...</td>\n",
       "      <td>98.87</td>\n",
       "      <td>567.7</td>\n",
       "      <td>0.2098</td>\n",
       "      <td>0.8663</td>\n",
       "      <td>0.6869</td>\n",
       "      <td>0.2575</td>\n",
       "      <td>0.6638</td>\n",
       "      <td>0.17300</td>\n",
       "      <td>2.0</td>\n",
       "      <td>0.0</td>\n",
       "    </tr>\n",
       "    <tr>\n",
       "      <th>4</th>\n",
       "      <td>20.29</td>\n",
       "      <td>14.34</td>\n",
       "      <td>135.10</td>\n",
       "      <td>1297.0</td>\n",
       "      <td>0.10030</td>\n",
       "      <td>0.1328</td>\n",
       "      <td>0.1980</td>\n",
       "      <td>0.10430</td>\n",
       "      <td>0.1809</td>\n",
       "      <td>0.05883</td>\n",
       "      <td>...</td>\n",
       "      <td>152.20</td>\n",
       "      <td>1575.0</td>\n",
       "      <td>0.1374</td>\n",
       "      <td>0.2050</td>\n",
       "      <td>0.4000</td>\n",
       "      <td>0.1625</td>\n",
       "      <td>0.2364</td>\n",
       "      <td>0.07678</td>\n",
       "      <td>3.5</td>\n",
       "      <td>0.0</td>\n",
       "    </tr>\n",
       "  </tbody>\n",
       "</table>\n",
       "<p>5 rows × 32 columns</p>\n",
       "</div>"
      ],
      "text/plain": [
       "   radius 1  texture 1  perimeter 1  area 1   smoothness 1  compactness 1  \\\n",
       "0     18.02      27.60       117.50   1013.0       0.09489         0.1036   \n",
       "1     17.99      10.38       122.80   1001.0       0.11840         0.2776   \n",
       "2     21.37      17.44       137.50   1373.0       0.08836         0.1189   \n",
       "3     11.42      20.38        77.58    386.1       0.14250         0.2839   \n",
       "4     20.29      14.34       135.10   1297.0       0.10030         0.1328   \n",
       "\n",
       "   concavity 1  concave points 1  symmetry 1  fractal dimension 1  \\\n",
       "0       0.1086           0.07055      0.1865              0.06333   \n",
       "1       0.3001           0.14710      0.2419              0.07871   \n",
       "2       0.1255           0.08180      0.2333              0.06010   \n",
       "3       0.2414           0.10520      0.2597              0.09744   \n",
       "4       0.1980           0.10430      0.1809              0.05883   \n",
       "\n",
       "         ...          perimeter 3  area 3  smoothness 3  compactness 3  \\\n",
       "0        ...               139.70  1436.0        0.1195         0.1926   \n",
       "1        ...               184.60  2019.0        0.1622         0.6656   \n",
       "2        ...               159.10  1949.0        0.1188         0.3449   \n",
       "3        ...                98.87   567.7        0.2098         0.8663   \n",
       "4        ...               152.20  1575.0        0.1374         0.2050   \n",
       "\n",
       "   concavity 3  concave points 3  symmetry 3  fractal dimension 3  Tumor size  \\\n",
       "0       0.3140            0.1170      0.2677              0.08113         5.0   \n",
       "1       0.7119            0.2654      0.4601              0.11890         3.0   \n",
       "2       0.3414            0.2032      0.4334              0.09067         2.5   \n",
       "3       0.6869            0.2575      0.6638              0.17300         2.0   \n",
       "4       0.4000            0.1625      0.2364              0.07678         3.5   \n",
       "\n",
       "   Lymph node status  \n",
       "0                5.0  \n",
       "1                2.0  \n",
       "2                0.0  \n",
       "3                0.0  \n",
       "4                0.0  \n",
       "\n",
       "[5 rows x 32 columns]"
      ]
     },
     "execution_count": 76,
     "metadata": {},
     "output_type": "execute_result"
    }
   ],
   "source": [
    "X = BCPdata.loc[:,'radius 1':'Lymph node status'] # features\n",
    "y = BCPdata.loc[:,'Outcome'] # target label\n",
    "X.head()"
   ]
  },
  {
   "cell_type": "markdown",
   "metadata": {},
   "source": [
    "## Answer 1 (a)."
   ]
  },
  {
   "cell_type": "markdown",
   "metadata": {},
   "source": [
    "## Implementing K-Means with k=4"
   ]
  },
  {
   "cell_type": "code",
   "execution_count": 77,
   "metadata": {
    "collapsed": true
   },
   "outputs": [],
   "source": [
    "kmeansclustering = KMeans(n_clusters=4)"
   ]
  },
  {
   "cell_type": "markdown",
   "metadata": {},
   "source": [
    "## Function to calculate SSE value for each cluster"
   ]
  },
  {
   "cell_type": "code",
   "execution_count": 78,
   "metadata": {
    "collapsed": true
   },
   "outputs": [],
   "source": [
    "def SSEcalc(X,centroids): \n",
    "    for i in range(4):\n",
    "        error = X - centroids[i]\n",
    "        squareddist = error * error\n",
    "        sumsquareddist = np.sum(squareddist, axis=1)\n",
    "        SSE_value = np.sum(sumsquareddist, axis=0)\n",
    "        print(\"SSE value for cluster\"+str(i)+\": \"+str(SSE_value))"
   ]
  },
  {
   "cell_type": "markdown",
   "metadata": {},
   "source": [
    "### To get different centroids for every run a parameter is passed to KMeans function called 'init', and 'random' is provided as its value. For each run the algorithm uses different initial centroids."
   ]
  },
  {
   "cell_type": "markdown",
   "metadata": {},
   "source": [
    "## 1st Run"
   ]
  },
  {
   "cell_type": "code",
   "execution_count": 79,
   "metadata": {},
   "outputs": [
    {
     "data": {
      "text/plain": [
       "KMeans(algorithm='auto', copy_x=True, init='random', max_iter=300,\n",
       "    n_clusters=4, n_init=10, n_jobs=1, precompute_distances='auto',\n",
       "    random_state=None, tol=0.0001, verbose=0)"
      ]
     },
     "execution_count": 79,
     "metadata": {},
     "output_type": "execute_result"
    }
   ],
   "source": [
    "kmeansclustering1 = KMeans(n_clusters=4, init='random')\n",
    "fitdata1 = kmeansclustering1.fit(X,y)\n",
    "fitdata1"
   ]
  },
  {
   "cell_type": "markdown",
   "metadata": {},
   "source": [
    "## Cluster Centers"
   ]
  },
  {
   "cell_type": "code",
   "execution_count": 80,
   "metadata": {},
   "outputs": [
    {
     "data": {
      "text/plain": [
       "array([[1.81627027e+01, 2.21758108e+01, 1.19550000e+02, 1.02721216e+03,\n",
       "        1.00387027e-01, 1.36381892e-01, 1.53067973e-01, 8.94772973e-02,\n",
       "        1.91543243e-01, 6.07670270e-02, 6.42751351e-01, 1.31675811e+00,\n",
       "        4.49112162e+00, 7.34322973e+01, 6.70147297e-03, 3.03457973e-02,\n",
       "        4.11832432e-02, 1.58716622e-02, 2.10804459e-02, 3.95472973e-03,\n",
       "        2.16770270e+01, 2.96383784e+01, 1.43975676e+02, 1.43620270e+03,\n",
       "        1.38626081e-01, 3.30700000e-01, 4.12705541e-01, 1.76687838e-01,\n",
       "        3.12337838e-01, 8.51547297e-02, 3.18108108e+00, 3.30300919e+00],\n",
       "       [2.39600000e+01, 2.39975000e+01, 1.58900000e+02, 1.80125000e+03,\n",
       "        1.03157500e-01, 1.66575000e-01, 2.37212500e-01, 1.42982500e-01,\n",
       "        1.86400000e-01, 6.01212500e-02, 1.15680000e+00, 1.16347500e+00,\n",
       "        7.88112500e+00, 1.86375000e+02, 5.25912500e-03, 2.72100000e-02,\n",
       "        3.77612500e-02, 1.44637500e-02, 1.67225000e-02, 3.40962500e-03,\n",
       "        3.18425000e+01, 3.21900000e+01, 2.13112500e+02, 3.12087500e+03,\n",
       "        1.39325000e-01, 3.65137500e-01, 4.91112500e-01, 2.30962500e-01,\n",
       "        2.91650000e-01, 8.35637500e-02, 2.68750000e+00, 2.12500000e+00],\n",
       "       [1.43534615e+01, 2.17901282e+01, 9.43743590e+01, 6.42407692e+02,\n",
       "        1.04913590e-01, 1.36324103e-01, 1.28664487e-01, 6.54558974e-02,\n",
       "        1.93267949e-01, 6.58450000e-02, 3.99725641e-01, 1.21733462e+00,\n",
       "        2.88198718e+00, 3.58544872e+01, 7.10016667e-03, 3.15071923e-02,\n",
       "        3.91710256e-02, 1.39315513e-02, 2.05526795e-02, 4.14961538e-03,\n",
       "        1.69506410e+01, 3.03269231e+01, 1.13408462e+02, 8.85035897e+02,\n",
       "        1.51218846e-01, 3.88190513e-01, 4.32240769e-01, 1.61193205e-01,\n",
       "        3.38124359e-01, 9.92057692e-02, 2.30897436e+00, 2.83604282e+00],\n",
       "       [2.08513158e+01, 2.31060526e+01, 1.38486842e+02, 1.35622632e+03,\n",
       "        1.02467368e-01, 1.62792632e-01, 2.01987105e-01, 1.13442895e-01,\n",
       "        1.95394737e-01, 6.05802632e-02, 8.28052632e-01, 1.28055526e+00,\n",
       "        5.85213158e+00, 1.10096053e+02, 6.50142105e-03, 3.30692105e-02,\n",
       "        4.37755263e-02, 1.61257368e-02, 2.03426316e-02, 3.83710526e-03,\n",
       "        2.58244737e+01, 3.02968421e+01, 1.73260526e+02, 2.05007895e+03,\n",
       "        1.40218684e-01, 3.84694737e-01, 4.81047368e-01, 2.07954737e-01,\n",
       "        3.21423684e-01, 8.62094737e-02, 3.33684211e+00, 4.03187737e+00]])"
      ]
     },
     "execution_count": 80,
     "metadata": {},
     "output_type": "execute_result"
    }
   ],
   "source": [
    "centroids1 = fitdata1.cluster_centers_\n",
    "centroids1"
   ]
  },
  {
   "cell_type": "markdown",
   "metadata": {},
   "source": [
    "## Overall SSE value of the run"
   ]
  },
  {
   "cell_type": "code",
   "execution_count": 81,
   "metadata": {},
   "outputs": [
    {
     "data": {
      "text/plain": [
       "11997444.818187347"
      ]
     },
     "execution_count": 81,
     "metadata": {},
     "output_type": "execute_result"
    }
   ],
   "source": [
    "fitdata1.inertia_"
   ]
  },
  {
   "cell_type": "markdown",
   "metadata": {},
   "source": [
    "## SSE value for each cluster"
   ]
  },
  {
   "cell_type": "code",
   "execution_count": 82,
   "metadata": {},
   "outputs": [
    {
     "name": "stdout",
     "output_type": "stream",
     "text": [
      "SSE value for cluster0: 93662092.01213028\n",
      "SSE value for cluster1: 816736778.5355047\n",
      "SSE value for cluster2: 168056017.13290146\n",
      "SSE value for cluster3: 205393092.4694925\n"
     ]
    }
   ],
   "source": [
    "SSEcalc(X,centroids1)"
   ]
  },
  {
   "cell_type": "markdown",
   "metadata": {},
   "source": [
    "## 2nd Run"
   ]
  },
  {
   "cell_type": "code",
   "execution_count": 83,
   "metadata": {},
   "outputs": [
    {
     "data": {
      "text/plain": [
       "KMeans(algorithm='auto', copy_x=True, init='random', max_iter=300,\n",
       "    n_clusters=4, n_init=10, n_jobs=1, precompute_distances='auto',\n",
       "    random_state=None, tol=0.0001, verbose=0)"
      ]
     },
     "execution_count": 83,
     "metadata": {},
     "output_type": "execute_result"
    }
   ],
   "source": [
    "kmeansclustering2 = KMeans(n_clusters=4, init='random')\n",
    "fitdata2 = kmeansclustering2.fit(X,y)\n",
    "fitdata2"
   ]
  },
  {
   "cell_type": "markdown",
   "metadata": {},
   "source": [
    "## Cluster Centers"
   ]
  },
  {
   "cell_type": "code",
   "execution_count": 84,
   "metadata": {},
   "outputs": [
    {
     "data": {
      "text/plain": [
       "array([[1.74450000e+01, 2.25537500e+01, 1.14557143e+02, 9.45553571e+02,\n",
       "        1.00006964e-01, 1.29811607e-01, 1.38241250e-01, 8.11496429e-02,\n",
       "        1.88687500e-01, 6.04766071e-02, 5.76582143e-01, 1.32268929e+00,\n",
       "        3.99842857e+00, 6.29812500e+01, 6.92416071e-03, 2.82919286e-02,\n",
       "        3.85589286e-02, 1.52348571e-02, 1.94211250e-02, 3.87741071e-03,\n",
       "        2.06908929e+01, 3.01530357e+01, 1.36744643e+02, 1.30900000e+03,\n",
       "        1.38470179e-01, 3.08166071e-01, 3.82710893e-01, 1.66227143e-01,\n",
       "        3.09000000e-01, 8.35062500e-02, 2.99642857e+00, 2.28948822e+00],\n",
       "       [2.30740000e+01, 2.48473333e+01, 1.53293333e+02, 1.67160000e+03,\n",
       "        9.99053333e-02, 1.65033333e-01, 2.18660000e-01, 1.28218000e-01,\n",
       "        1.84140000e-01, 5.97033333e-02, 1.06470000e+00, 1.21493333e+00,\n",
       "        7.39900000e+00, 1.61461333e+02, 5.48393333e-03, 2.84173333e-02,\n",
       "        3.95140000e-02, 1.47046667e-02, 1.78100000e-02, 3.34360000e-03,\n",
       "        3.01513333e+01, 3.30000000e+01, 2.02273333e+02, 2.79433333e+03,\n",
       "        1.37546667e-01, 3.69500000e-01, 4.84400000e-01, 2.17906667e-01,\n",
       "        2.99186667e-01, 8.29940000e-02, 2.66666667e+00, 2.34742268e+00],\n",
       "       [1.41418310e+01, 2.16829577e+01, 9.30436620e+01, 6.22436620e+02,\n",
       "        1.05919437e-01, 1.38864366e-01, 1.30656901e-01, 6.62640845e-02,\n",
       "        1.94912676e-01, 6.65174648e-02, 3.99990141e-01, 1.22111549e+00,\n",
       "        2.88690141e+00, 3.53378873e+01, 6.92946479e-03, 3.16284789e-02,\n",
       "        3.86402817e-02, 1.38358028e-02, 2.09195634e-02, 4.13645070e-03,\n",
       "        1.67478873e+01, 3.02656338e+01, 1.12102254e+02, 8.62997183e+02,\n",
       "        1.53310845e-01, 3.99961408e-01, 4.42871549e-01, 1.64231690e-01,\n",
       "        3.41019718e-01, 1.01027887e-01, 2.33661972e+00, 3.04523014e+00],\n",
       "       [2.00096429e+01, 2.20614286e+01, 1.32516071e+02, 1.24732321e+03,\n",
       "        1.01994107e-01, 1.54284643e-01, 1.89964643e-01, 1.07306607e-01,\n",
       "        1.96391071e-01, 6.09055357e-02, 7.64360714e-01, 1.27441607e+00,\n",
       "        5.40537500e+00, 9.72755357e+01, 6.72937500e-03, 3.43076786e-02,\n",
       "        4.59462500e-02, 1.66712143e-02, 2.19614286e-02, 4.07910714e-03,\n",
       "        2.43260714e+01, 2.91983929e+01, 1.63175000e+02, 1.81589286e+03,\n",
       "        1.39173393e-01, 3.76662500e-01, 4.70035714e-01, 1.99288929e-01,\n",
       "        3.21960714e-01, 8.73166071e-02, 3.39464286e+00, 4.57520250e+00]])"
      ]
     },
     "execution_count": 84,
     "metadata": {},
     "output_type": "execute_result"
    }
   ],
   "source": [
    "centroids2 = fitdata2.cluster_centers_\n",
    "centroids2"
   ]
  },
  {
   "cell_type": "markdown",
   "metadata": {},
   "source": [
    "## Overall SSE value of the run"
   ]
  },
  {
   "cell_type": "code",
   "execution_count": 85,
   "metadata": {},
   "outputs": [
    {
     "data": {
      "text/plain": [
       "12251322.614135144"
      ]
     },
     "execution_count": 85,
     "metadata": {},
     "output_type": "execute_result"
    }
   ],
   "source": [
    "fitdata2.inertia_"
   ]
  },
  {
   "cell_type": "markdown",
   "metadata": {},
   "source": [
    "## SSE value for each cluster"
   ]
  },
  {
   "cell_type": "code",
   "execution_count": 86,
   "metadata": {},
   "outputs": [
    {
     "name": "stdout",
     "output_type": "stream",
     "text": [
      "SSE value for cluster0: 94767482.64291255\n",
      "SSE value for cluster1: 575204496.3365426\n",
      "SSE value for cluster2: 175392886.71309906\n",
      "SSE value for cluster3: 141785475.96624592\n"
     ]
    }
   ],
   "source": [
    "SSEcalc(X,centroids2)"
   ]
  },
  {
   "cell_type": "markdown",
   "metadata": {},
   "source": [
    "## 3rd Run"
   ]
  },
  {
   "cell_type": "code",
   "execution_count": 87,
   "metadata": {},
   "outputs": [
    {
     "data": {
      "text/plain": [
       "KMeans(algorithm='auto', copy_x=True, init='random', max_iter=300,\n",
       "    n_clusters=4, n_init=10, n_jobs=1, precompute_distances='auto',\n",
       "    random_state=None, tol=0.0001, verbose=0)"
      ]
     },
     "execution_count": 87,
     "metadata": {},
     "output_type": "execute_result"
    }
   ],
   "source": [
    "kmeansclustering3 = KMeans(n_clusters=4, init=\"random\")\n",
    "fitdata3 = kmeansclustering3.fit(X,y)\n",
    "fitdata3"
   ]
  },
  {
   "cell_type": "markdown",
   "metadata": {},
   "source": [
    "## Cluster Centers"
   ]
  },
  {
   "cell_type": "code",
   "execution_count": 88,
   "metadata": {},
   "outputs": [
    {
     "data": {
      "text/plain": [
       "array([[1.80736111e+01, 2.21644444e+01, 1.18891667e+02, 1.01715972e+03,\n",
       "        1.00192778e-01, 1.35127222e-01, 1.49740694e-01, 8.78423611e-02,\n",
       "        1.91263889e-01, 6.05190278e-02, 6.35109722e-01, 1.31407222e+00,\n",
       "        4.42997222e+00, 7.22666667e+01, 6.69909722e-03, 3.00197083e-02,\n",
       "        4.05502778e-02, 1.58253333e-02, 2.09968472e-02, 3.91911111e-03,\n",
       "        2.15563889e+01, 2.96759722e+01, 1.43134722e+02, 1.42073611e+03,\n",
       "        1.38678194e-01, 3.29336111e-01, 4.08220972e-01, 1.75341667e-01,\n",
       "        3.11904167e-01, 8.47906944e-02, 3.07500000e+00, 3.11698167e+00],\n",
       "       [2.35850000e+01, 2.48890000e+01, 1.56520000e+02, 1.75190000e+03,\n",
       "        1.03524000e-01, 1.62960000e-01, 2.30530000e-01, 1.38238000e-01,\n",
       "        1.84800000e-01, 5.97150000e-02, 1.17651000e+00, 1.31428000e+00,\n",
       "        8.06320000e+00, 1.83879000e+02, 5.52620000e-03, 2.64240000e-02,\n",
       "        3.79100000e-02, 1.48410000e-02, 1.76760000e-02, 3.31620000e-03,\n",
       "        3.12300000e+01, 3.34770000e+01, 2.09070000e+02, 3.00630000e+03,\n",
       "        1.39790000e-01, 3.47060000e-01, 4.73810000e-01, 2.25960000e-01,\n",
       "        2.89280000e-01, 8.19190000e-02, 2.95000000e+00, 1.80000000e+00],\n",
       "       [1.43300000e+01, 2.17933766e+01, 9.42207792e+01, 6.40233766e+02,\n",
       "        1.04967013e-01, 1.36427013e-01, 1.28980909e-01, 6.55770130e-02,\n",
       "        1.92972727e-01, 6.59350649e-02, 3.99290909e-01, 1.21671558e+00,\n",
       "        2.88248052e+00, 3.57528571e+01, 7.12903896e-03, 3.16628701e-02,\n",
       "        3.93915584e-02, 1.39925974e-02, 2.06202468e-02, 4.17268831e-03,\n",
       "        1.69179221e+01, 3.03093506e+01, 1.13196883e+02, 8.81270130e+02,\n",
       "        1.51371039e-01, 3.89264416e-01, 4.33968571e-01, 1.61582727e-01,\n",
       "        3.37996104e-01, 9.95046753e-02, 2.32337662e+00, 2.87287455e+00],\n",
       "       [2.06943590e+01, 2.27648718e+01, 1.37466667e+02, 1.33373333e+03,\n",
       "        1.02547179e-01, 1.63605641e-01, 2.03023333e-01, 1.13464359e-01,\n",
       "        1.97112821e-01, 6.11325641e-02, 8.00620513e-01, 1.25430769e+00,\n",
       "        5.66735897e+00, 1.05393077e+02, 6.46964103e-03, 3.36861538e-02,\n",
       "        4.45279487e-02, 1.60099487e-02, 2.03479487e-02, 3.91723077e-03,\n",
       "        2.55200000e+01, 2.98020513e+01, 1.71187179e+02, 1.99917949e+03,\n",
       "        1.39948974e-01, 3.88051282e-01, 4.85079487e-01, 2.06971282e-01,\n",
       "        3.24574359e-01, 8.71279487e-02, 3.43589744e+00, 4.41567539e+00]])"
      ]
     },
     "execution_count": 88,
     "metadata": {},
     "output_type": "execute_result"
    }
   ],
   "source": [
    "centroids3 = fitdata3.cluster_centers_\n",
    "centroids3"
   ]
  },
  {
   "cell_type": "markdown",
   "metadata": {},
   "source": [
    "## Overall SSE value of the run"
   ]
  },
  {
   "cell_type": "code",
   "execution_count": 89,
   "metadata": {},
   "outputs": [
    {
     "data": {
      "text/plain": [
       "11968862.763121244"
      ]
     },
     "execution_count": 89,
     "metadata": {},
     "output_type": "execute_result"
    }
   ],
   "source": [
    "fitdata3.inertia_"
   ]
  },
  {
   "cell_type": "markdown",
   "metadata": {},
   "source": [
    "## SSE value for each cluster"
   ]
  },
  {
   "cell_type": "code",
   "execution_count": 90,
   "metadata": {},
   "outputs": [
    {
     "name": "stdout",
     "output_type": "stream",
     "text": [
      "SSE value for cluster0: 93307024.09016782\n",
      "SSE value for cluster1: 725452059.3558494\n",
      "SSE value for cluster2: 169122116.37532523\n",
      "SSE value for cluster3: 189457072.95746604\n"
     ]
    }
   ],
   "source": [
    "SSEcalc(X,centroids3)"
   ]
  },
  {
   "cell_type": "markdown",
   "metadata": {},
   "source": [
    "## Answer 1 (b)."
   ]
  },
  {
   "cell_type": "markdown",
   "metadata": {},
   "source": [
    "## The SSE values for 3 runs are:\n",
    "### Run 1: 11997444.818187347\n",
    "### Run 2: 12251322.614135144\n",
    "### Run 3: 11968862.763121244\n",
    "\n",
    "## The best model has the lowest error value. Observing the Sum of Squared Errors (SSE) values of clustering for all the 3 runs, it can be identified that the error is lowest in Run 3. So we will choose Model 3 as the best model. "
   ]
  },
  {
   "cell_type": "markdown",
   "metadata": {},
   "source": [
    "## Answer 1(c)."
   ]
  },
  {
   "cell_type": "markdown",
   "metadata": {},
   "source": [
    "## Getting the cluster labels"
   ]
  },
  {
   "cell_type": "code",
   "execution_count": 91,
   "metadata": {
    "collapsed": true
   },
   "outputs": [],
   "source": [
    "cluster_labels = kmeansclustering3.fit_predict(X)"
   ]
  },
  {
   "cell_type": "markdown",
   "metadata": {},
   "source": [
    "## Silhouette coefficient for clustering"
   ]
  },
  {
   "cell_type": "code",
   "execution_count": 92,
   "metadata": {},
   "outputs": [
    {
     "data": {
      "text/plain": [
       "0.4999156642972316"
      ]
     },
     "execution_count": 92,
     "metadata": {},
     "output_type": "execute_result"
    }
   ],
   "source": [
    "silhouette_avg = silhouette_score(X, cluster_labels)\n",
    "silhouette_avg"
   ]
  },
  {
   "cell_type": "markdown",
   "metadata": {},
   "source": [
    "## Silhouette coefficient for each sample"
   ]
  },
  {
   "cell_type": "code",
   "execution_count": 93,
   "metadata": {},
   "outputs": [
    {
     "data": {
      "text/plain": [
       "array([ 0.68648186,  0.36518177,  0.61090141,  0.60517673,  0.14308046,\n",
       "        0.71007188,  0.40993528,  0.72270666,  0.71891607,  0.69119726,\n",
       "        0.04893303,  0.35921631,  0.62412181,  0.69562441,  0.32104198,\n",
       "        0.41832026,  0.63447113,  0.06368806,  0.3489863 ,  0.64831432,\n",
       "        0.7255961 ,  0.65631525,  0.18791103,  0.49028136,  0.65825146,\n",
       "        0.59894412,  0.32641894,  0.33177001,  0.38003793,  0.74048516,\n",
       "        0.65564758,  0.72802876,  0.7403278 ,  0.57932317,  0.25315392,\n",
       "        0.70784963,  0.72208731,  0.49789007,  0.72854251,  0.55525599,\n",
       "        0.54530049,  0.65439373,  0.68094712,  0.69484064,  0.70643258,\n",
       "        0.33628528,  0.74560891,  0.20787473,  0.61258739,  0.56851382,\n",
       "        0.49397994,  0.7408492 ,  0.72325303,  0.72900386,  0.43856292,\n",
       "        0.31075212,  0.5682998 ,  0.52604097,  0.41650628,  0.48590925,\n",
       "        0.30393265,  0.07080593,  0.59828774,  0.6774358 ,  0.63539895,\n",
       "        0.28146984,  0.62934753,  0.61095396,  0.39411425,  0.56194889,\n",
       "       -0.0978233 ,  0.47565279,  0.65842128,  0.6399495 ,  0.35025355,\n",
       "        0.51170119,  0.62461457,  0.26389472,  0.64048337,  0.68405374,\n",
       "        0.735903  ,  0.70380915,  0.72068685,  0.74500804,  0.0584755 ,\n",
       "        0.56935663,  0.50593678,  0.35800644,  0.61532776,  0.11095365,\n",
       "        0.11051573,  0.74677818,  0.73330867,  0.59110727,  0.26112087,\n",
       "        0.21288935,  0.69982562,  0.31194687,  0.55058874,  0.54285814,\n",
       "        0.64864126,  0.59512861,  0.44533222,  0.52613577,  0.74696639,\n",
       "        0.53471662,  0.67300597,  0.17042509,  0.50371429,  0.50295289,\n",
       "        0.59385836,  0.56795853,  0.66182793,  0.46679538,  0.24010408,\n",
       "        0.64406274,  0.02993826,  0.08301711,  0.41287007,  0.61112575,\n",
       "        0.58864835,  0.14688877,  0.63917739,  0.04657868,  0.58051526,\n",
       "        0.12120055,  0.62970456,  0.33079584,  0.54835039,  0.40531371,\n",
       "        0.6364756 ,  0.5636379 ,  0.50500489,  0.41133944,  0.0320084 ,\n",
       "        0.50874234,  0.60863664,  0.57423495,  0.7160868 ,  0.60522211,\n",
       "        0.62702059,  0.66561943,  0.66932024,  0.23477336,  0.55330172,\n",
       "        0.41075693,  0.38384918,  0.73844901,  0.56453864,  0.60861205,\n",
       "        0.68869339,  0.62989094,  0.55076769,  0.68515181,  0.5338157 ,\n",
       "        0.14440003,  0.14698456,  0.69212632,  0.43471924,  0.38815294,\n",
       "        0.74426579,  0.45601355,  0.67228925,  0.65495195,  0.62077194,\n",
       "        0.08445893,  0.38146831,  0.61185153,  0.67917943,  0.49890982,\n",
       "        0.60419944,  0.27078743, -0.00682658,  0.72287635,  0.54530023,\n",
       "        0.58504294,  0.65135091,  0.4786585 ,  0.32777414,  0.50247599,\n",
       "        0.62094676,  0.49311635,  0.39166574,  0.30689357,  0.51233737,\n",
       "        0.71669772,  0.11056032,  0.30907841,  0.69182721,  0.11164528,\n",
       "        0.18061725,  0.44038538,  0.73259413,  0.50374041,  0.65130422,\n",
       "        0.56559162,  0.30511737,  0.36957153])"
      ]
     },
     "execution_count": 93,
     "metadata": {},
     "output_type": "execute_result"
    }
   ],
   "source": [
    "sample_silhouette_values = silhouette_samples(X, cluster_labels)\n",
    "sample_silhouette_values"
   ]
  },
  {
   "cell_type": "markdown",
   "metadata": {},
   "source": [
    "## Silhouette Coefficient for each cluster"
   ]
  },
  {
   "cell_type": "code",
   "execution_count": 94,
   "metadata": {},
   "outputs": [
    {
     "name": "stdout",
     "output_type": "stream",
     "text": [
      "Silhoutte Coefficient for cluster 0 = 0.4193113319688232\n",
      "Silhoutte Coefficient for cluster 1 = 0.350575304317243\n",
      "Silhoutte Coefficient for cluster 2 = 0.44966534779751677\n",
      "Silhoutte Coefficient for cluster 3 = 0.6112978187738719\n"
     ]
    }
   ],
   "source": [
    "n_clusters = 4\n",
    "avgclussilh = []\n",
    "for i in range(n_clusters):\n",
    "    cluster_samples = sample_silhouette_values[cluster_labels == i]\n",
    "    avg_cluster_silhouette = np.sum(cluster_samples, axis=0)/len(cluster_samples)\n",
    "    avgclussilh.append(avg_cluster_silhouette)\n",
    "    print(\"Silhoutte Coefficient for cluster \"+str(i)+\" = \"+str(avg_cluster_silhouette))"
   ]
  },
  {
   "cell_type": "markdown",
   "metadata": {},
   "source": [
    "## Plotting the clustering"
   ]
  },
  {
   "cell_type": "code",
   "execution_count": 95,
   "metadata": {},
   "outputs": [
    {
     "data": {
      "image/png": "[encoded data removed]",
      "text/plain": [
       "<matplotlib.figure.Figure at 0x1c94dc20b00>"
      ]
     },
     "metadata": {},
     "output_type": "display_data"
    }
   ],
   "source": [
    "plt.scatter(range(len(X)), sample_silhouette_values, c=cluster_labels, cmap=\"tab20b\")\n",
    "plt.title(\"Clustering\")\n",
    "plt.xlabel(\"Number of samples\")\n",
    "plt.ylabel(\"Silhouette Values\")\n",
    "plt.legend()\n",
    "plt.figsize = (90, 50)\n",
    "plt.show()"
   ]
  },
  {
   "cell_type": "code",
   "execution_count": 96,
   "metadata": {},
   "outputs": [
    {
     "data": {
      "image/png": "[encoded data removed]",
      "text/plain": [
       "<matplotlib.figure.Figure at 0x1c94dc275f8>"
      ]
     },
     "metadata": {},
     "output_type": "display_data"
    }
   ],
   "source": [
    "xaxis = np.arange(4)\n",
    "plt.bar(xaxis,avgclussilh)\n",
    "plt.xticks(xaxis, ['Cluster 0', 'Cluster 1', 'Cluster 2', 'Cluster 3'])\n",
    "plt.figsize = (30,20)\n",
    "plt.xlabel(\"Clusters\")\n",
    "plt.ylabel(\"Silhouette Values\")\n",
    "plt.title(\"Silhouette Coeff of clusters\")\n",
    "plt.show()"
   ]
  },
  {
   "cell_type": "markdown",
   "metadata": {},
   "source": [
    "## Answer 1(d)."
   ]
  },
  {
   "cell_type": "markdown",
   "metadata": {},
   "source": [
    "## Majority class for each class and fraction of points"
   ]
  },
  {
   "cell_type": "code",
   "execution_count": 97,
   "metadata": {},
   "outputs": [
    {
     "name": "stdout",
     "output_type": "stream",
     "text": [
      "Cluster 0\n",
      "Majority Class: N\n",
      "Fraction of Points: 29\n",
      "\n",
      "Cluster 1\n",
      "Majority Class: N\n",
      "Fraction of Points: 6\n",
      "\n",
      "Cluster 2\n",
      "Majority Class: N\n",
      "Fraction of Points: 52\n",
      "\n",
      "Cluster 3\n",
      "Majority Class: N\n",
      "Fraction of Points: 64\n",
      "\n"
     ]
    }
   ],
   "source": [
    "n_clusters = 4\n",
    "for i in range(n_clusters):\n",
    "    class_label = (y[cluster_labels == i]).value_counts().idxmax()\n",
    "    majority = (y[cluster_labels == i]).value_counts().max()\n",
    "    print(\"Cluster \"+ str(i) + \"\\n\" + \"Majority Class: \" + str(class_label) + \"\\nFraction of Points: \"+ str(majority)+ \"\\n\")"
   ]
  },
  {
   "cell_type": "markdown",
   "metadata": {},
   "source": [
    "## Clustering information - Majority class, fraction of point, centroid and SSE value"
   ]
  },
  {
   "cell_type": "code",
   "execution_count": 98,
   "metadata": {
    "collapsed": true
   },
   "outputs": [],
   "source": [
    "def cluster_info(X,centroids): \n",
    "    SSE_value_list = []\n",
    "    class_labels_list = []\n",
    "    for i in range(4):\n",
    "        error = X - centroids[i]\n",
    "        squareddist = error * error\n",
    "        sumsquareddist = np.sum(squareddist, axis=1)\n",
    "        SSE_value = np.sum(sumsquareddist, axis=0)\n",
    "        SSE_value_list.append(SSE_value)\n",
    "        class_label = (y[cluster_labels == i]).value_counts().idxmax()\n",
    "        class_labels_list.append(class_label)\n",
    "        majority = (y[cluster_labels == i]).value_counts().max()\n",
    "        print(\"Cluster \"+ str(i) + \"\\n\" + \"Majority Class: \" + str(class_label) + \"\\nFraction of Points: \"+ str(majority)+ \"\\n\"\n",
    "             + \"Centroid: \" + str(centroids[i]) + \"\\n SSE value: \" + str(SSE_value_list[i])+\"\\n\" )\n",
    "    return class_labels_list"
   ]
  },
  {
   "cell_type": "code",
   "execution_count": 99,
   "metadata": {},
   "outputs": [
    {
     "name": "stdout",
     "output_type": "stream",
     "text": [
      "Cluster 0\n",
      "Majority Class: N\n",
      "Fraction of Points: 29\n",
      "Centroid: [1.80736111e+01 2.21644444e+01 1.18891667e+02 1.01715972e+03\n",
      " 1.00192778e-01 1.35127222e-01 1.49740694e-01 8.78423611e-02\n",
      " 1.91263889e-01 6.05190278e-02 6.35109722e-01 1.31407222e+00\n",
      " 4.42997222e+00 7.22666667e+01 6.69909722e-03 3.00197083e-02\n",
      " 4.05502778e-02 1.58253333e-02 2.09968472e-02 3.91911111e-03\n",
      " 2.15563889e+01 2.96759722e+01 1.43134722e+02 1.42073611e+03\n",
      " 1.38678194e-01 3.29336111e-01 4.08220972e-01 1.75341667e-01\n",
      " 3.11904167e-01 8.47906944e-02 3.07500000e+00 3.11698167e+00]\n",
      " SSE value: 93307024.09016782\n",
      "\n",
      "Cluster 1\n",
      "Majority Class: N\n",
      "Fraction of Points: 6\n",
      "Centroid: [2.35850e+01 2.48890e+01 1.56520e+02 1.75190e+03 1.03524e-01 1.62960e-01\n",
      " 2.30530e-01 1.38238e-01 1.84800e-01 5.97150e-02 1.17651e+00 1.31428e+00\n",
      " 8.06320e+00 1.83879e+02 5.52620e-03 2.64240e-02 3.79100e-02 1.48410e-02\n",
      " 1.76760e-02 3.31620e-03 3.12300e+01 3.34770e+01 2.09070e+02 3.00630e+03\n",
      " 1.39790e-01 3.47060e-01 4.73810e-01 2.25960e-01 2.89280e-01 8.19190e-02\n",
      " 2.95000e+00 1.80000e+00]\n",
      " SSE value: 725452059.3558494\n",
      "\n",
      "Cluster 2\n",
      "Majority Class: N\n",
      "Fraction of Points: 52\n",
      "Centroid: [1.43300000e+01 2.17933766e+01 9.42207792e+01 6.40233766e+02\n",
      " 1.04967013e-01 1.36427013e-01 1.28980909e-01 6.55770130e-02\n",
      " 1.92972727e-01 6.59350649e-02 3.99290909e-01 1.21671558e+00\n",
      " 2.88248052e+00 3.57528571e+01 7.12903896e-03 3.16628701e-02\n",
      " 3.93915584e-02 1.39925974e-02 2.06202468e-02 4.17268831e-03\n",
      " 1.69179221e+01 3.03093506e+01 1.13196883e+02 8.81270130e+02\n",
      " 1.51371039e-01 3.89264416e-01 4.33968571e-01 1.61582727e-01\n",
      " 3.37996104e-01 9.95046753e-02 2.32337662e+00 2.87287455e+00]\n",
      " SSE value: 169122116.37532523\n",
      "\n",
      "Cluster 3\n",
      "Majority Class: N\n",
      "Fraction of Points: 64\n",
      "Centroid: [2.06943590e+01 2.27648718e+01 1.37466667e+02 1.33373333e+03\n",
      " 1.02547179e-01 1.63605641e-01 2.03023333e-01 1.13464359e-01\n",
      " 1.97112821e-01 6.11325641e-02 8.00620513e-01 1.25430769e+00\n",
      " 5.66735897e+00 1.05393077e+02 6.46964103e-03 3.36861538e-02\n",
      " 4.45279487e-02 1.60099487e-02 2.03479487e-02 3.91723077e-03\n",
      " 2.55200000e+01 2.98020513e+01 1.71187179e+02 1.99917949e+03\n",
      " 1.39948974e-01 3.88051282e-01 4.85079487e-01 2.06971282e-01\n",
      " 3.24574359e-01 8.71279487e-02 3.43589744e+00 4.41567539e+00]\n",
      " SSE value: 189457072.95746604\n",
      "\n"
     ]
    }
   ],
   "source": [
    "class_labels_list = cluster_info(X,centroids3)"
   ]
  },
  {
   "cell_type": "markdown",
   "metadata": {},
   "source": [
    "## Answer 1(e)."
   ]
  },
  {
   "cell_type": "markdown",
   "metadata": {},
   "source": [
    "## Creating test set"
   ]
  },
  {
   "cell_type": "code",
   "execution_count": 100,
   "metadata": {
    "collapsed": true
   },
   "outputs": [],
   "source": [
    "x_test = np.array(X)"
   ]
  },
  {
   "cell_type": "markdown",
   "metadata": {},
   "source": [
    "## Predicting labels for testing data"
   ]
  },
  {
   "cell_type": "code",
   "execution_count": 116,
   "metadata": {
    "collapsed": true
   },
   "outputs": [],
   "source": [
    "li2 = []\n",
    "for i in range(len(x_test)):\n",
    "    li =[]\n",
    "    for j in range(len(centroids3)):\n",
    "        dist = centroids3[j] - x_test[i]\n",
    "        dist = dist**2\n",
    "        sumdist = np.sum(dist)\n",
    "        li.append(sumdist)\n",
    "    index = li.index(min(li))\n",
    "    li2.append(index)\n",
    "    \n",
    "Pred_label=[]\n",
    "for k in range(len(x_test)):\n",
    "    cluster_assigned = li2[k]\n",
    "    Pred_label.append(class_labels_list[cluster_assigned])\n",
    "    Pred_label  "
   ]
  },
  {
   "cell_type": "code",
   "execution_count": null,
   "metadata": {
    "collapsed": true
   },
   "outputs": [],
   "source": []
  },
  {
   "cell_type": "markdown",
   "metadata": {},
   "source": [
    "## Making Confusion Matrix"
   ]
  },
  {
   "cell_type": "code",
   "execution_count": 114,
   "metadata": {
    "collapsed": true
   },
   "outputs": [],
   "source": [
    "labels = ['N', 'R']\n",
    "confmat = confusion_matrix(y, Pred_label, labels)"
   ]
  },
  {
   "cell_type": "code",
   "execution_count": 115,
   "metadata": {},
   "outputs": [
    {
     "data": {
      "image/png": "[encoded data removed]",
      "text/plain": [
       "<matplotlib.figure.Figure at 0x1c94e077860>"
      ]
     },
     "metadata": {},
     "output_type": "display_data"
    }
   ],
   "source": [
    "sns.heatmap(confmat.T, square=True, annot=True, cbar=False,\n",
    "                    xticklabels=['N','R'], yticklabels=['N', 'R'], cmap='hot' , fmt='g')\n",
    "plt.xlabel('Actual Labels')\n",
    "plt.ylabel('Predicted Labels');\n",
    "plt.title('Confusion Matrix')\n",
    "plt.show()"
   ]
  },
  {
   "cell_type": "markdown",
   "metadata": {},
   "source": [
    "## Computing Accuracy, Precision and Recall"
   ]
  },
  {
   "cell_type": "code",
   "execution_count": 112,
   "metadata": {},
   "outputs": [
    {
     "name": "stdout",
     "output_type": "stream",
     "text": [
      "Class N:\n",
      "\n",
      "\n",
      "Precision: 0.7626262626262627\n",
      "\n",
      "Recall: 1.0\n",
      "\n",
      "Class R:\n",
      "\n",
      "\n",
      "Precision: 0.0\n",
      "\n",
      "Recall: 0.0\n",
      "\n",
      "Accuracy: 0.7626262626262627\n"
     ]
    },
    {
     "name": "stderr",
     "output_type": "stream",
     "text": [
      "C:\\Users\\rachi\\Anaconda3\\lib\\site-packages\\sklearn\\metrics\\classification.py:1135: UndefinedMetricWarning: Precision and F-score are ill-defined and being set to 0.0 in labels with no predicted samples.\n",
      "  'precision', 'predicted', average, warn_for)\n"
     ]
    }
   ],
   "source": [
    "report = precision_recall_fscore_support(y, Pred_label)\n",
    "accuracy = accuracy_score(y, Pred_label)\n",
    "\n",
    "print('Class N:\\n')\n",
    "print('\\nPrecision: ' + str(report[0][0]))\n",
    "print('\\nRecall: ' + str(report[1][0]))\n",
    "\n",
    "print('\\nClass R:\\n')\n",
    "print('\\nPrecision: ' + str(report[0][1]))\n",
    "print('\\nRecall: ' + str(report[1][1]))\n",
    "\n",
    "print('\\nAccuracy: ' + str(accuracy))"
   ]
  },
  {
   "cell_type": "markdown",
   "metadata": {},
   "source": [
    "## Answer 1(f)."
   ]
  },
  {
   "cell_type": "markdown",
   "metadata": {},
   "source": [
    "### Comparing the values of obtained KMeans model and Decision Tree model built in HW3 Q1.\n",
    "### KMeans:-\n",
    "#### Precision class N:0.7626262626262627\n",
    "#### Precision class R:0.0\n",
    "#### Recall class N:1.0\n",
    "#### Recall class R:0.0\n",
    "#### Accuracy:0.7626262626262627\n",
    "### Decision Tree:-\n",
    "#### Precision class N:0.81\n",
    "#### Precision class R:0.58 \n",
    "#### Recall class N:0.93\n",
    "#### Recall class R:0.32\n",
    "#### Accuracy: 0.7627083333333334"
   ]
  },
  {
   "cell_type": "markdown",
   "metadata": {},
   "source": [
    "### We can analyze that the accuracy for both the model is same = 0.762\n",
    "### Value of precision for class N is more for Decision Tree and less for KMeans. And, for class R Decision Tree has more precision as compared to the 0 precision obtained by the KMeans algorithm\n",
    "### Recall value for class N is perfect in case of KMeans which is more than for class N recall of decision tree. But class R Decision tree has more recall value than recall value of class R in KMeans model.\n",
    "### Since in KMeans clustering all the clusters have N class so it assigns class N to all the elements but that is not the case in decision tree classifier. "
   ]
  },
  {
   "cell_type": "markdown",
   "metadata": {},
   "source": [
    "## Answer2"
   ]
  },
  {
   "cell_type": "markdown",
   "metadata": {},
   "source": [
    "## White Wine Quality dataset"
   ]
  },
  {
   "cell_type": "code",
   "execution_count": 4,
   "metadata": {},
   "outputs": [
    {
     "data": {
      "text/html": [
       "<div>\n",
       "<style>\n",
       "    .dataframe thead tr:only-child th {\n",
       "        text-align: right;\n",
       "    }\n",
       "\n",
       "    .dataframe thead th {\n",
       "        text-align: left;\n",
       "    }\n",
       "\n",
       "    .dataframe tbody tr th {\n",
       "        vertical-align: top;\n",
       "    }\n",
       "</style>\n",
       "<table border=\"1\" class=\"dataframe\">\n",
       "  <thead>\n",
       "    <tr style=\"text-align: right;\">\n",
       "      <th></th>\n",
       "      <th>fixed acidity</th>\n",
       "      <th>volatile acidity</th>\n",
       "      <th>citric acid</th>\n",
       "      <th>residual sugar</th>\n",
       "      <th>chlorides</th>\n",
       "      <th>free sulfur dioxide</th>\n",
       "      <th>total sulfur dioxide</th>\n",
       "      <th>density</th>\n",
       "      <th>pH</th>\n",
       "      <th>sulphates</th>\n",
       "      <th>alcohol</th>\n",
       "      <th>quality</th>\n",
       "    </tr>\n",
       "  </thead>\n",
       "  <tbody>\n",
       "    <tr>\n",
       "      <th>0</th>\n",
       "      <td>7.0</td>\n",
       "      <td>0.27</td>\n",
       "      <td>0.36</td>\n",
       "      <td>20.7</td>\n",
       "      <td>0.045</td>\n",
       "      <td>45.0</td>\n",
       "      <td>170.0</td>\n",
       "      <td>1.0010</td>\n",
       "      <td>3.00</td>\n",
       "      <td>0.45</td>\n",
       "      <td>8.8</td>\n",
       "      <td>6</td>\n",
       "    </tr>\n",
       "    <tr>\n",
       "      <th>1</th>\n",
       "      <td>6.3</td>\n",
       "      <td>0.30</td>\n",
       "      <td>0.34</td>\n",
       "      <td>1.6</td>\n",
       "      <td>0.049</td>\n",
       "      <td>14.0</td>\n",
       "      <td>132.0</td>\n",
       "      <td>0.9940</td>\n",
       "      <td>3.30</td>\n",
       "      <td>0.49</td>\n",
       "      <td>9.5</td>\n",
       "      <td>6</td>\n",
       "    </tr>\n",
       "    <tr>\n",
       "      <th>2</th>\n",
       "      <td>8.1</td>\n",
       "      <td>0.28</td>\n",
       "      <td>0.40</td>\n",
       "      <td>6.9</td>\n",
       "      <td>0.050</td>\n",
       "      <td>30.0</td>\n",
       "      <td>97.0</td>\n",
       "      <td>0.9951</td>\n",
       "      <td>3.26</td>\n",
       "      <td>0.44</td>\n",
       "      <td>10.1</td>\n",
       "      <td>6</td>\n",
       "    </tr>\n",
       "    <tr>\n",
       "      <th>3</th>\n",
       "      <td>7.2</td>\n",
       "      <td>0.23</td>\n",
       "      <td>0.32</td>\n",
       "      <td>8.5</td>\n",
       "      <td>0.058</td>\n",
       "      <td>47.0</td>\n",
       "      <td>186.0</td>\n",
       "      <td>0.9956</td>\n",
       "      <td>3.19</td>\n",
       "      <td>0.40</td>\n",
       "      <td>9.9</td>\n",
       "      <td>6</td>\n",
       "    </tr>\n",
       "    <tr>\n",
       "      <th>4</th>\n",
       "      <td>7.2</td>\n",
       "      <td>0.23</td>\n",
       "      <td>0.32</td>\n",
       "      <td>8.5</td>\n",
       "      <td>0.058</td>\n",
       "      <td>47.0</td>\n",
       "      <td>186.0</td>\n",
       "      <td>0.9956</td>\n",
       "      <td>3.19</td>\n",
       "      <td>0.40</td>\n",
       "      <td>9.9</td>\n",
       "      <td>6</td>\n",
       "    </tr>\n",
       "  </tbody>\n",
       "</table>\n",
       "</div>"
      ],
      "text/plain": [
       "   fixed acidity  volatile acidity  citric acid  residual sugar  chlorides  \\\n",
       "0            7.0              0.27         0.36            20.7      0.045   \n",
       "1            6.3              0.30         0.34             1.6      0.049   \n",
       "2            8.1              0.28         0.40             6.9      0.050   \n",
       "3            7.2              0.23         0.32             8.5      0.058   \n",
       "4            7.2              0.23         0.32             8.5      0.058   \n",
       "\n",
       "   free sulfur dioxide  total sulfur dioxide  density    pH  sulphates  \\\n",
       "0                 45.0                 170.0   1.0010  3.00       0.45   \n",
       "1                 14.0                 132.0   0.9940  3.30       0.49   \n",
       "2                 30.0                  97.0   0.9951  3.26       0.44   \n",
       "3                 47.0                 186.0   0.9956  3.19       0.40   \n",
       "4                 47.0                 186.0   0.9956  3.19       0.40   \n",
       "\n",
       "   alcohol  quality  \n",
       "0      8.8        6  \n",
       "1      9.5        6  \n",
       "2     10.1        6  \n",
       "3      9.9        6  \n",
       "4      9.9        6  "
      ]
     },
     "execution_count": 4,
     "metadata": {},
     "output_type": "execute_result"
    }
   ],
   "source": [
    "WWQdata = pd.read_csv('C:/Users/rachi/Desktop/WWQ.csv')\n",
    "WWQdata.head()"
   ]
  },
  {
   "cell_type": "markdown",
   "metadata": {},
   "source": [
    "## Red Wine Quality dataset"
   ]
  },
  {
   "cell_type": "code",
   "execution_count": 5,
   "metadata": {},
   "outputs": [
    {
     "data": {
      "text/html": [
       "<div>\n",
       "<style>\n",
       "    .dataframe thead tr:only-child th {\n",
       "        text-align: right;\n",
       "    }\n",
       "\n",
       "    .dataframe thead th {\n",
       "        text-align: left;\n",
       "    }\n",
       "\n",
       "    .dataframe tbody tr th {\n",
       "        vertical-align: top;\n",
       "    }\n",
       "</style>\n",
       "<table border=\"1\" class=\"dataframe\">\n",
       "  <thead>\n",
       "    <tr style=\"text-align: right;\">\n",
       "      <th></th>\n",
       "      <th>fixed acidity</th>\n",
       "      <th>volatile acidity</th>\n",
       "      <th>citric acid</th>\n",
       "      <th>residual sugar</th>\n",
       "      <th>chlorides</th>\n",
       "      <th>free sulfur dioxide</th>\n",
       "      <th>total sulfur dioxide</th>\n",
       "      <th>density</th>\n",
       "      <th>pH</th>\n",
       "      <th>sulphates</th>\n",
       "      <th>alcohol</th>\n",
       "      <th>quality</th>\n",
       "    </tr>\n",
       "  </thead>\n",
       "  <tbody>\n",
       "    <tr>\n",
       "      <th>0</th>\n",
       "      <td>7.4</td>\n",
       "      <td>0.70</td>\n",
       "      <td>0.00</td>\n",
       "      <td>1.9</td>\n",
       "      <td>0.076</td>\n",
       "      <td>11.0</td>\n",
       "      <td>34.0</td>\n",
       "      <td>0.9978</td>\n",
       "      <td>3.51</td>\n",
       "      <td>0.56</td>\n",
       "      <td>9.4</td>\n",
       "      <td>5</td>\n",
       "    </tr>\n",
       "    <tr>\n",
       "      <th>1</th>\n",
       "      <td>7.8</td>\n",
       "      <td>0.88</td>\n",
       "      <td>0.00</td>\n",
       "      <td>2.6</td>\n",
       "      <td>0.098</td>\n",
       "      <td>25.0</td>\n",
       "      <td>67.0</td>\n",
       "      <td>0.9968</td>\n",
       "      <td>3.20</td>\n",
       "      <td>0.68</td>\n",
       "      <td>9.8</td>\n",
       "      <td>5</td>\n",
       "    </tr>\n",
       "    <tr>\n",
       "      <th>2</th>\n",
       "      <td>7.8</td>\n",
       "      <td>0.76</td>\n",
       "      <td>0.04</td>\n",
       "      <td>2.3</td>\n",
       "      <td>0.092</td>\n",
       "      <td>15.0</td>\n",
       "      <td>54.0</td>\n",
       "      <td>0.9970</td>\n",
       "      <td>3.26</td>\n",
       "      <td>0.65</td>\n",
       "      <td>9.8</td>\n",
       "      <td>5</td>\n",
       "    </tr>\n",
       "    <tr>\n",
       "      <th>3</th>\n",
       "      <td>11.2</td>\n",
       "      <td>0.28</td>\n",
       "      <td>0.56</td>\n",
       "      <td>1.9</td>\n",
       "      <td>0.075</td>\n",
       "      <td>17.0</td>\n",
       "      <td>60.0</td>\n",
       "      <td>0.9980</td>\n",
       "      <td>3.16</td>\n",
       "      <td>0.58</td>\n",
       "      <td>9.8</td>\n",
       "      <td>6</td>\n",
       "    </tr>\n",
       "    <tr>\n",
       "      <th>4</th>\n",
       "      <td>7.4</td>\n",
       "      <td>0.70</td>\n",
       "      <td>0.00</td>\n",
       "      <td>1.9</td>\n",
       "      <td>0.076</td>\n",
       "      <td>11.0</td>\n",
       "      <td>34.0</td>\n",
       "      <td>0.9978</td>\n",
       "      <td>3.51</td>\n",
       "      <td>0.56</td>\n",
       "      <td>9.4</td>\n",
       "      <td>5</td>\n",
       "    </tr>\n",
       "  </tbody>\n",
       "</table>\n",
       "</div>"
      ],
      "text/plain": [
       "   fixed acidity  volatile acidity  citric acid  residual sugar  chlorides  \\\n",
       "0            7.4              0.70         0.00             1.9      0.076   \n",
       "1            7.8              0.88         0.00             2.6      0.098   \n",
       "2            7.8              0.76         0.04             2.3      0.092   \n",
       "3           11.2              0.28         0.56             1.9      0.075   \n",
       "4            7.4              0.70         0.00             1.9      0.076   \n",
       "\n",
       "   free sulfur dioxide  total sulfur dioxide  density    pH  sulphates  \\\n",
       "0                 11.0                  34.0   0.9978  3.51       0.56   \n",
       "1                 25.0                  67.0   0.9968  3.20       0.68   \n",
       "2                 15.0                  54.0   0.9970  3.26       0.65   \n",
       "3                 17.0                  60.0   0.9980  3.16       0.58   \n",
       "4                 11.0                  34.0   0.9978  3.51       0.56   \n",
       "\n",
       "   alcohol  quality  \n",
       "0      9.4        5  \n",
       "1      9.8        5  \n",
       "2      9.8        5  \n",
       "3      9.8        6  \n",
       "4      9.4        5  "
      ]
     },
     "execution_count": 5,
     "metadata": {},
     "output_type": "execute_result"
    }
   ],
   "source": [
    "RWQdata = pd.read_csv('C:/Users/rachi/Desktop/RWQ.csv')\n",
    "RWQdata.head()"
   ]
  },
  {
   "cell_type": "markdown",
   "metadata": {},
   "source": [
    "## Combining Datasets"
   ]
  },
  {
   "cell_type": "code",
   "execution_count": 379,
   "metadata": {},
   "outputs": [
    {
     "data": {
      "text/html": [
       "<div>\n",
       "<style>\n",
       "    .dataframe thead tr:only-child th {\n",
       "        text-align: right;\n",
       "    }\n",
       "\n",
       "    .dataframe thead th {\n",
       "        text-align: left;\n",
       "    }\n",
       "\n",
       "    .dataframe tbody tr th {\n",
       "        vertical-align: top;\n",
       "    }\n",
       "</style>\n",
       "<table border=\"1\" class=\"dataframe\">\n",
       "  <thead>\n",
       "    <tr style=\"text-align: right;\">\n",
       "      <th></th>\n",
       "      <th>fixed acidity</th>\n",
       "      <th>volatile acidity</th>\n",
       "      <th>citric acid</th>\n",
       "      <th>residual sugar</th>\n",
       "      <th>chlorides</th>\n",
       "      <th>free sulfur dioxide</th>\n",
       "      <th>total sulfur dioxide</th>\n",
       "      <th>density</th>\n",
       "      <th>pH</th>\n",
       "      <th>sulphates</th>\n",
       "      <th>alcohol</th>\n",
       "      <th>quality</th>\n",
       "    </tr>\n",
       "  </thead>\n",
       "  <tbody>\n",
       "    <tr>\n",
       "      <th>0</th>\n",
       "      <td>7.4</td>\n",
       "      <td>0.70</td>\n",
       "      <td>0.00</td>\n",
       "      <td>1.9</td>\n",
       "      <td>0.076</td>\n",
       "      <td>11.0</td>\n",
       "      <td>34.0</td>\n",
       "      <td>0.9978</td>\n",
       "      <td>3.51</td>\n",
       "      <td>0.56</td>\n",
       "      <td>9.4</td>\n",
       "      <td>5</td>\n",
       "    </tr>\n",
       "    <tr>\n",
       "      <th>1</th>\n",
       "      <td>7.8</td>\n",
       "      <td>0.88</td>\n",
       "      <td>0.00</td>\n",
       "      <td>2.6</td>\n",
       "      <td>0.098</td>\n",
       "      <td>25.0</td>\n",
       "      <td>67.0</td>\n",
       "      <td>0.9968</td>\n",
       "      <td>3.20</td>\n",
       "      <td>0.68</td>\n",
       "      <td>9.8</td>\n",
       "      <td>5</td>\n",
       "    </tr>\n",
       "    <tr>\n",
       "      <th>2</th>\n",
       "      <td>7.8</td>\n",
       "      <td>0.76</td>\n",
       "      <td>0.04</td>\n",
       "      <td>2.3</td>\n",
       "      <td>0.092</td>\n",
       "      <td>15.0</td>\n",
       "      <td>54.0</td>\n",
       "      <td>0.9970</td>\n",
       "      <td>3.26</td>\n",
       "      <td>0.65</td>\n",
       "      <td>9.8</td>\n",
       "      <td>5</td>\n",
       "    </tr>\n",
       "    <tr>\n",
       "      <th>3</th>\n",
       "      <td>11.2</td>\n",
       "      <td>0.28</td>\n",
       "      <td>0.56</td>\n",
       "      <td>1.9</td>\n",
       "      <td>0.075</td>\n",
       "      <td>17.0</td>\n",
       "      <td>60.0</td>\n",
       "      <td>0.9980</td>\n",
       "      <td>3.16</td>\n",
       "      <td>0.58</td>\n",
       "      <td>9.8</td>\n",
       "      <td>6</td>\n",
       "    </tr>\n",
       "    <tr>\n",
       "      <th>4</th>\n",
       "      <td>7.4</td>\n",
       "      <td>0.70</td>\n",
       "      <td>0.00</td>\n",
       "      <td>1.9</td>\n",
       "      <td>0.076</td>\n",
       "      <td>11.0</td>\n",
       "      <td>34.0</td>\n",
       "      <td>0.9978</td>\n",
       "      <td>3.51</td>\n",
       "      <td>0.56</td>\n",
       "      <td>9.4</td>\n",
       "      <td>5</td>\n",
       "    </tr>\n",
       "  </tbody>\n",
       "</table>\n",
       "</div>"
      ],
      "text/plain": [
       "   fixed acidity  volatile acidity  citric acid  residual sugar  chlorides  \\\n",
       "0            7.4              0.70         0.00             1.9      0.076   \n",
       "1            7.8              0.88         0.00             2.6      0.098   \n",
       "2            7.8              0.76         0.04             2.3      0.092   \n",
       "3           11.2              0.28         0.56             1.9      0.075   \n",
       "4            7.4              0.70         0.00             1.9      0.076   \n",
       "\n",
       "   free sulfur dioxide  total sulfur dioxide  density    pH  sulphates  \\\n",
       "0                 11.0                  34.0   0.9978  3.51       0.56   \n",
       "1                 25.0                  67.0   0.9968  3.20       0.68   \n",
       "2                 15.0                  54.0   0.9970  3.26       0.65   \n",
       "3                 17.0                  60.0   0.9980  3.16       0.58   \n",
       "4                 11.0                  34.0   0.9978  3.51       0.56   \n",
       "\n",
       "   alcohol  quality  \n",
       "0      9.4        5  \n",
       "1      9.8        5  \n",
       "2      9.8        5  \n",
       "3      9.8        6  \n",
       "4      9.4        5  "
      ]
     },
     "execution_count": 379,
     "metadata": {},
     "output_type": "execute_result"
    }
   ],
   "source": [
    "wine_data = pd.concat([RWQdata, WWQdata], axis=0)\n",
    "wine_data.head()"
   ]
  },
  {
   "cell_type": "markdown",
   "metadata": {},
   "source": [
    "## Minimum SSE value of the 3 iterations for different values of K "
   ]
  },
  {
   "cell_type": "code",
   "execution_count": 392,
   "metadata": {},
   "outputs": [
    {
     "name": "stdout",
     "output_type": "stream",
     "text": [
      "For K = 3:\n",
      "\n",
      "Minimum SSE value: 4331571.931038661\n",
      "\n",
      "For K = 4:\n",
      "\n",
      "Minimum SSE value: 3038842.109675485\n",
      "\n",
      "For K = 5:\n",
      "\n",
      "Minimum SSE value: 2394022.4463956873\n",
      "\n",
      "For K = 6:\n",
      "\n",
      "Minimum SSE value: 2041626.7910441724\n",
      "\n",
      "For K = 7:\n",
      "\n",
      "Minimum SSE value: 1796410.8358946398\n",
      "\n",
      "For K = 8:\n",
      "\n",
      "Minimum SSE value: 1623816.394384534\n",
      "\n",
      "For K = 9:\n",
      "\n",
      "Minimum SSE value: 1482594.95124864\n",
      "\n",
      "For K = 10:\n",
      "\n",
      "Minimum SSE value: 1368109.876103647\n",
      "\n",
      "For K = 11:\n",
      "\n",
      "Minimum SSE value: 1268469.0196393544\n",
      "\n",
      "For K = 12:\n",
      "\n",
      "Minimum SSE value: 1180018.2369858285\n",
      "\n",
      "For K = 13:\n",
      "\n",
      "Minimum SSE value: 1080947.714167035\n",
      "\n",
      "For K = 14:\n",
      "\n",
      "Minimum SSE value: 1026858.857341212\n",
      "\n"
     ]
    }
   ],
   "source": [
    "klist = [3, 4, 5, 6, 7, 8, 9, 10, 11, 12, 13, 14]\n",
    "X = wine_data.loc[:,'fixed acidity':'alcohol'] # features\n",
    "y = wine_data.loc[:,'quality'] # target label\n",
    "SSE_value_list = []\n",
    "min_SSE_list= []\n",
    "for i in klist:\n",
    "    print(\"For K = \" + str(i) + \":\\n\")\n",
    "    for j in range(3):\n",
    "        kmeansclustering = KMeans(n_clusters=i, init='random')\n",
    "        fitdata = kmeansclustering.fit(X,y)\n",
    "        SSE = fitdata.inertia_\n",
    "        SSE_value_list.append(SSE)\n",
    "        min_SSE = min(SSE_value_list)\n",
    "    min_SSE_list.append(min_SSE)\n",
    "    print(\"Minimum SSE value: \"+ str(min_SSE) + \"\\n\")    "
   ]
  },
  {
   "cell_type": "markdown",
   "metadata": {},
   "source": [
    "## Plotting SSE values vs. K values"
   ]
  },
  {
   "cell_type": "code",
   "execution_count": 409,
   "metadata": {},
   "outputs": [
    {
     "data": {
      "image/png": "[encoded data removed]",
      "text/plain": [
       "<matplotlib.figure.Figure at 0x2766dd9fcf8>"
      ]
     },
     "metadata": {},
     "output_type": "display_data"
    }
   ],
   "source": [
    "xaxis = np.arange(12)\n",
    "plt.figure(figsize = (10,6))\n",
    "plt.bar(xaxis,min_SSE_list)\n",
    "plt.xticks(xaxis, ['K=3', 'K=4', 'K=5', 'K=6', 'K=7', 'K=8', 'K=9', 'K=10', 'K=11', 'K=12', 'K=13', 'K=14'])\n",
    "plt.xlabel(\"K values\")\n",
    "plt.ylabel(\"SSE Values\")\n",
    "plt.title(\"Minimum values of SSE for different K\")\n",
    "plt.show()"
   ]
  },
  {
   "cell_type": "markdown",
   "metadata": {
    "collapsed": true
   },
   "source": [
    "## Analysis"
   ]
  },
  {
   "cell_type": "markdown",
   "metadata": {},
   "source": [
    "## After plotting minimum SSE values against the different K values, we can deduce that as the number of K increases the error decreases. If we keep increasing the number of clusters in the data space, number of centroids increases parallely during the learning phase. With more centroids the distance from each points can be more efficiently measured, thus probabilty of errors decreases."
   ]
  },
  {
   "cell_type": "code",
   "execution_count": null,
   "metadata": {
    "collapsed": true
   },
   "outputs": [],
   "source": []
  }
 ],
 "metadata": {
  "kernelspec": {
   "display_name": "Python 3",
   "language": "python",
   "name": "python3"
  },
  "language_info": {
   "codemirror_mode": {
    "name": "ipython",
    "version": 3
   },
   "file_extension": ".py",
   "mimetype": "text/x-python",
   "name": "python",
   "nbconvert_exporter": "python",
   "pygments_lexer": "ipython3",
   "version": "3.6.3"
  }
 },
 "nbformat": 4,
 "nbformat_minor": 2
}
