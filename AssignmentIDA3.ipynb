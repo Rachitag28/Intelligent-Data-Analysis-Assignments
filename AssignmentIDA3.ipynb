{
 "cells": [
  {
   "cell_type": "markdown",
   "metadata": {},
   "source": [
    "# Intelligent Data Analysis - Assignment 3"
   ]
  },
  {
   "cell_type": "markdown",
   "metadata": {},
   "source": [
    "# Rachit Aggarwal - M12506500"
   ]
  },
  {
   "cell_type": "markdown",
   "metadata": {},
   "source": [
    "## Importing Libraries"
   ]
  },
  {
   "cell_type": "code",
   "execution_count": 1,
   "metadata": {
    "collapsed": true
   },
   "outputs": [],
   "source": [
    "%matplotlib inline\n",
    "import matplotlib.pyplot as plt  # to plot graphs\n",
    "import pandas as pd\n",
    "import numpy as np               # for numerical calculations\n",
    "from sklearn.utils import shuffle   # to shuffle data\n",
    "from sklearn.model_selection import cross_val_score\n",
    "from sklearn.tree import DecisionTreeClassifier  # to import decision tree function\n",
    "from sklearn.metrics import accuracy_score       # to import accuracy function\n",
    "from sklearn.metrics import classification_report\n",
    "from IPython.display import Image  \n",
    "from sklearn.tree import export_graphviz\n",
    "import pydotplus\n",
    "import collections\n",
    "from sklearn import tree"
   ]
  },
  {
   "cell_type": "markdown",
   "metadata": {},
   "source": [
    "## Importing BCP dataset"
   ]
  },
  {
   "cell_type": "code",
   "execution_count": 26,
   "metadata": {},
   "outputs": [
    {
     "data": {
      "text/html": [
       "<div>\n",
       "<style>\n",
       "    .dataframe thead tr:only-child th {\n",
       "        text-align: right;\n",
       "    }\n",
       "\n",
       "    .dataframe thead th {\n",
       "        text-align: left;\n",
       "    }\n",
       "\n",
       "    .dataframe tbody tr th {\n",
       "        vertical-align: top;\n",
       "    }\n",
       "</style>\n",
       "<table border=\"1\" class=\"dataframe\">\n",
       "  <thead>\n",
       "    <tr style=\"text-align: right;\">\n",
       "      <th></th>\n",
       "      <th>ID number</th>\n",
       "      <th>Outcome</th>\n",
       "      <th>Time</th>\n",
       "      <th>radius 1</th>\n",
       "      <th>texture 1</th>\n",
       "      <th>perimeter 1</th>\n",
       "      <th>area 1</th>\n",
       "      <th>smoothness 1</th>\n",
       "      <th>compactness 1</th>\n",
       "      <th>concavity 1</th>\n",
       "      <th>...</th>\n",
       "      <th>perimeter 3</th>\n",
       "      <th>area 3</th>\n",
       "      <th>smoothness 3</th>\n",
       "      <th>compactness 3</th>\n",
       "      <th>concavity 3</th>\n",
       "      <th>concave points 3</th>\n",
       "      <th>symmetry 3</th>\n",
       "      <th>fractal dimension 3</th>\n",
       "      <th>Tumor size</th>\n",
       "      <th>Lymph node status</th>\n",
       "    </tr>\n",
       "  </thead>\n",
       "  <tbody>\n",
       "    <tr>\n",
       "      <th>0</th>\n",
       "      <td>119513</td>\n",
       "      <td>N</td>\n",
       "      <td>31</td>\n",
       "      <td>18.02</td>\n",
       "      <td>27.60</td>\n",
       "      <td>117.50</td>\n",
       "      <td>1013.0</td>\n",
       "      <td>0.09489</td>\n",
       "      <td>0.1036</td>\n",
       "      <td>0.1086</td>\n",
       "      <td>...</td>\n",
       "      <td>139.70</td>\n",
       "      <td>1436.0</td>\n",
       "      <td>0.1195</td>\n",
       "      <td>0.1926</td>\n",
       "      <td>0.3140</td>\n",
       "      <td>0.1170</td>\n",
       "      <td>0.2677</td>\n",
       "      <td>0.08113</td>\n",
       "      <td>5.0</td>\n",
       "      <td>5.0</td>\n",
       "    </tr>\n",
       "    <tr>\n",
       "      <th>1</th>\n",
       "      <td>8423</td>\n",
       "      <td>N</td>\n",
       "      <td>61</td>\n",
       "      <td>17.99</td>\n",
       "      <td>10.38</td>\n",
       "      <td>122.80</td>\n",
       "      <td>1001.0</td>\n",
       "      <td>0.11840</td>\n",
       "      <td>0.2776</td>\n",
       "      <td>0.3001</td>\n",
       "      <td>...</td>\n",
       "      <td>184.60</td>\n",
       "      <td>2019.0</td>\n",
       "      <td>0.1622</td>\n",
       "      <td>0.6656</td>\n",
       "      <td>0.7119</td>\n",
       "      <td>0.2654</td>\n",
       "      <td>0.4601</td>\n",
       "      <td>0.11890</td>\n",
       "      <td>3.0</td>\n",
       "      <td>2.0</td>\n",
       "    </tr>\n",
       "    <tr>\n",
       "      <th>2</th>\n",
       "      <td>842517</td>\n",
       "      <td>N</td>\n",
       "      <td>116</td>\n",
       "      <td>21.37</td>\n",
       "      <td>17.44</td>\n",
       "      <td>137.50</td>\n",
       "      <td>1373.0</td>\n",
       "      <td>0.08836</td>\n",
       "      <td>0.1189</td>\n",
       "      <td>0.1255</td>\n",
       "      <td>...</td>\n",
       "      <td>159.10</td>\n",
       "      <td>1949.0</td>\n",
       "      <td>0.1188</td>\n",
       "      <td>0.3449</td>\n",
       "      <td>0.3414</td>\n",
       "      <td>0.2032</td>\n",
       "      <td>0.4334</td>\n",
       "      <td>0.09067</td>\n",
       "      <td>2.5</td>\n",
       "      <td>0.0</td>\n",
       "    </tr>\n",
       "    <tr>\n",
       "      <th>3</th>\n",
       "      <td>843483</td>\n",
       "      <td>N</td>\n",
       "      <td>123</td>\n",
       "      <td>11.42</td>\n",
       "      <td>20.38</td>\n",
       "      <td>77.58</td>\n",
       "      <td>386.1</td>\n",
       "      <td>0.14250</td>\n",
       "      <td>0.2839</td>\n",
       "      <td>0.2414</td>\n",
       "      <td>...</td>\n",
       "      <td>98.87</td>\n",
       "      <td>567.7</td>\n",
       "      <td>0.2098</td>\n",
       "      <td>0.8663</td>\n",
       "      <td>0.6869</td>\n",
       "      <td>0.2575</td>\n",
       "      <td>0.6638</td>\n",
       "      <td>0.17300</td>\n",
       "      <td>2.0</td>\n",
       "      <td>0.0</td>\n",
       "    </tr>\n",
       "    <tr>\n",
       "      <th>4</th>\n",
       "      <td>843584</td>\n",
       "      <td>R</td>\n",
       "      <td>27</td>\n",
       "      <td>20.29</td>\n",
       "      <td>14.34</td>\n",
       "      <td>135.10</td>\n",
       "      <td>1297.0</td>\n",
       "      <td>0.10030</td>\n",
       "      <td>0.1328</td>\n",
       "      <td>0.1980</td>\n",
       "      <td>...</td>\n",
       "      <td>152.20</td>\n",
       "      <td>1575.0</td>\n",
       "      <td>0.1374</td>\n",
       "      <td>0.2050</td>\n",
       "      <td>0.4000</td>\n",
       "      <td>0.1625</td>\n",
       "      <td>0.2364</td>\n",
       "      <td>0.07678</td>\n",
       "      <td>3.5</td>\n",
       "      <td>0.0</td>\n",
       "    </tr>\n",
       "  </tbody>\n",
       "</table>\n",
       "<p>5 rows × 35 columns</p>\n",
       "</div>"
      ],
      "text/plain": [
       "   ID number Outcome  Time  radius 1  texture 1  perimeter 1  area 1   \\\n",
       "0     119513       N    31     18.02      27.60       117.50   1013.0   \n",
       "1       8423       N    61     17.99      10.38       122.80   1001.0   \n",
       "2     842517       N   116     21.37      17.44       137.50   1373.0   \n",
       "3     843483       N   123     11.42      20.38        77.58    386.1   \n",
       "4     843584       R    27     20.29      14.34       135.10   1297.0   \n",
       "\n",
       "   smoothness 1  compactness 1  concavity 1        ...          perimeter 3  \\\n",
       "0       0.09489         0.1036       0.1086        ...               139.70   \n",
       "1       0.11840         0.2776       0.3001        ...               184.60   \n",
       "2       0.08836         0.1189       0.1255        ...               159.10   \n",
       "3       0.14250         0.2839       0.2414        ...                98.87   \n",
       "4       0.10030         0.1328       0.1980        ...               152.20   \n",
       "\n",
       "   area 3  smoothness 3  compactness 3  concavity 3  concave points 3  \\\n",
       "0  1436.0        0.1195         0.1926       0.3140            0.1170   \n",
       "1  2019.0        0.1622         0.6656       0.7119            0.2654   \n",
       "2  1949.0        0.1188         0.3449       0.3414            0.2032   \n",
       "3   567.7        0.2098         0.8663       0.6869            0.2575   \n",
       "4  1575.0        0.1374         0.2050       0.4000            0.1625   \n",
       "\n",
       "   symmetry 3  fractal dimension 3  Tumor size  Lymph node status  \n",
       "0      0.2677              0.08113         5.0                5.0  \n",
       "1      0.4601              0.11890         3.0                2.0  \n",
       "2      0.4334              0.09067         2.5                0.0  \n",
       "3      0.6638              0.17300         2.0                0.0  \n",
       "4      0.2364              0.07678         3.5                0.0  \n",
       "\n",
       "[5 rows x 35 columns]"
      ]
     },
     "execution_count": 26,
     "metadata": {},
     "output_type": "execute_result"
    }
   ],
   "source": [
    "BCPdata = pd.read_csv('C:/Users/rachi/Desktop/wpbc.csv')\n",
    "BCPdata.head()"
   ]
  },
  {
   "cell_type": "markdown",
   "metadata": {},
   "source": [
    "## FInding Null values"
   ]
  },
  {
   "cell_type": "code",
   "execution_count": 27,
   "metadata": {},
   "outputs": [
    {
     "data": {
      "text/plain": [
       "ID number              0\n",
       "Outcome                0\n",
       "Time                   0\n",
       "radius 1               0\n",
       "texture 1              0\n",
       "perimeter 1            0\n",
       "area 1                 0\n",
       "smoothness 1           0\n",
       "compactness 1          0\n",
       "concavity 1            0\n",
       "concave points 1       0\n",
       "symmetry 1             0\n",
       "fractal dimension 1    0\n",
       "radius 2               0\n",
       "texture 2              0\n",
       "perimeter 2            0\n",
       "area 2                 0\n",
       "smoothness 2           0\n",
       "compactness 2          0\n",
       "concavity 2            0\n",
       "concave points 2       0\n",
       "symmetry 2             0\n",
       "fractal dimension 2    0\n",
       "radius 3               0\n",
       "texture 3              0\n",
       "perimeter 3            0\n",
       "area 3                 0\n",
       "smoothness 3           0\n",
       "compactness 3          0\n",
       "concavity 3            0\n",
       "concave points 3       0\n",
       "symmetry 3             0\n",
       "fractal dimension 3    0\n",
       "Tumor size             0\n",
       "Lymph node status      4\n",
       "dtype: int64"
      ]
     },
     "execution_count": 27,
     "metadata": {},
     "output_type": "execute_result"
    }
   ],
   "source": [
    "BCPdata.isnull().sum()"
   ]
  },
  {
   "cell_type": "markdown",
   "metadata": {},
   "source": [
    "## Eliminating Null values and replacing them with Mean value"
   ]
  },
  {
   "cell_type": "code",
   "execution_count": 28,
   "metadata": {
    "collapsed": true
   },
   "outputs": [],
   "source": [
    "BCPdata['Lymph node status'].fillna(BCPdata['Lymph node status'].mean(), inplace=True)"
   ]
  },
  {
   "cell_type": "markdown",
   "metadata": {},
   "source": [
    "## Answer 1"
   ]
  },
  {
   "cell_type": "markdown",
   "metadata": {},
   "source": [
    "## Dropping recurrence time"
   ]
  },
  {
   "cell_type": "code",
   "execution_count": 29,
   "metadata": {
    "collapsed": true
   },
   "outputs": [],
   "source": [
    "BCPdata = BCPdata.drop(['Time'], axis=1)"
   ]
  },
  {
   "cell_type": "markdown",
   "metadata": {},
   "source": [
    "## Shuffling Dataset"
   ]
  },
  {
   "cell_type": "code",
   "execution_count": 30,
   "metadata": {
    "collapsed": true
   },
   "outputs": [],
   "source": [
    "BCPdata = shuffle(BCPdata)"
   ]
  },
  {
   "cell_type": "markdown",
   "metadata": {},
   "source": [
    "## Separating features and labels"
   ]
  },
  {
   "cell_type": "code",
   "execution_count": 31,
   "metadata": {},
   "outputs": [
    {
     "data": {
      "text/html": [
       "<div>\n",
       "<style>\n",
       "    .dataframe thead tr:only-child th {\n",
       "        text-align: right;\n",
       "    }\n",
       "\n",
       "    .dataframe thead th {\n",
       "        text-align: left;\n",
       "    }\n",
       "\n",
       "    .dataframe tbody tr th {\n",
       "        vertical-align: top;\n",
       "    }\n",
       "</style>\n",
       "<table border=\"1\" class=\"dataframe\">\n",
       "  <thead>\n",
       "    <tr style=\"text-align: right;\">\n",
       "      <th></th>\n",
       "      <th>radius 1</th>\n",
       "      <th>texture 1</th>\n",
       "      <th>perimeter 1</th>\n",
       "      <th>area 1</th>\n",
       "      <th>smoothness 1</th>\n",
       "      <th>compactness 1</th>\n",
       "      <th>concavity 1</th>\n",
       "      <th>concave points 1</th>\n",
       "      <th>symmetry 1</th>\n",
       "      <th>fractal dimension 1</th>\n",
       "      <th>...</th>\n",
       "      <th>perimeter 3</th>\n",
       "      <th>area 3</th>\n",
       "      <th>smoothness 3</th>\n",
       "      <th>compactness 3</th>\n",
       "      <th>concavity 3</th>\n",
       "      <th>concave points 3</th>\n",
       "      <th>symmetry 3</th>\n",
       "      <th>fractal dimension 3</th>\n",
       "      <th>Tumor size</th>\n",
       "      <th>Lymph node status</th>\n",
       "    </tr>\n",
       "  </thead>\n",
       "  <tbody>\n",
       "    <tr>\n",
       "      <th>156</th>\n",
       "      <td>16.69</td>\n",
       "      <td>20.20</td>\n",
       "      <td>107.10</td>\n",
       "      <td>857.6</td>\n",
       "      <td>0.07497</td>\n",
       "      <td>0.07112</td>\n",
       "      <td>0.03649</td>\n",
       "      <td>0.02307</td>\n",
       "      <td>0.1846</td>\n",
       "      <td>0.05325</td>\n",
       "      <td>...</td>\n",
       "      <td>127.3</td>\n",
       "      <td>1084.0</td>\n",
       "      <td>0.1009</td>\n",
       "      <td>0.2920</td>\n",
       "      <td>0.2477</td>\n",
       "      <td>0.08737</td>\n",
       "      <td>0.4677</td>\n",
       "      <td>0.07623</td>\n",
       "      <td>2.5</td>\n",
       "      <td>0.0</td>\n",
       "    </tr>\n",
       "    <tr>\n",
       "      <th>35</th>\n",
       "      <td>13.28</td>\n",
       "      <td>20.28</td>\n",
       "      <td>87.32</td>\n",
       "      <td>545.2</td>\n",
       "      <td>0.10410</td>\n",
       "      <td>0.14360</td>\n",
       "      <td>0.09847</td>\n",
       "      <td>0.06158</td>\n",
       "      <td>0.1974</td>\n",
       "      <td>0.06782</td>\n",
       "      <td>...</td>\n",
       "      <td>113.1</td>\n",
       "      <td>907.2</td>\n",
       "      <td>0.1530</td>\n",
       "      <td>0.3724</td>\n",
       "      <td>0.3664</td>\n",
       "      <td>0.14920</td>\n",
       "      <td>0.3739</td>\n",
       "      <td>0.10270</td>\n",
       "      <td>2.6</td>\n",
       "      <td>1.0</td>\n",
       "    </tr>\n",
       "    <tr>\n",
       "      <th>15</th>\n",
       "      <td>16.13</td>\n",
       "      <td>20.68</td>\n",
       "      <td>108.10</td>\n",
       "      <td>798.8</td>\n",
       "      <td>0.11700</td>\n",
       "      <td>0.20220</td>\n",
       "      <td>0.17220</td>\n",
       "      <td>0.10280</td>\n",
       "      <td>0.2164</td>\n",
       "      <td>0.07356</td>\n",
       "      <td>...</td>\n",
       "      <td>136.8</td>\n",
       "      <td>1315.0</td>\n",
       "      <td>0.1789</td>\n",
       "      <td>0.4233</td>\n",
       "      <td>0.4784</td>\n",
       "      <td>0.20730</td>\n",
       "      <td>0.3706</td>\n",
       "      <td>0.11420</td>\n",
       "      <td>3.0</td>\n",
       "      <td>1.0</td>\n",
       "    </tr>\n",
       "    <tr>\n",
       "      <th>5</th>\n",
       "      <td>12.75</td>\n",
       "      <td>15.29</td>\n",
       "      <td>84.60</td>\n",
       "      <td>502.7</td>\n",
       "      <td>0.11890</td>\n",
       "      <td>0.15690</td>\n",
       "      <td>0.16640</td>\n",
       "      <td>0.07666</td>\n",
       "      <td>0.1995</td>\n",
       "      <td>0.07164</td>\n",
       "      <td>...</td>\n",
       "      <td>107.3</td>\n",
       "      <td>733.2</td>\n",
       "      <td>0.1706</td>\n",
       "      <td>0.4196</td>\n",
       "      <td>0.5999</td>\n",
       "      <td>0.17090</td>\n",
       "      <td>0.3485</td>\n",
       "      <td>0.11790</td>\n",
       "      <td>2.5</td>\n",
       "      <td>0.0</td>\n",
       "    </tr>\n",
       "    <tr>\n",
       "      <th>178</th>\n",
       "      <td>24.29</td>\n",
       "      <td>25.48</td>\n",
       "      <td>161.80</td>\n",
       "      <td>1715.0</td>\n",
       "      <td>0.09374</td>\n",
       "      <td>0.22840</td>\n",
       "      <td>0.27020</td>\n",
       "      <td>0.13690</td>\n",
       "      <td>0.2307</td>\n",
       "      <td>0.06308</td>\n",
       "      <td>...</td>\n",
       "      <td>184.8</td>\n",
       "      <td>2213.0</td>\n",
       "      <td>0.1247</td>\n",
       "      <td>0.3935</td>\n",
       "      <td>0.6118</td>\n",
       "      <td>0.20630</td>\n",
       "      <td>0.3983</td>\n",
       "      <td>0.07978</td>\n",
       "      <td>1.2</td>\n",
       "      <td>0.0</td>\n",
       "    </tr>\n",
       "  </tbody>\n",
       "</table>\n",
       "<p>5 rows × 32 columns</p>\n",
       "</div>"
      ],
      "text/plain": [
       "     radius 1  texture 1  perimeter 1  area 1   smoothness 1  compactness 1  \\\n",
       "156     16.69      20.20       107.10    857.6       0.07497        0.07112   \n",
       "35      13.28      20.28        87.32    545.2       0.10410        0.14360   \n",
       "15      16.13      20.68       108.10    798.8       0.11700        0.20220   \n",
       "5       12.75      15.29        84.60    502.7       0.11890        0.15690   \n",
       "178     24.29      25.48       161.80   1715.0       0.09374        0.22840   \n",
       "\n",
       "     concavity 1  concave points 1  symmetry 1  fractal dimension 1  \\\n",
       "156      0.03649           0.02307      0.1846              0.05325   \n",
       "35       0.09847           0.06158      0.1974              0.06782   \n",
       "15       0.17220           0.10280      0.2164              0.07356   \n",
       "5        0.16640           0.07666      0.1995              0.07164   \n",
       "178      0.27020           0.13690      0.2307              0.06308   \n",
       "\n",
       "           ...          perimeter 3  area 3  smoothness 3  compactness 3  \\\n",
       "156        ...                127.3  1084.0        0.1009         0.2920   \n",
       "35         ...                113.1   907.2        0.1530         0.3724   \n",
       "15         ...                136.8  1315.0        0.1789         0.4233   \n",
       "5          ...                107.3   733.2        0.1706         0.4196   \n",
       "178        ...                184.8  2213.0        0.1247         0.3935   \n",
       "\n",
       "     concavity 3  concave points 3  symmetry 3  fractal dimension 3  \\\n",
       "156       0.2477           0.08737      0.4677              0.07623   \n",
       "35        0.3664           0.14920      0.3739              0.10270   \n",
       "15        0.4784           0.20730      0.3706              0.11420   \n",
       "5         0.5999           0.17090      0.3485              0.11790   \n",
       "178       0.6118           0.20630      0.3983              0.07978   \n",
       "\n",
       "     Tumor size  Lymph node status  \n",
       "156         2.5                0.0  \n",
       "35          2.6                1.0  \n",
       "15          3.0                1.0  \n",
       "5           2.5                0.0  \n",
       "178         1.2                0.0  \n",
       "\n",
       "[5 rows x 32 columns]"
      ]
     },
     "execution_count": 31,
     "metadata": {},
     "output_type": "execute_result"
    }
   ],
   "source": [
    "X = BCPdata.loc[:,'radius 1':'Lymph node status'] # features\n",
    "y = BCPdata.loc[:,'Outcome'] # target label\n",
    "X.head()"
   ]
  },
  {
   "cell_type": "markdown",
   "metadata": {},
   "source": [
    "## Answer 1(a)."
   ]
  },
  {
   "cell_type": "markdown",
   "metadata": {},
   "source": [
    "## Decision Tree classifier"
   ]
  },
  {
   "cell_type": "markdown",
   "metadata": {},
   "source": [
    "## Parameters used:\n",
    "### 1. Criterion: Gini index\n",
    "### 2. Minimum Sample Leaf: 25\n",
    "### 3. Splitter: Best\n",
    "### 4. Minimum Sample Split: 2"
   ]
  },
  {
   "cell_type": "code",
   "execution_count": 32,
   "metadata": {
    "collapsed": true
   },
   "outputs": [],
   "source": [
    "decision_tree = DecisionTreeClassifier(criterion = \"gini\", min_samples_leaf = 25, splitter=\"best\") "
   ]
  },
  {
   "cell_type": "markdown",
   "metadata": {},
   "source": [
    "## Evaluating Accuracy"
   ]
  },
  {
   "cell_type": "code",
   "execution_count": 33,
   "metadata": {},
   "outputs": [
    {
     "name": "stdout",
     "output_type": "stream",
     "text": [
      "[0.76       0.76       0.76       0.77083333]\n",
      "\n",
      "Average accuracy:,0.7627083333333334\n"
     ]
    }
   ],
   "source": [
    "scores = cross_val_score(decision_tree, X, y, cv=4)\n",
    "print(scores)\n",
    "print('\\nAverage accuracy:,' + str(scores.mean()))"
   ]
  },
  {
   "cell_type": "markdown",
   "metadata": {},
   "source": [
    "## Fitting the model"
   ]
  },
  {
   "cell_type": "code",
   "execution_count": 34,
   "metadata": {
    "collapsed": true
   },
   "outputs": [],
   "source": [
    "fitting = decision_tree.fit(X,y)"
   ]
  },
  {
   "cell_type": "markdown",
   "metadata": {},
   "source": [
    "## Predicting labels"
   ]
  },
  {
   "cell_type": "code",
   "execution_count": 35,
   "metadata": {},
   "outputs": [
    {
     "data": {
      "text/plain": [
       "array(['N', 'N', 'N', 'N', 'N', 'N', 'N', 'R', 'N', 'N', 'N', 'R', 'N',\n",
       "       'N', 'N', 'N', 'N', 'N', 'N', 'N', 'N', 'N', 'R', 'N', 'N', 'N',\n",
       "       'N', 'N', 'N', 'N', 'N', 'R', 'N', 'N', 'N', 'N', 'N', 'N', 'R',\n",
       "       'N', 'R', 'N', 'N', 'N', 'N', 'N', 'N', 'N', 'N', 'N', 'N', 'N',\n",
       "       'N', 'N', 'N', 'N', 'R', 'R', 'N', 'N', 'N', 'N', 'N', 'N', 'R',\n",
       "       'N', 'N', 'N', 'R', 'N', 'N', 'N', 'N', 'N', 'N', 'N', 'R', 'N',\n",
       "       'N', 'N', 'N', 'N', 'N', 'N', 'N', 'N', 'N', 'N', 'N', 'N', 'N',\n",
       "       'N', 'N', 'N', 'N', 'N', 'N', 'N', 'N', 'N', 'N', 'N', 'R', 'N',\n",
       "       'N', 'N', 'N', 'N', 'N', 'N', 'N', 'N', 'N', 'N', 'N', 'R', 'N',\n",
       "       'N', 'N', 'N', 'N', 'N', 'N', 'N', 'N', 'N', 'N', 'N', 'N', 'R',\n",
       "       'N', 'N', 'N', 'N', 'N', 'N', 'N', 'N', 'R', 'N', 'N', 'N', 'N',\n",
       "       'N', 'N', 'N', 'R', 'N', 'R', 'R', 'N', 'N', 'N', 'N', 'R', 'N',\n",
       "       'R', 'N', 'R', 'N', 'N', 'N', 'N', 'N', 'N', 'R', 'N', 'N', 'N',\n",
       "       'N', 'N', 'N', 'N', 'N', 'N', 'R', 'N', 'N', 'N', 'N', 'N', 'R',\n",
       "       'N', 'R', 'N', 'N', 'N', 'N', 'N', 'N', 'N', 'R', 'N', 'N', 'N',\n",
       "       'N', 'N', 'N'], dtype=object)"
      ]
     },
     "execution_count": 35,
     "metadata": {},
     "output_type": "execute_result"
    }
   ],
   "source": [
    "predictions = fitting.predict(X)\n",
    "predictions"
   ]
  },
  {
   "cell_type": "markdown",
   "metadata": {},
   "source": [
    "## Plotting the decision tree learned"
   ]
  },
  {
   "cell_type": "code",
   "execution_count": 36,
   "metadata": {},
   "outputs": [
    {
     "data": {
      "image/png": "[encoded data removed]",
      "text/plain": [
       "<IPython.core.display.Image object>"
      ]
     },
     "execution_count": 36,
     "metadata": {},
     "output_type": "execute_result"
    }
   ],
   "source": [
    "%matplotlib inline\n",
    "dot_data = tree.export_graphviz(fitting,\n",
    "                                out_file=None,\n",
    "                                filled=True,\n",
    "                                rounded=True)\n",
    "graph = pydotplus.graph_from_dot_data(dot_data)\n",
    "  \n",
    "Image(graph.create_png())"
   ]
  },
  {
   "cell_type": "markdown",
   "metadata": {
    "collapsed": true
   },
   "source": [
    "## Evaluating the model"
   ]
  },
  {
   "cell_type": "code",
   "execution_count": 37,
   "metadata": {},
   "outputs": [
    {
     "name": "stdout",
     "output_type": "stream",
     "text": [
      "             precision    recall  f1-score   support\n",
      "\n",
      "          N       0.81      0.93      0.87       151\n",
      "          R       0.58      0.32      0.41        47\n",
      "\n",
      "avg / total       0.76      0.78      0.76       198\n",
      "\n"
     ]
    }
   ],
   "source": [
    "print(classification_report(y,predictions))"
   ]
  },
  {
   "cell_type": "markdown",
   "metadata": {},
   "source": [
    "## Answer 1(b)."
   ]
  },
  {
   "cell_type": "markdown",
   "metadata": {
    "collapsed": true
   },
   "source": [
    "### The total accuracy of the model is around 76%. The values of evaluation metrics are much better for class N than class R. Class N is more prominent in the given data. Paitents who are free of recurrence breast cancer are predicted more accurately classified, paitents for which reccurrence occured were classified poorly by the model."
   ]
  },
  {
   "cell_type": "markdown",
   "metadata": {},
   "source": [
    "## Answer 2"
   ]
  },
  {
   "cell_type": "markdown",
   "metadata": {},
   "source": [
    "## Importing dataset"
   ]
  },
  {
   "cell_type": "code",
   "execution_count": 38,
   "metadata": {},
   "outputs": [
    {
     "data": {
      "text/html": [
       "<div>\n",
       "<style>\n",
       "    .dataframe thead tr:only-child th {\n",
       "        text-align: right;\n",
       "    }\n",
       "\n",
       "    .dataframe thead th {\n",
       "        text-align: left;\n",
       "    }\n",
       "\n",
       "    .dataframe tbody tr th {\n",
       "        vertical-align: top;\n",
       "    }\n",
       "</style>\n",
       "<table border=\"1\" class=\"dataframe\">\n",
       "  <thead>\n",
       "    <tr style=\"text-align: right;\">\n",
       "      <th></th>\n",
       "      <th>ID number</th>\n",
       "      <th>Outcome</th>\n",
       "      <th>Time</th>\n",
       "      <th>radius 1</th>\n",
       "      <th>texture 1</th>\n",
       "      <th>perimeter 1</th>\n",
       "      <th>area 1</th>\n",
       "      <th>smoothness 1</th>\n",
       "      <th>compactness 1</th>\n",
       "      <th>concavity 1</th>\n",
       "      <th>...</th>\n",
       "      <th>perimeter 3</th>\n",
       "      <th>area 3</th>\n",
       "      <th>smoothness 3</th>\n",
       "      <th>compactness 3</th>\n",
       "      <th>concavity 3</th>\n",
       "      <th>concave points 3</th>\n",
       "      <th>symmetry 3</th>\n",
       "      <th>fractal dimension 3</th>\n",
       "      <th>Tumor size</th>\n",
       "      <th>Lymph node status</th>\n",
       "    </tr>\n",
       "  </thead>\n",
       "  <tbody>\n",
       "    <tr>\n",
       "      <th>0</th>\n",
       "      <td>119513</td>\n",
       "      <td>N</td>\n",
       "      <td>31</td>\n",
       "      <td>18.02</td>\n",
       "      <td>27.60</td>\n",
       "      <td>117.50</td>\n",
       "      <td>1013.0</td>\n",
       "      <td>0.09489</td>\n",
       "      <td>0.1036</td>\n",
       "      <td>0.1086</td>\n",
       "      <td>...</td>\n",
       "      <td>139.70</td>\n",
       "      <td>1436.0</td>\n",
       "      <td>0.1195</td>\n",
       "      <td>0.1926</td>\n",
       "      <td>0.3140</td>\n",
       "      <td>0.1170</td>\n",
       "      <td>0.2677</td>\n",
       "      <td>0.08113</td>\n",
       "      <td>5.0</td>\n",
       "      <td>5.0</td>\n",
       "    </tr>\n",
       "    <tr>\n",
       "      <th>1</th>\n",
       "      <td>8423</td>\n",
       "      <td>N</td>\n",
       "      <td>61</td>\n",
       "      <td>17.99</td>\n",
       "      <td>10.38</td>\n",
       "      <td>122.80</td>\n",
       "      <td>1001.0</td>\n",
       "      <td>0.11840</td>\n",
       "      <td>0.2776</td>\n",
       "      <td>0.3001</td>\n",
       "      <td>...</td>\n",
       "      <td>184.60</td>\n",
       "      <td>2019.0</td>\n",
       "      <td>0.1622</td>\n",
       "      <td>0.6656</td>\n",
       "      <td>0.7119</td>\n",
       "      <td>0.2654</td>\n",
       "      <td>0.4601</td>\n",
       "      <td>0.11890</td>\n",
       "      <td>3.0</td>\n",
       "      <td>2.0</td>\n",
       "    </tr>\n",
       "    <tr>\n",
       "      <th>2</th>\n",
       "      <td>842517</td>\n",
       "      <td>N</td>\n",
       "      <td>116</td>\n",
       "      <td>21.37</td>\n",
       "      <td>17.44</td>\n",
       "      <td>137.50</td>\n",
       "      <td>1373.0</td>\n",
       "      <td>0.08836</td>\n",
       "      <td>0.1189</td>\n",
       "      <td>0.1255</td>\n",
       "      <td>...</td>\n",
       "      <td>159.10</td>\n",
       "      <td>1949.0</td>\n",
       "      <td>0.1188</td>\n",
       "      <td>0.3449</td>\n",
       "      <td>0.3414</td>\n",
       "      <td>0.2032</td>\n",
       "      <td>0.4334</td>\n",
       "      <td>0.09067</td>\n",
       "      <td>2.5</td>\n",
       "      <td>0.0</td>\n",
       "    </tr>\n",
       "    <tr>\n",
       "      <th>3</th>\n",
       "      <td>843483</td>\n",
       "      <td>N</td>\n",
       "      <td>123</td>\n",
       "      <td>11.42</td>\n",
       "      <td>20.38</td>\n",
       "      <td>77.58</td>\n",
       "      <td>386.1</td>\n",
       "      <td>0.14250</td>\n",
       "      <td>0.2839</td>\n",
       "      <td>0.2414</td>\n",
       "      <td>...</td>\n",
       "      <td>98.87</td>\n",
       "      <td>567.7</td>\n",
       "      <td>0.2098</td>\n",
       "      <td>0.8663</td>\n",
       "      <td>0.6869</td>\n",
       "      <td>0.2575</td>\n",
       "      <td>0.6638</td>\n",
       "      <td>0.17300</td>\n",
       "      <td>2.0</td>\n",
       "      <td>0.0</td>\n",
       "    </tr>\n",
       "    <tr>\n",
       "      <th>4</th>\n",
       "      <td>843584</td>\n",
       "      <td>R</td>\n",
       "      <td>27</td>\n",
       "      <td>20.29</td>\n",
       "      <td>14.34</td>\n",
       "      <td>135.10</td>\n",
       "      <td>1297.0</td>\n",
       "      <td>0.10030</td>\n",
       "      <td>0.1328</td>\n",
       "      <td>0.1980</td>\n",
       "      <td>...</td>\n",
       "      <td>152.20</td>\n",
       "      <td>1575.0</td>\n",
       "      <td>0.1374</td>\n",
       "      <td>0.2050</td>\n",
       "      <td>0.4000</td>\n",
       "      <td>0.1625</td>\n",
       "      <td>0.2364</td>\n",
       "      <td>0.07678</td>\n",
       "      <td>3.5</td>\n",
       "      <td>0.0</td>\n",
       "    </tr>\n",
       "  </tbody>\n",
       "</table>\n",
       "<p>5 rows × 35 columns</p>\n",
       "</div>"
      ],
      "text/plain": [
       "   ID number Outcome  Time  radius 1  texture 1  perimeter 1  area 1   \\\n",
       "0     119513       N    31     18.02      27.60       117.50   1013.0   \n",
       "1       8423       N    61     17.99      10.38       122.80   1001.0   \n",
       "2     842517       N   116     21.37      17.44       137.50   1373.0   \n",
       "3     843483       N   123     11.42      20.38        77.58    386.1   \n",
       "4     843584       R    27     20.29      14.34       135.10   1297.0   \n",
       "\n",
       "   smoothness 1  compactness 1  concavity 1        ...          perimeter 3  \\\n",
       "0       0.09489         0.1036       0.1086        ...               139.70   \n",
       "1       0.11840         0.2776       0.3001        ...               184.60   \n",
       "2       0.08836         0.1189       0.1255        ...               159.10   \n",
       "3       0.14250         0.2839       0.2414        ...                98.87   \n",
       "4       0.10030         0.1328       0.1980        ...               152.20   \n",
       "\n",
       "   area 3  smoothness 3  compactness 3  concavity 3  concave points 3  \\\n",
       "0  1436.0        0.1195         0.1926       0.3140            0.1170   \n",
       "1  2019.0        0.1622         0.6656       0.7119            0.2654   \n",
       "2  1949.0        0.1188         0.3449       0.3414            0.2032   \n",
       "3   567.7        0.2098         0.8663       0.6869            0.2575   \n",
       "4  1575.0        0.1374         0.2050       0.4000            0.1625   \n",
       "\n",
       "   symmetry 3  fractal dimension 3  Tumor size  Lymph node status  \n",
       "0      0.2677              0.08113         5.0                5.0  \n",
       "1      0.4601              0.11890         3.0                2.0  \n",
       "2      0.4334              0.09067         2.5                0.0  \n",
       "3      0.6638              0.17300         2.0                0.0  \n",
       "4      0.2364              0.07678         3.5                0.0  \n",
       "\n",
       "[5 rows x 35 columns]"
      ]
     },
     "execution_count": 38,
     "metadata": {},
     "output_type": "execute_result"
    }
   ],
   "source": [
    "BCPdata = pd.read_csv('C:/Users/rachi/Desktop/wpbc.csv')\n",
    "BCPdata.head()"
   ]
  },
  {
   "cell_type": "markdown",
   "metadata": {},
   "source": [
    "## Finding Null values"
   ]
  },
  {
   "cell_type": "code",
   "execution_count": 39,
   "metadata": {},
   "outputs": [
    {
     "data": {
      "text/plain": [
       "ID number              0\n",
       "Outcome                0\n",
       "Time                   0\n",
       "radius 1               0\n",
       "texture 1              0\n",
       "perimeter 1            0\n",
       "area 1                 0\n",
       "smoothness 1           0\n",
       "compactness 1          0\n",
       "concavity 1            0\n",
       "concave points 1       0\n",
       "symmetry 1             0\n",
       "fractal dimension 1    0\n",
       "radius 2               0\n",
       "texture 2              0\n",
       "perimeter 2            0\n",
       "area 2                 0\n",
       "smoothness 2           0\n",
       "compactness 2          0\n",
       "concavity 2            0\n",
       "concave points 2       0\n",
       "symmetry 2             0\n",
       "fractal dimension 2    0\n",
       "radius 3               0\n",
       "texture 3              0\n",
       "perimeter 3            0\n",
       "area 3                 0\n",
       "smoothness 3           0\n",
       "compactness 3          0\n",
       "concavity 3            0\n",
       "concave points 3       0\n",
       "symmetry 3             0\n",
       "fractal dimension 3    0\n",
       "Tumor size             0\n",
       "Lymph node status      4\n",
       "dtype: int64"
      ]
     },
     "execution_count": 39,
     "metadata": {},
     "output_type": "execute_result"
    }
   ],
   "source": [
    "BCPdata.isnull().sum()"
   ]
  },
  {
   "cell_type": "markdown",
   "metadata": {},
   "source": [
    "## Eliminating Null values and replacing them with Mean value"
   ]
  },
  {
   "cell_type": "code",
   "execution_count": 40,
   "metadata": {
    "collapsed": true
   },
   "outputs": [],
   "source": [
    "BCPdata['Lymph node status'].fillna(BCPdata['Lymph node status'].mean(), inplace=True)"
   ]
  },
  {
   "cell_type": "markdown",
   "metadata": {},
   "source": [
    "## Dropping the class attribute"
   ]
  },
  {
   "cell_type": "code",
   "execution_count": 41,
   "metadata": {},
   "outputs": [
    {
     "data": {
      "text/html": [
       "<div>\n",
       "<style>\n",
       "    .dataframe thead tr:only-child th {\n",
       "        text-align: right;\n",
       "    }\n",
       "\n",
       "    .dataframe thead th {\n",
       "        text-align: left;\n",
       "    }\n",
       "\n",
       "    .dataframe tbody tr th {\n",
       "        vertical-align: top;\n",
       "    }\n",
       "</style>\n",
       "<table border=\"1\" class=\"dataframe\">\n",
       "  <thead>\n",
       "    <tr style=\"text-align: right;\">\n",
       "      <th></th>\n",
       "      <th>ID number</th>\n",
       "      <th>Time</th>\n",
       "      <th>radius 1</th>\n",
       "      <th>texture 1</th>\n",
       "      <th>perimeter 1</th>\n",
       "      <th>area 1</th>\n",
       "      <th>smoothness 1</th>\n",
       "      <th>compactness 1</th>\n",
       "      <th>concavity 1</th>\n",
       "      <th>concave points 1</th>\n",
       "      <th>...</th>\n",
       "      <th>perimeter 3</th>\n",
       "      <th>area 3</th>\n",
       "      <th>smoothness 3</th>\n",
       "      <th>compactness 3</th>\n",
       "      <th>concavity 3</th>\n",
       "      <th>concave points 3</th>\n",
       "      <th>symmetry 3</th>\n",
       "      <th>fractal dimension 3</th>\n",
       "      <th>Tumor size</th>\n",
       "      <th>Lymph node status</th>\n",
       "    </tr>\n",
       "  </thead>\n",
       "  <tbody>\n",
       "    <tr>\n",
       "      <th>0</th>\n",
       "      <td>119513</td>\n",
       "      <td>31</td>\n",
       "      <td>18.02</td>\n",
       "      <td>27.60</td>\n",
       "      <td>117.50</td>\n",
       "      <td>1013.0</td>\n",
       "      <td>0.09489</td>\n",
       "      <td>0.1036</td>\n",
       "      <td>0.1086</td>\n",
       "      <td>0.07055</td>\n",
       "      <td>...</td>\n",
       "      <td>139.70</td>\n",
       "      <td>1436.0</td>\n",
       "      <td>0.1195</td>\n",
       "      <td>0.1926</td>\n",
       "      <td>0.3140</td>\n",
       "      <td>0.1170</td>\n",
       "      <td>0.2677</td>\n",
       "      <td>0.08113</td>\n",
       "      <td>5.0</td>\n",
       "      <td>5.0</td>\n",
       "    </tr>\n",
       "    <tr>\n",
       "      <th>1</th>\n",
       "      <td>8423</td>\n",
       "      <td>61</td>\n",
       "      <td>17.99</td>\n",
       "      <td>10.38</td>\n",
       "      <td>122.80</td>\n",
       "      <td>1001.0</td>\n",
       "      <td>0.11840</td>\n",
       "      <td>0.2776</td>\n",
       "      <td>0.3001</td>\n",
       "      <td>0.14710</td>\n",
       "      <td>...</td>\n",
       "      <td>184.60</td>\n",
       "      <td>2019.0</td>\n",
       "      <td>0.1622</td>\n",
       "      <td>0.6656</td>\n",
       "      <td>0.7119</td>\n",
       "      <td>0.2654</td>\n",
       "      <td>0.4601</td>\n",
       "      <td>0.11890</td>\n",
       "      <td>3.0</td>\n",
       "      <td>2.0</td>\n",
       "    </tr>\n",
       "    <tr>\n",
       "      <th>2</th>\n",
       "      <td>842517</td>\n",
       "      <td>116</td>\n",
       "      <td>21.37</td>\n",
       "      <td>17.44</td>\n",
       "      <td>137.50</td>\n",
       "      <td>1373.0</td>\n",
       "      <td>0.08836</td>\n",
       "      <td>0.1189</td>\n",
       "      <td>0.1255</td>\n",
       "      <td>0.08180</td>\n",
       "      <td>...</td>\n",
       "      <td>159.10</td>\n",
       "      <td>1949.0</td>\n",
       "      <td>0.1188</td>\n",
       "      <td>0.3449</td>\n",
       "      <td>0.3414</td>\n",
       "      <td>0.2032</td>\n",
       "      <td>0.4334</td>\n",
       "      <td>0.09067</td>\n",
       "      <td>2.5</td>\n",
       "      <td>0.0</td>\n",
       "    </tr>\n",
       "    <tr>\n",
       "      <th>3</th>\n",
       "      <td>843483</td>\n",
       "      <td>123</td>\n",
       "      <td>11.42</td>\n",
       "      <td>20.38</td>\n",
       "      <td>77.58</td>\n",
       "      <td>386.1</td>\n",
       "      <td>0.14250</td>\n",
       "      <td>0.2839</td>\n",
       "      <td>0.2414</td>\n",
       "      <td>0.10520</td>\n",
       "      <td>...</td>\n",
       "      <td>98.87</td>\n",
       "      <td>567.7</td>\n",
       "      <td>0.2098</td>\n",
       "      <td>0.8663</td>\n",
       "      <td>0.6869</td>\n",
       "      <td>0.2575</td>\n",
       "      <td>0.6638</td>\n",
       "      <td>0.17300</td>\n",
       "      <td>2.0</td>\n",
       "      <td>0.0</td>\n",
       "    </tr>\n",
       "    <tr>\n",
       "      <th>4</th>\n",
       "      <td>843584</td>\n",
       "      <td>27</td>\n",
       "      <td>20.29</td>\n",
       "      <td>14.34</td>\n",
       "      <td>135.10</td>\n",
       "      <td>1297.0</td>\n",
       "      <td>0.10030</td>\n",
       "      <td>0.1328</td>\n",
       "      <td>0.1980</td>\n",
       "      <td>0.10430</td>\n",
       "      <td>...</td>\n",
       "      <td>152.20</td>\n",
       "      <td>1575.0</td>\n",
       "      <td>0.1374</td>\n",
       "      <td>0.2050</td>\n",
       "      <td>0.4000</td>\n",
       "      <td>0.1625</td>\n",
       "      <td>0.2364</td>\n",
       "      <td>0.07678</td>\n",
       "      <td>3.5</td>\n",
       "      <td>0.0</td>\n",
       "    </tr>\n",
       "  </tbody>\n",
       "</table>\n",
       "<p>5 rows × 34 columns</p>\n",
       "</div>"
      ],
      "text/plain": [
       "   ID number  Time  radius 1  texture 1  perimeter 1  area 1   smoothness 1  \\\n",
       "0     119513    31     18.02      27.60       117.50   1013.0       0.09489   \n",
       "1       8423    61     17.99      10.38       122.80   1001.0       0.11840   \n",
       "2     842517   116     21.37      17.44       137.50   1373.0       0.08836   \n",
       "3     843483   123     11.42      20.38        77.58    386.1       0.14250   \n",
       "4     843584    27     20.29      14.34       135.10   1297.0       0.10030   \n",
       "\n",
       "   compactness 1  concavity 1  concave points 1        ...          \\\n",
       "0         0.1036       0.1086           0.07055        ...           \n",
       "1         0.2776       0.3001           0.14710        ...           \n",
       "2         0.1189       0.1255           0.08180        ...           \n",
       "3         0.2839       0.2414           0.10520        ...           \n",
       "4         0.1328       0.1980           0.10430        ...           \n",
       "\n",
       "   perimeter 3  area 3  smoothness 3  compactness 3  concavity 3  \\\n",
       "0       139.70  1436.0        0.1195         0.1926       0.3140   \n",
       "1       184.60  2019.0        0.1622         0.6656       0.7119   \n",
       "2       159.10  1949.0        0.1188         0.3449       0.3414   \n",
       "3        98.87   567.7        0.2098         0.8663       0.6869   \n",
       "4       152.20  1575.0        0.1374         0.2050       0.4000   \n",
       "\n",
       "   concave points 3  symmetry 3  fractal dimension 3  Tumor size  \\\n",
       "0            0.1170      0.2677              0.08113         5.0   \n",
       "1            0.2654      0.4601              0.11890         3.0   \n",
       "2            0.2032      0.4334              0.09067         2.5   \n",
       "3            0.2575      0.6638              0.17300         2.0   \n",
       "4            0.1625      0.2364              0.07678         3.5   \n",
       "\n",
       "   Lymph node status  \n",
       "0                5.0  \n",
       "1                2.0  \n",
       "2                0.0  \n",
       "3                0.0  \n",
       "4                0.0  \n",
       "\n",
       "[5 rows x 34 columns]"
      ]
     },
     "execution_count": 41,
     "metadata": {},
     "output_type": "execute_result"
    }
   ],
   "source": [
    "BCPdata = BCPdata.drop(['Outcome'], axis=1)\n",
    "BCPdata.head()"
   ]
  },
  {
   "cell_type": "markdown",
   "metadata": {},
   "source": [
    "## Separating features and target label"
   ]
  },
  {
   "cell_type": "code",
   "execution_count": 42,
   "metadata": {},
   "outputs": [
    {
     "data": {
      "text/html": [
       "<div>\n",
       "<style>\n",
       "    .dataframe thead tr:only-child th {\n",
       "        text-align: right;\n",
       "    }\n",
       "\n",
       "    .dataframe thead th {\n",
       "        text-align: left;\n",
       "    }\n",
       "\n",
       "    .dataframe tbody tr th {\n",
       "        vertical-align: top;\n",
       "    }\n",
       "</style>\n",
       "<table border=\"1\" class=\"dataframe\">\n",
       "  <thead>\n",
       "    <tr style=\"text-align: right;\">\n",
       "      <th></th>\n",
       "      <th>radius 1</th>\n",
       "      <th>texture 1</th>\n",
       "      <th>perimeter 1</th>\n",
       "      <th>area 1</th>\n",
       "      <th>smoothness 1</th>\n",
       "      <th>compactness 1</th>\n",
       "      <th>concavity 1</th>\n",
       "      <th>concave points 1</th>\n",
       "      <th>symmetry 1</th>\n",
       "      <th>fractal dimension 1</th>\n",
       "      <th>...</th>\n",
       "      <th>perimeter 3</th>\n",
       "      <th>area 3</th>\n",
       "      <th>smoothness 3</th>\n",
       "      <th>compactness 3</th>\n",
       "      <th>concavity 3</th>\n",
       "      <th>concave points 3</th>\n",
       "      <th>symmetry 3</th>\n",
       "      <th>fractal dimension 3</th>\n",
       "      <th>Tumor size</th>\n",
       "      <th>Lymph node status</th>\n",
       "    </tr>\n",
       "  </thead>\n",
       "  <tbody>\n",
       "    <tr>\n",
       "      <th>0</th>\n",
       "      <td>18.02</td>\n",
       "      <td>27.60</td>\n",
       "      <td>117.50</td>\n",
       "      <td>1013.0</td>\n",
       "      <td>0.09489</td>\n",
       "      <td>0.1036</td>\n",
       "      <td>0.1086</td>\n",
       "      <td>0.07055</td>\n",
       "      <td>0.1865</td>\n",
       "      <td>0.06333</td>\n",
       "      <td>...</td>\n",
       "      <td>139.70</td>\n",
       "      <td>1436.0</td>\n",
       "      <td>0.1195</td>\n",
       "      <td>0.1926</td>\n",
       "      <td>0.3140</td>\n",
       "      <td>0.1170</td>\n",
       "      <td>0.2677</td>\n",
       "      <td>0.08113</td>\n",
       "      <td>5.0</td>\n",
       "      <td>5.0</td>\n",
       "    </tr>\n",
       "    <tr>\n",
       "      <th>1</th>\n",
       "      <td>17.99</td>\n",
       "      <td>10.38</td>\n",
       "      <td>122.80</td>\n",
       "      <td>1001.0</td>\n",
       "      <td>0.11840</td>\n",
       "      <td>0.2776</td>\n",
       "      <td>0.3001</td>\n",
       "      <td>0.14710</td>\n",
       "      <td>0.2419</td>\n",
       "      <td>0.07871</td>\n",
       "      <td>...</td>\n",
       "      <td>184.60</td>\n",
       "      <td>2019.0</td>\n",
       "      <td>0.1622</td>\n",
       "      <td>0.6656</td>\n",
       "      <td>0.7119</td>\n",
       "      <td>0.2654</td>\n",
       "      <td>0.4601</td>\n",
       "      <td>0.11890</td>\n",
       "      <td>3.0</td>\n",
       "      <td>2.0</td>\n",
       "    </tr>\n",
       "    <tr>\n",
       "      <th>2</th>\n",
       "      <td>21.37</td>\n",
       "      <td>17.44</td>\n",
       "      <td>137.50</td>\n",
       "      <td>1373.0</td>\n",
       "      <td>0.08836</td>\n",
       "      <td>0.1189</td>\n",
       "      <td>0.1255</td>\n",
       "      <td>0.08180</td>\n",
       "      <td>0.2333</td>\n",
       "      <td>0.06010</td>\n",
       "      <td>...</td>\n",
       "      <td>159.10</td>\n",
       "      <td>1949.0</td>\n",
       "      <td>0.1188</td>\n",
       "      <td>0.3449</td>\n",
       "      <td>0.3414</td>\n",
       "      <td>0.2032</td>\n",
       "      <td>0.4334</td>\n",
       "      <td>0.09067</td>\n",
       "      <td>2.5</td>\n",
       "      <td>0.0</td>\n",
       "    </tr>\n",
       "    <tr>\n",
       "      <th>3</th>\n",
       "      <td>11.42</td>\n",
       "      <td>20.38</td>\n",
       "      <td>77.58</td>\n",
       "      <td>386.1</td>\n",
       "      <td>0.14250</td>\n",
       "      <td>0.2839</td>\n",
       "      <td>0.2414</td>\n",
       "      <td>0.10520</td>\n",
       "      <td>0.2597</td>\n",
       "      <td>0.09744</td>\n",
       "      <td>...</td>\n",
       "      <td>98.87</td>\n",
       "      <td>567.7</td>\n",
       "      <td>0.2098</td>\n",
       "      <td>0.8663</td>\n",
       "      <td>0.6869</td>\n",
       "      <td>0.2575</td>\n",
       "      <td>0.6638</td>\n",
       "      <td>0.17300</td>\n",
       "      <td>2.0</td>\n",
       "      <td>0.0</td>\n",
       "    </tr>\n",
       "    <tr>\n",
       "      <th>4</th>\n",
       "      <td>20.29</td>\n",
       "      <td>14.34</td>\n",
       "      <td>135.10</td>\n",
       "      <td>1297.0</td>\n",
       "      <td>0.10030</td>\n",
       "      <td>0.1328</td>\n",
       "      <td>0.1980</td>\n",
       "      <td>0.10430</td>\n",
       "      <td>0.1809</td>\n",
       "      <td>0.05883</td>\n",
       "      <td>...</td>\n",
       "      <td>152.20</td>\n",
       "      <td>1575.0</td>\n",
       "      <td>0.1374</td>\n",
       "      <td>0.2050</td>\n",
       "      <td>0.4000</td>\n",
       "      <td>0.1625</td>\n",
       "      <td>0.2364</td>\n",
       "      <td>0.07678</td>\n",
       "      <td>3.5</td>\n",
       "      <td>0.0</td>\n",
       "    </tr>\n",
       "  </tbody>\n",
       "</table>\n",
       "<p>5 rows × 32 columns</p>\n",
       "</div>"
      ],
      "text/plain": [
       "   radius 1  texture 1  perimeter 1  area 1   smoothness 1  compactness 1  \\\n",
       "0     18.02      27.60       117.50   1013.0       0.09489         0.1036   \n",
       "1     17.99      10.38       122.80   1001.0       0.11840         0.2776   \n",
       "2     21.37      17.44       137.50   1373.0       0.08836         0.1189   \n",
       "3     11.42      20.38        77.58    386.1       0.14250         0.2839   \n",
       "4     20.29      14.34       135.10   1297.0       0.10030         0.1328   \n",
       "\n",
       "   concavity 1  concave points 1  symmetry 1  fractal dimension 1  \\\n",
       "0       0.1086           0.07055      0.1865              0.06333   \n",
       "1       0.3001           0.14710      0.2419              0.07871   \n",
       "2       0.1255           0.08180      0.2333              0.06010   \n",
       "3       0.2414           0.10520      0.2597              0.09744   \n",
       "4       0.1980           0.10430      0.1809              0.05883   \n",
       "\n",
       "         ...          perimeter 3  area 3  smoothness 3  compactness 3  \\\n",
       "0        ...               139.70  1436.0        0.1195         0.1926   \n",
       "1        ...               184.60  2019.0        0.1622         0.6656   \n",
       "2        ...               159.10  1949.0        0.1188         0.3449   \n",
       "3        ...                98.87   567.7        0.2098         0.8663   \n",
       "4        ...               152.20  1575.0        0.1374         0.2050   \n",
       "\n",
       "   concavity 3  concave points 3  symmetry 3  fractal dimension 3  Tumor size  \\\n",
       "0       0.3140            0.1170      0.2677              0.08113         5.0   \n",
       "1       0.7119            0.2654      0.4601              0.11890         3.0   \n",
       "2       0.3414            0.2032      0.4334              0.09067         2.5   \n",
       "3       0.6869            0.2575      0.6638              0.17300         2.0   \n",
       "4       0.4000            0.1625      0.2364              0.07678         3.5   \n",
       "\n",
       "   Lymph node status  \n",
       "0                5.0  \n",
       "1                2.0  \n",
       "2                0.0  \n",
       "3                0.0  \n",
       "4                0.0  \n",
       "\n",
       "[5 rows x 32 columns]"
      ]
     },
     "execution_count": 42,
     "metadata": {},
     "output_type": "execute_result"
    }
   ],
   "source": [
    "X = BCPdata.loc[:,'radius 1':'Lymph node status'] # features\n",
    "y = BCPdata.loc[:,'Time'] # target label\n",
    "X.head()"
   ]
  },
  {
   "cell_type": "markdown",
   "metadata": {},
   "source": [
    "## Answer 2(a)."
   ]
  },
  {
   "cell_type": "markdown",
   "metadata": {},
   "source": [
    "## Dividing training and testing data"
   ]
  },
  {
   "cell_type": "code",
   "execution_count": 43,
   "metadata": {
    "collapsed": true
   },
   "outputs": [],
   "source": [
    "X_train, X_test, y_train, y_test = X[:132], X[132:], y[:132], y[132:]"
   ]
  },
  {
   "cell_type": "markdown",
   "metadata": {},
   "source": [
    "## Average number of disease free years"
   ]
  },
  {
   "cell_type": "code",
   "execution_count": 44,
   "metadata": {
    "collapsed": true
   },
   "outputs": [],
   "source": [
    "avg_disease_free_time_train = y_train.mean()"
   ]
  },
  {
   "cell_type": "code",
   "execution_count": 45,
   "metadata": {},
   "outputs": [
    {
     "data": {
      "text/plain": [
       "58.833333333333336"
      ]
     },
     "execution_count": 45,
     "metadata": {},
     "output_type": "execute_result"
    }
   ],
   "source": [
    "avg_disease_free_time_train"
   ]
  },
  {
   "cell_type": "markdown",
   "metadata": {},
   "source": [
    "## Calculating Mean Square Error"
   ]
  },
  {
   "cell_type": "markdown",
   "metadata": {},
   "source": [
    "## MSE for training data"
   ]
  },
  {
   "cell_type": "code",
   "execution_count": 46,
   "metadata": {
    "collapsed": true
   },
   "outputs": [],
   "source": [
    "error_train = y_train - avg_disease_free_time_train\n",
    "square_error_train = error_train * error_train\n",
    "mean_square_error_train = square_error_train.mean()"
   ]
  },
  {
   "cell_type": "code",
   "execution_count": 47,
   "metadata": {},
   "outputs": [
    {
     "data": {
      "text/plain": [
       "1183.9419191919192"
      ]
     },
     "execution_count": 47,
     "metadata": {},
     "output_type": "execute_result"
    }
   ],
   "source": [
    "mean_square_error_train"
   ]
  },
  {
   "cell_type": "markdown",
   "metadata": {},
   "source": [
    "## MSE for testing data"
   ]
  },
  {
   "cell_type": "code",
   "execution_count": 48,
   "metadata": {
    "collapsed": true
   },
   "outputs": [],
   "source": [
    "error_test = y_test - avg_disease_free_time_train\n",
    "square_error_test = error_test * error_test\n",
    "mean_square_error_test = square_error_test.mean()"
   ]
  },
  {
   "cell_type": "code",
   "execution_count": 49,
   "metadata": {},
   "outputs": [
    {
     "data": {
      "text/plain": [
       "1616.4924242424247"
      ]
     },
     "execution_count": 49,
     "metadata": {},
     "output_type": "execute_result"
    }
   ],
   "source": [
    "mean_square_error_test"
   ]
  },
  {
   "cell_type": "markdown",
   "metadata": {},
   "source": [
    "## Answer 2(b)."
   ]
  },
  {
   "cell_type": "markdown",
   "metadata": {},
   "source": [
    "## Calculating correlation using Pearson's Correlation Coefficient"
   ]
  },
  {
   "cell_type": "code",
   "execution_count": 50,
   "metadata": {
    "collapsed": true
   },
   "outputs": [],
   "source": [
    "def cal_correlation(X):\n",
    "    global corr\n",
    "    corr = []\n",
    "    for i in X:\n",
    "        feat = X_train[i]\n",
    "        feat_mean = feat.mean()\n",
    "        num = ((feat - feat_mean)*(y_train - avg_disease_free_time_train)).sum()\n",
    "        denom = ((((feat - feat_mean)**2).sum()) * (((y_train - avg_disease_free_time_train)**2).sum()))**(1/2)\n",
    "        correlation = num/denom\n",
    "        corr.append(abs(correlation))\n",
    "        print(\"Correlation between \" + str(i) +\" and disease-free years is: \" + str(correlation))"
   ]
  },
  {
   "cell_type": "code",
   "execution_count": 51,
   "metadata": {},
   "outputs": [
    {
     "name": "stdout",
     "output_type": "stream",
     "text": [
      "Correlation between radius 1 and disease-free years is: -0.3646604075150667\n",
      "Correlation between texture 1 and disease-free years is: -0.1302759028465298\n",
      "Correlation between perimeter 1 and disease-free years is: -0.37330876008058334\n",
      "Correlation between area 1  and disease-free years is: -0.36933189005221195\n",
      "Correlation between smoothness 1 and disease-free years is: 0.13208365897275284\n",
      "Correlation between compactness 1 and disease-free years is: -0.045900250285935716\n",
      "Correlation between concavity 1 and disease-free years is: -0.16806454500699036\n",
      "Correlation between concave points 1 and disease-free years is: -0.21425175736946708\n",
      "Correlation between symmetry 1 and disease-free years is: 0.094061607123029\n",
      "Correlation between fractal dimension 1 and disease-free years is: 0.2604458863493912\n",
      "Correlation between radius 2 and disease-free years is: -0.2386906695227489\n",
      "Correlation between texture 2 and disease-free years is: -0.16824732375961687\n",
      "Correlation between perimeter 2 and disease-free years is: -0.26033353594356895\n",
      "Correlation between area 2 and disease-free years is: -0.27242857993022745\n",
      "Correlation between smoothness 2 and disease-free years is: 0.023284766460944985\n",
      "Correlation between compactness 2 and disease-free years is: -0.06945706058214933\n",
      "Correlation between concavity 2 and disease-free years is: -0.08350286730049798\n",
      "Correlation between concave points 2 and disease-free years is: -0.07635596193720588\n",
      "Correlation between symmetry 2 and disease-free years is: -0.03835300757001643\n",
      "Correlation between fractal dimension 2 and disease-free years is: 0.07786555532854299\n",
      "Correlation between radius 3 and disease-free years is: -0.3271291179037726\n",
      "Correlation between texture 3  and disease-free years is: -0.07430582672124257\n",
      "Correlation between perimeter 3 and disease-free years is: -0.3493945339055111\n",
      "Correlation between area 3 and disease-free years is: -0.3183282732171891\n",
      "Correlation between smoothness 3 and disease-free years is: 0.15017642788074081\n",
      "Correlation between compactness 3 and disease-free years is: 0.02688770910326868\n",
      "Correlation between concavity 3 and disease-free years is: -0.02346950511319436\n",
      "Correlation between concave points 3 and disease-free years is: -0.09644312464960686\n",
      "Correlation between symmetry 3 and disease-free years is: 0.12063466314246496\n",
      "Correlation between fractal dimension 3 and disease-free years is: 0.2361623060806346\n",
      "Correlation between Tumor size and disease-free years is: -0.1850638902461592\n",
      "Correlation between Lymph node status and disease-free years is: -0.169492680686194\n"
     ]
    }
   ],
   "source": [
    "features = X_train.keys()\n",
    "cal_correlation(features)"
   ]
  },
  {
   "cell_type": "markdown",
   "metadata": {},
   "source": [
    "## Tree Structure"
   ]
  },
  {
   "cell_type": "code",
   "execution_count": 52,
   "metadata": {
    "collapsed": true
   },
   "outputs": [],
   "source": [
    "class tree_structure(object):\n",
    "    def __init__(self,name):\n",
    "        self.name = name\n",
    "        self.left = None\n",
    "        self.right = None\n",
    "        self.data = None"
   ]
  },
  {
   "cell_type": "code",
   "execution_count": 53,
   "metadata": {
    "collapsed": true
   },
   "outputs": [],
   "source": [
    "root = tree_structure('root')  # defining the root node"
   ]
  },
  {
   "cell_type": "markdown",
   "metadata": {},
   "source": [
    "## Maximum Correlation value"
   ]
  },
  {
   "cell_type": "code",
   "execution_count": 54,
   "metadata": {},
   "outputs": [
    {
     "name": "stdout",
     "output_type": "stream",
     "text": [
      "perimeter 1 has the maximum correlation with disease free year = 0.37330876008058334\n"
     ]
    }
   ],
   "source": [
    "max_correlation_index = corr.index(max(corr))\n",
    "print(str(features[max_correlation_index]) + \" has the maximum correlation with disease free year = \" + str(max(corr)))"
   ]
  },
  {
   "cell_type": "markdown",
   "metadata": {},
   "source": [
    "## Median of most correlated attribute"
   ]
  },
  {
   "cell_type": "code",
   "execution_count": 55,
   "metadata": {},
   "outputs": [
    {
     "name": "stdout",
     "output_type": "stream",
     "text": [
      "Median value to split feature: 110.05\n"
     ]
    }
   ],
   "source": [
    "median_most_corr_att = X_train['perimeter 1'].median()\n",
    "print('Median value to split feature: ' + str(median_most_corr_att))"
   ]
  },
  {
   "cell_type": "markdown",
   "metadata": {},
   "source": [
    "## Splitting the dataset "
   ]
  },
  {
   "cell_type": "code",
   "execution_count": 56,
   "metadata": {
    "collapsed": true
   },
   "outputs": [],
   "source": [
    "X_train_child1 = X_train[X_train['perimeter 1'] <= median_most_corr_att]\n",
    "X_train_child2 = X_train[X_train['perimeter 1'] > median_most_corr_att]\n",
    "y_train_child1 = y_train[X_train['perimeter 1'] <= median_most_corr_att]\n",
    "y_train_child2 = y_train[X_train['perimeter 1'] > median_most_corr_att]"
   ]
  },
  {
   "cell_type": "code",
   "execution_count": 57,
   "metadata": {},
   "outputs": [
    {
     "data": {
      "text/plain": [
       "(66, 32)"
      ]
     },
     "execution_count": 57,
     "metadata": {},
     "output_type": "execute_result"
    }
   ],
   "source": [
    "X_train_child1.shape   # Left Child"
   ]
  },
  {
   "cell_type": "code",
   "execution_count": 58,
   "metadata": {},
   "outputs": [
    {
     "data": {
      "text/plain": [
       "(66, 32)"
      ]
     },
     "execution_count": 58,
     "metadata": {},
     "output_type": "execute_result"
    }
   ],
   "source": [
    "X_train_child2.shape  # Right Child"
   ]
  },
  {
   "cell_type": "markdown",
   "metadata": {},
   "source": [
    "## Function to calculate MSE value"
   ]
  },
  {
   "cell_type": "code",
   "execution_count": 59,
   "metadata": {
    "collapsed": true
   },
   "outputs": [],
   "source": [
    "def cal_MSE(X):\n",
    "    mean_value = X.mean()\n",
    "    error = X - mean_value\n",
    "    square_error = error * error\n",
    "    mean_square_error = square_error.mean()\n",
    "    return mean_square_error"
   ]
  },
  {
   "cell_type": "markdown",
   "metadata": {},
   "source": [
    "## Calculating MSE values for child nodes"
   ]
  },
  {
   "cell_type": "code",
   "execution_count": 60,
   "metadata": {},
   "outputs": [
    {
     "name": "stdout",
     "output_type": "stream",
     "text": [
      "Split 1:\n",
      " MSE value at child 1: 1170.7017906336087\n",
      " MSE value at child 2: 933.3785583103765\n"
     ]
    }
   ],
   "source": [
    "MSE_child1 = cal_MSE(y_train_child1)\n",
    "MSE_child2 = cal_MSE(y_train_child2)\n",
    "print(\"Split 1:\\n MSE value at child 1: \" + str(MSE_child1) +\"\\n MSE value at child 2: \" + str(MSE_child2))"
   ]
  },
  {
   "cell_type": "code",
   "execution_count": 61,
   "metadata": {
    "collapsed": true
   },
   "outputs": [],
   "source": [
    "root.data = [features[max_correlation_index], median_most_corr_att]\n",
    "root_child1 = tree_structure('child1')\n",
    "root.left = root_child1\n",
    "root_child2 = tree_structure('child2')\n",
    "root.right = root_child2"
   ]
  },
  {
   "cell_type": "markdown",
   "metadata": {},
   "source": [
    "## Answer 2(c)"
   ]
  },
  {
   "cell_type": "markdown",
   "metadata": {},
   "source": [
    "## Splitting Child 1 created after first split"
   ]
  },
  {
   "cell_type": "markdown",
   "metadata": {},
   "source": [
    "## Calculating correlation values"
   ]
  },
  {
   "cell_type": "code",
   "execution_count": 62,
   "metadata": {
    "collapsed": true
   },
   "outputs": [],
   "source": [
    "def cal_correlation(X, y):\n",
    "    X_train = X\n",
    "    y_train = y\n",
    "    feat_list = X_train.keys()\n",
    "    global corr\n",
    "    corr = []\n",
    "    for i in feat_list:\n",
    "        feat = X_train[i]\n",
    "        feat_mean = feat.mean()\n",
    "        num = ((feat - feat_mean)*(y_train - avg_disease_free_time_train)).sum()\n",
    "        denom = ((((feat - feat_mean)**2).sum()) * (((y_train - avg_disease_free_time_train)**2).sum()))**(1/2)\n",
    "        correlation = num/denom\n",
    "        corr.append(abs(correlation))\n",
    "        print(\"Correlation between \" + str(i) +\" and disease-free years is: \" + str(correlation))"
   ]
  },
  {
   "cell_type": "code",
   "execution_count": 63,
   "metadata": {},
   "outputs": [
    {
     "name": "stdout",
     "output_type": "stream",
     "text": [
      "Correlation between radius 1 and disease-free years is: -0.04391754384800833\n",
      "Correlation between texture 1 and disease-free years is: -0.009964355140576479\n",
      "Correlation between perimeter 1 and disease-free years is: -0.04009232883486178\n",
      "Correlation between area 1  and disease-free years is: -0.03454524037472215\n",
      "Correlation between smoothness 1 and disease-free years is: 0.13495658928534854\n",
      "Correlation between compactness 1 and disease-free years is: 0.07382744517911047\n",
      "Correlation between concavity 1 and disease-free years is: 0.024120238520706643\n",
      "Correlation between concave points 1 and disease-free years is: 0.043007748684999764\n",
      "Correlation between symmetry 1 and disease-free years is: 0.06662367005394725\n",
      "Correlation between fractal dimension 1 and disease-free years is: 0.12919952538306884\n",
      "Correlation between radius 2 and disease-free years is: -0.05704339995753711\n",
      "Correlation between texture 2 and disease-free years is: -0.030942358606852977\n",
      "Correlation between perimeter 2 and disease-free years is: -0.06821739621701943\n",
      "Correlation between area 2 and disease-free years is: -0.02791690286160161\n",
      "Correlation between smoothness 2 and disease-free years is: 0.052647391509967945\n",
      "Correlation between compactness 2 and disease-free years is: 0.049024235354050996\n",
      "Correlation between concavity 2 and disease-free years is: 0.015434984580428152\n",
      "Correlation between concave points 2 and disease-free years is: -0.06566878378590352\n",
      "Correlation between symmetry 2 and disease-free years is: 0.018717466893932642\n",
      "Correlation between fractal dimension 2 and disease-free years is: 0.11066216466263357\n",
      "Correlation between radius 3 and disease-free years is: 0.05257084101614493\n",
      "Correlation between texture 3  and disease-free years is: 0.026900082701042796\n",
      "Correlation between perimeter 3 and disease-free years is: 0.0357034972476707\n",
      "Correlation between area 3 and disease-free years is: 0.060401452627453896\n",
      "Correlation between smoothness 3 and disease-free years is: 0.10652269230745459\n",
      "Correlation between compactness 3 and disease-free years is: 0.09737612135245594\n",
      "Correlation between concavity 3 and disease-free years is: 0.1018258667142886\n",
      "Correlation between concave points 3 and disease-free years is: 0.12153128139907421\n",
      "Correlation between symmetry 3 and disease-free years is: 0.16389658619722028\n",
      "Correlation between fractal dimension 3 and disease-free years is: 0.15758729664046775\n",
      "Correlation between Tumor size and disease-free years is: -0.17059478645885084\n",
      "Correlation between Lymph node status and disease-free years is: -0.15927199281766255\n"
     ]
    }
   ],
   "source": [
    "cal_correlation(X_train_child1, y_train_child1)"
   ]
  },
  {
   "cell_type": "markdown",
   "metadata": {},
   "source": [
    "## Maximum correlation attribute"
   ]
  },
  {
   "cell_type": "code",
   "execution_count": 64,
   "metadata": {},
   "outputs": [
    {
     "name": "stdout",
     "output_type": "stream",
     "text": [
      "Tumor size has the maximum correlation with disease free year = 0.17059478645885084\n"
     ]
    }
   ],
   "source": [
    "max_correlation_index = corr.index(max(corr))\n",
    "print(str(features[max_correlation_index]) + \" has the maximum correlation with disease free year = \" + str(max(corr)))"
   ]
  },
  {
   "cell_type": "markdown",
   "metadata": {},
   "source": [
    "## Calculating median value"
   ]
  },
  {
   "cell_type": "code",
   "execution_count": 65,
   "metadata": {},
   "outputs": [
    {
     "name": "stdout",
     "output_type": "stream",
     "text": [
      "Median value to split feature: 1.95\n"
     ]
    }
   ],
   "source": [
    "median_most_corr_att = X_train_child1['Tumor size'].median()\n",
    "print('Median value to split feature: ' + str(median_most_corr_att))"
   ]
  },
  {
   "cell_type": "code",
   "execution_count": 66,
   "metadata": {
    "collapsed": true
   },
   "outputs": [],
   "source": [
    "X_train_child3 = X_train_child1[X_train_child1['Tumor size'] <= median_most_corr_att]\n",
    "X_train_child4 = X_train_child1[X_train_child1['Tumor size'] > median_most_corr_att]\n",
    "y_train_child3 = y_train_child1[X_train_child1['Tumor size'] <= median_most_corr_att]\n",
    "y_train_child4 = y_train_child1[X_train_child1['Tumor size'] > median_most_corr_att]"
   ]
  },
  {
   "cell_type": "code",
   "execution_count": 67,
   "metadata": {},
   "outputs": [
    {
     "data": {
      "text/plain": [
       "(33, 32)"
      ]
     },
     "execution_count": 67,
     "metadata": {},
     "output_type": "execute_result"
    }
   ],
   "source": [
    "X_train_child3.shape"
   ]
  },
  {
   "cell_type": "code",
   "execution_count": 68,
   "metadata": {},
   "outputs": [
    {
     "data": {
      "text/plain": [
       "(33, 32)"
      ]
     },
     "execution_count": 68,
     "metadata": {},
     "output_type": "execute_result"
    }
   ],
   "source": [
    "X_train_child4.shape"
   ]
  },
  {
   "cell_type": "markdown",
   "metadata": {},
   "source": [
    "## Calculating MSE values for child nodes"
   ]
  },
  {
   "cell_type": "code",
   "execution_count": 69,
   "metadata": {},
   "outputs": [
    {
     "name": "stdout",
     "output_type": "stream",
     "text": [
      "Split 3:\n",
      " MSE value at child 3: 1192.1285583103763\n",
      " MSE value at child 4: 1144.955004591368\n"
     ]
    }
   ],
   "source": [
    "MSE_child1 = cal_MSE(y_train_child3)\n",
    "MSE_child2 = cal_MSE(y_train_child4)\n",
    "print(\"Split 3:\\n MSE value at child 3: \" + str(MSE_child1) +\"\\n MSE value at child 4: \" + str(MSE_child2))"
   ]
  },
  {
   "cell_type": "code",
   "execution_count": 70,
   "metadata": {
    "collapsed": true
   },
   "outputs": [],
   "source": [
    "root_child1.data = [features[max_correlation_index], median_most_corr_att]\n",
    "child1_child3 = tree_structure('child3')\n",
    "root_child1.left = child1_child3\n",
    "child1_child3.data = [y_train_child3.mean(), y_train_child3]    # saving the mean value in leaf node\n",
    "child1_child4 = tree_structure('child4')\n",
    "root_child1.right = child1_child4\n",
    "child1_child4.data = [y_train_child4.mean(), y_train_child4]    # saving the mean value in leaf node"
   ]
  },
  {
   "cell_type": "markdown",
   "metadata": {},
   "source": [
    "## Splitting Child 2 created after first split"
   ]
  },
  {
   "cell_type": "markdown",
   "metadata": {},
   "source": [
    "## Calculating correlation values"
   ]
  },
  {
   "cell_type": "code",
   "execution_count": 71,
   "metadata": {},
   "outputs": [
    {
     "name": "stdout",
     "output_type": "stream",
     "text": [
      "Correlation between radius 1 and disease-free years is: -0.25183121394442204\n",
      "Correlation between texture 1 and disease-free years is: -0.13491709867845525\n",
      "Correlation between perimeter 1 and disease-free years is: -0.2814719965858862\n",
      "Correlation between area 1  and disease-free years is: -0.2642618482795694\n",
      "Correlation between smoothness 1 and disease-free years is: -0.022615506765812053\n",
      "Correlation between compactness 1 and disease-free years is: -0.1274780400362097\n",
      "Correlation between concavity 1 and disease-free years is: -0.1407801917497145\n",
      "Correlation between concave points 1 and disease-free years is: -0.13880445858561422\n",
      "Correlation between symmetry 1 and disease-free years is: 0.12375002881948315\n",
      "Correlation between fractal dimension 1 and disease-free years is: 0.15959324651079781\n",
      "Correlation between radius 2 and disease-free years is: -0.0841317575255581\n",
      "Correlation between texture 2 and disease-free years is: -0.2427438299337118\n",
      "Correlation between perimeter 2 and disease-free years is: -0.13110681911601665\n",
      "Correlation between area 2 and disease-free years is: -0.1154722395861383\n",
      "Correlation between smoothness 2 and disease-free years is: 0.03576245652031729\n",
      "Correlation between compactness 2 and disease-free years is: -0.1756799566298017\n",
      "Correlation between concavity 2 and disease-free years is: -0.0952600089070872\n",
      "Correlation between concave points 2 and disease-free years is: 0.04891632160438085\n",
      "Correlation between symmetry 2 and disease-free years is: -0.05088599631849709\n",
      "Correlation between fractal dimension 2 and disease-free years is: 0.04721314005321639\n",
      "Correlation between radius 3 and disease-free years is: -0.23750862582237525\n",
      "Correlation between texture 3  and disease-free years is: -0.1846576636129973\n",
      "Correlation between perimeter 3 and disease-free years is: -0.2911114275695805\n",
      "Correlation between area 3 and disease-free years is: -0.2200320859206545\n",
      "Correlation between smoothness 3 and disease-free years is: -0.053540048631201834\n",
      "Correlation between compactness 3 and disease-free years is: -0.19501735395516914\n",
      "Correlation between concavity 3 and disease-free years is: -0.21082220777186741\n",
      "Correlation between concave points 3 and disease-free years is: -0.1405226029894\n",
      "Correlation between symmetry 3 and disease-free years is: -0.031879247109944074\n",
      "Correlation between fractal dimension 3 and disease-free years is: 0.059777194511053774\n",
      "Correlation between Tumor size and disease-free years is: -0.03899860988799986\n",
      "Correlation between Lymph node status and disease-free years is: -0.085157917640206\n"
     ]
    }
   ],
   "source": [
    "cal_correlation(X_train_child2, y_train_child2)"
   ]
  },
  {
   "cell_type": "markdown",
   "metadata": {},
   "source": [
    "## Maximum correlation attribute"
   ]
  },
  {
   "cell_type": "code",
   "execution_count": 72,
   "metadata": {},
   "outputs": [
    {
     "name": "stdout",
     "output_type": "stream",
     "text": [
      "perimeter 3 has the maximum correlation with disease free year = 0.2911114275695805\n"
     ]
    }
   ],
   "source": [
    "max_correlation_index = corr.index(max(corr))\n",
    "print(str(features[max_correlation_index]) + \" has the maximum correlation with disease free year = \" + str(max(corr)))"
   ]
  },
  {
   "cell_type": "markdown",
   "metadata": {},
   "source": [
    "## Calculating median value"
   ]
  },
  {
   "cell_type": "code",
   "execution_count": 73,
   "metadata": {
    "collapsed": true
   },
   "outputs": [],
   "source": [
    "median_most_corr_att = X_train_child2['perimeter 3'].median()"
   ]
  },
  {
   "cell_type": "code",
   "execution_count": 74,
   "metadata": {
    "collapsed": true
   },
   "outputs": [],
   "source": [
    "X_train_child5 = X_train_child2[X_train_child2['perimeter 3'] <= median_most_corr_att]\n",
    "X_train_child6 = X_train_child2[X_train_child2['perimeter 3'] > median_most_corr_att]\n",
    "y_train_child5 = y_train_child2[X_train_child2['perimeter 3'] <= median_most_corr_att]\n",
    "y_train_child6 = y_train_child2[X_train_child2['perimeter 3'] > median_most_corr_att]"
   ]
  },
  {
   "cell_type": "markdown",
   "metadata": {},
   "source": [
    "## Calculating MSE values for child nodes"
   ]
  },
  {
   "cell_type": "code",
   "execution_count": 75,
   "metadata": {},
   "outputs": [
    {
     "name": "stdout",
     "output_type": "stream",
     "text": [
      "Split 4:\n",
      " MSE value at child 5: 845.262975778547\n",
      " MSE value at child 6: 815.3349609375\n"
     ]
    }
   ],
   "source": [
    "MSE_child1 = cal_MSE(y_train_child5)\n",
    "MSE_child2 = cal_MSE(y_train_child6)\n",
    "print(\"Split 4:\\n MSE value at child 5: \" + str(MSE_child1) +\"\\n MSE value at child 6: \" + str(MSE_child2))"
   ]
  },
  {
   "cell_type": "code",
   "execution_count": 76,
   "metadata": {
    "collapsed": true
   },
   "outputs": [],
   "source": [
    "root_child2.data = [features[max_correlation_index], median_most_corr_att]\n",
    "child2_child5 = tree_structure('child5')\n",
    "root_child2.left = child2_child5\n",
    "child2_child5.data = [y_train_child5.mean(), y_train_child5]    # saving the mean value in leaf node\n",
    "child2_child6 = tree_structure('child6')\n",
    "root_child2.right = child2_child6\n",
    "child2_child6.data = [y_train_child6.mean(), y_train_child6]    # saving the mean value in leaf node"
   ]
  },
  {
   "cell_type": "markdown",
   "metadata": {},
   "source": [
    "## Splitting Child 3 created after first split"
   ]
  },
  {
   "cell_type": "markdown",
   "metadata": {},
   "source": [
    "## Calculating correlation values"
   ]
  },
  {
   "cell_type": "code",
   "execution_count": 77,
   "metadata": {},
   "outputs": [
    {
     "name": "stdout",
     "output_type": "stream",
     "text": [
      "Correlation between radius 1 and disease-free years is: 0.19492171749769227\n",
      "Correlation between texture 1 and disease-free years is: 0.05511618761564744\n",
      "Correlation between perimeter 1 and disease-free years is: 0.15931000253247715\n",
      "Correlation between area 1  and disease-free years is: 0.21041269892919154\n",
      "Correlation between smoothness 1 and disease-free years is: -0.0017363996374537849\n",
      "Correlation between compactness 1 and disease-free years is: -0.14553314919612706\n",
      "Correlation between concavity 1 and disease-free years is: -0.1347178131990292\n",
      "Correlation between concave points 1 and disease-free years is: -0.03507095818000793\n",
      "Correlation between symmetry 1 and disease-free years is: -0.13629117922354814\n",
      "Correlation between fractal dimension 1 and disease-free years is: -0.15193099824191897\n",
      "Correlation between radius 2 and disease-free years is: -0.04938126568308715\n",
      "Correlation between texture 2 and disease-free years is: 0.1129133648763354\n",
      "Correlation between perimeter 2 and disease-free years is: -0.06148648998597004\n",
      "Correlation between area 2 and disease-free years is: 0.028490829952379195\n",
      "Correlation between smoothness 2 and disease-free years is: 0.024866652423853934\n",
      "Correlation between compactness 2 and disease-free years is: -0.04740552036863397\n",
      "Correlation between concavity 2 and disease-free years is: -0.06304621293324375\n",
      "Correlation between concave points 2 and disease-free years is: -0.07974017907178967\n",
      "Correlation between symmetry 2 and disease-free years is: -0.12841980080372736\n",
      "Correlation between fractal dimension 2 and disease-free years is: 0.01421590911877149\n",
      "Correlation between radius 3 and disease-free years is: 0.17315374212485568\n",
      "Correlation between texture 3  and disease-free years is: 0.079209160522113\n",
      "Correlation between perimeter 3 and disease-free years is: 0.12592302996348698\n",
      "Correlation between area 3 and disease-free years is: 0.21327020331368446\n",
      "Correlation between smoothness 3 and disease-free years is: -0.07766451649801408\n",
      "Correlation between compactness 3 and disease-free years is: -0.09447557118315475\n",
      "Correlation between concavity 3 and disease-free years is: -0.07688340397062594\n",
      "Correlation between concave points 3 and disease-free years is: -0.0280183193756742\n",
      "Correlation between symmetry 3 and disease-free years is: -0.12201547096995005\n",
      "Correlation between fractal dimension 3 and disease-free years is: -0.024453576154853954\n",
      "Correlation between Tumor size and disease-free years is: -0.10848321480018462\n",
      "Correlation between Lymph node status and disease-free years is: -0.11902032403464995\n"
     ]
    }
   ],
   "source": [
    "cal_correlation(X_train_child3, y_train_child3)"
   ]
  },
  {
   "cell_type": "markdown",
   "metadata": {},
   "source": [
    "## Maximum correlation attribute"
   ]
  },
  {
   "cell_type": "code",
   "execution_count": 78,
   "metadata": {},
   "outputs": [
    {
     "name": "stdout",
     "output_type": "stream",
     "text": [
      "area 3 has the maximum correlation with disease free year = 0.21327020331368446\n"
     ]
    }
   ],
   "source": [
    "max_correlation_index = corr.index(max(corr))\n",
    "print(str(features[max_correlation_index]) + \" has the maximum correlation with disease free year = \" + str(max(corr)))"
   ]
  },
  {
   "cell_type": "markdown",
   "metadata": {},
   "source": [
    "## Calculating median value"
   ]
  },
  {
   "cell_type": "code",
   "execution_count": 79,
   "metadata": {
    "collapsed": true
   },
   "outputs": [],
   "source": [
    "median_most_corr_att = X_train_child3['area 3'].median()"
   ]
  },
  {
   "cell_type": "code",
   "execution_count": 80,
   "metadata": {
    "collapsed": true
   },
   "outputs": [],
   "source": [
    "X_train_child7 = X_train_child3[X_train_child3['area 3'] <= median_most_corr_att]\n",
    "X_train_child8 = X_train_child3[X_train_child3['area 3'] > median_most_corr_att]\n",
    "y_train_child7 = y_train_child3[X_train_child3['area 3'] <= median_most_corr_att]\n",
    "y_train_child8 = y_train_child3[X_train_child3['area 3'] > median_most_corr_att]"
   ]
  },
  {
   "cell_type": "markdown",
   "metadata": {},
   "source": [
    "## Calculating MSE values of childs"
   ]
  },
  {
   "cell_type": "code",
   "execution_count": 81,
   "metadata": {},
   "outputs": [
    {
     "name": "stdout",
     "output_type": "stream",
     "text": [
      "Split 5:\n",
      " MSE value at child 7: 988.4636678200691\n",
      " MSE value at child 8: 1394.77734375\n"
     ]
    }
   ],
   "source": [
    "MSE_child1 = cal_MSE(y_train_child7)\n",
    "MSE_child2 = cal_MSE(y_train_child8)\n",
    "print(\"Split 5:\\n MSE value at child 7: \" + str(MSE_child1) +\"\\n MSE value at child 8: \" + str(MSE_child2))"
   ]
  },
  {
   "cell_type": "markdown",
   "metadata": {},
   "source": [
    "## Updating Tree Structure"
   ]
  },
  {
   "cell_type": "code",
   "execution_count": 82,
   "metadata": {
    "collapsed": true
   },
   "outputs": [],
   "source": [
    "child1_child3.data = [features[max_correlation_index], median_most_corr_att]\n",
    "child3_child7 = tree_structure('child7')\n",
    "child1_child3.left = child3_child7\n",
    "child3_child7.data = [y_train_child7.mean(), y_train_child7]    # saving the mean value in leaf node\n",
    "child3_child8 = tree_structure('child8')\n",
    "child1_child3.right = child3_child8\n",
    "child3_child8.data = [y_train_child8.mean(), y_train_child8]    # saving the mean value in leaf node"
   ]
  },
  {
   "cell_type": "markdown",
   "metadata": {},
   "source": [
    "## Splitting Child 4 created after first split"
   ]
  },
  {
   "cell_type": "code",
   "execution_count": 83,
   "metadata": {},
   "outputs": [
    {
     "name": "stdout",
     "output_type": "stream",
     "text": [
      "Correlation between radius 1 and disease-free years is: -0.2211075296993024\n",
      "Correlation between texture 1 and disease-free years is: -0.090550661782342\n",
      "Correlation between perimeter 1 and disease-free years is: -0.19636795381031355\n",
      "Correlation between area 1  and disease-free years is: -0.21266813250214422\n",
      "Correlation between smoothness 1 and disease-free years is: 0.279813865909831\n",
      "Correlation between compactness 1 and disease-free years is: 0.2667429191958104\n",
      "Correlation between concavity 1 and disease-free years is: 0.20334889803892428\n",
      "Correlation between concave points 1 and disease-free years is: 0.13971809313867292\n",
      "Correlation between symmetry 1 and disease-free years is: 0.2644626458490611\n",
      "Correlation between fractal dimension 1 and disease-free years is: 0.32049223611416283\n",
      "Correlation between radius 2 and disease-free years is: -0.0626920970363064\n",
      "Correlation between texture 2 and disease-free years is: -0.2017176310596359\n",
      "Correlation between perimeter 2 and disease-free years is: -0.0747235243794233\n",
      "Correlation between area 2 and disease-free years is: -0.07316330868048336\n",
      "Correlation between smoothness 2 and disease-free years is: 0.11545524438618862\n",
      "Correlation between compactness 2 and disease-free years is: 0.2145443556037547\n",
      "Correlation between concavity 2 and disease-free years is: 0.1584445232486832\n",
      "Correlation between concave points 2 and disease-free years is: -0.029263011180883584\n",
      "Correlation between symmetry 2 and disease-free years is: 0.2306215105258637\n",
      "Correlation between fractal dimension 2 and disease-free years is: 0.22282775454891332\n",
      "Correlation between radius 3 and disease-free years is: -0.015879314887697435\n",
      "Correlation between texture 3  and disease-free years is: -0.041173876957486706\n",
      "Correlation between perimeter 3 and disease-free years is: -0.022254556404337194\n",
      "Correlation between area 3 and disease-free years is: -0.016337417703745645\n",
      "Correlation between smoothness 3 and disease-free years is: 0.2644627049652515\n",
      "Correlation between compactness 3 and disease-free years is: 0.23623446054414088\n",
      "Correlation between concavity 3 and disease-free years is: 0.22931746939540182\n",
      "Correlation between concave points 3 and disease-free years is: 0.22946086682589825\n",
      "Correlation between symmetry 3 and disease-free years is: 0.3950700967707382\n",
      "Correlation between fractal dimension 3 and disease-free years is: 0.26689553334644633\n",
      "Correlation between Tumor size and disease-free years is: -0.34025341504414236\n",
      "Correlation between Lymph node status and disease-free years is: -0.23629502680982475\n"
     ]
    }
   ],
   "source": [
    "cal_correlation(X_train_child4, y_train_child4)"
   ]
  },
  {
   "cell_type": "markdown",
   "metadata": {},
   "source": [
    "## Maximum correlation attribute"
   ]
  },
  {
   "cell_type": "code",
   "execution_count": 84,
   "metadata": {},
   "outputs": [
    {
     "name": "stdout",
     "output_type": "stream",
     "text": [
      "symmetry 3 has the maximum correlation with disease free year = 0.3950700967707382\n"
     ]
    }
   ],
   "source": [
    "max_correlation_index = corr.index(max(corr))\n",
    "print(str(features[max_correlation_index]) + \" has the maximum correlation with disease free year = \" + str(max(corr)))"
   ]
  },
  {
   "cell_type": "markdown",
   "metadata": {},
   "source": [
    "## Calculating median value"
   ]
  },
  {
   "cell_type": "code",
   "execution_count": 85,
   "metadata": {
    "collapsed": true
   },
   "outputs": [],
   "source": [
    "median_most_corr_att = X_train_child4['symmetry 3'].median()"
   ]
  },
  {
   "cell_type": "code",
   "execution_count": 86,
   "metadata": {
    "collapsed": true
   },
   "outputs": [],
   "source": [
    "X_train_child9 = X_train_child4[X_train_child4['symmetry 3'] <= median_most_corr_att]\n",
    "X_train_child10 = X_train_child4[X_train_child4['symmetry 3'] > median_most_corr_att]\n",
    "y_train_child9 = y_train_child4[X_train_child4['symmetry 3'] <= median_most_corr_att]\n",
    "y_train_child10 = y_train_child4[X_train_child4['symmetry 3'] > median_most_corr_att]"
   ]
  },
  {
   "cell_type": "markdown",
   "metadata": {},
   "source": [
    "## Calculating MSE values of childs"
   ]
  },
  {
   "cell_type": "code",
   "execution_count": 87,
   "metadata": {},
   "outputs": [
    {
     "name": "stdout",
     "output_type": "stream",
     "text": [
      "Split 6:\n",
      " MSE value at child 9: 980.8304498269897\n",
      " MSE value at child 10: 1280.6875\n"
     ]
    }
   ],
   "source": [
    "MSE_child1 = cal_MSE(y_train_child9)\n",
    "MSE_child2 = cal_MSE(y_train_child10)\n",
    "print(\"Split 6:\\n MSE value at child 9: \" + str(MSE_child1) +\"\\n MSE value at child 10: \" + str(MSE_child2))"
   ]
  },
  {
   "cell_type": "markdown",
   "metadata": {},
   "source": [
    "## Updating Tree Structure"
   ]
  },
  {
   "cell_type": "code",
   "execution_count": 88,
   "metadata": {
    "collapsed": true
   },
   "outputs": [],
   "source": [
    "child1_child4.data = [features[max_correlation_index], median_most_corr_att]\n",
    "child3_child9 = tree_structure('child9')\n",
    "child1_child4.left = child3_child9\n",
    "child3_child9.data = [y_train_child9.mean(), y_train_child9]    # saving the mean value in leaf node\n",
    "child3_child10 = tree_structure('child10')\n",
    "child1_child4.right = child3_child10\n",
    "child3_child10.data = [y_train_child10.mean(), y_train_child10]    # saving the mean value in leaf node"
   ]
  },
  {
   "cell_type": "markdown",
   "metadata": {},
   "source": [
    "## The threshold value is chosen to be 930 as the stopping condition of the model. For smaller values the model may overfit the data as we can notice from the results the MSE value is increasing for some nodes and it will remain high untill further leaf nodes contains only one element which is prone to overfitting."
   ]
  },
  {
   "cell_type": "code",
   "execution_count": 89,
   "metadata": {
    "collapsed": true
   },
   "outputs": [],
   "source": [
    "def treeorder(tree):\n",
    "    if tree:\n",
    "        print('\\nNode name:' + str(tree.name))\n",
    "        if(tree.left == None):\n",
    "            print('Leaf Node')\n",
    "            print('Population of leaf node:' + str(tree.data[1].size))\n",
    "            print('Avg. value at leaf node:' + str(tree.data[0]))\n",
    "        else:\n",
    "            print('Attribute spliting the node:' + str(tree.data[0]))\n",
    "            print('Mean value that splits the node:' + str(tree.data[1]))\n",
    "        treeorder(tree.left)\n",
    "        treeorder(tree.right)"
   ]
  },
  {
   "cell_type": "markdown",
   "metadata": {},
   "source": [
    "## Structure of resulting tree"
   ]
  },
  {
   "cell_type": "code",
   "execution_count": 90,
   "metadata": {},
   "outputs": [
    {
     "name": "stdout",
     "output_type": "stream",
     "text": [
      "\n",
      "Node name:root\n",
      "Attribute spliting the node:perimeter 1\n",
      "Mean value that splits the node:110.05\n",
      "\n",
      "Node name:child1\n",
      "Attribute spliting the node:Tumor size\n",
      "Mean value that splits the node:1.95\n",
      "\n",
      "Node name:child3\n",
      "Attribute spliting the node:area 3\n",
      "Mean value that splits the node:928.8\n",
      "\n",
      "Node name:child7\n",
      "Leaf Node\n",
      "Population of leaf node:17\n",
      "Avg. value at leaf node:71.3529411764706\n",
      "\n",
      "Node name:child8\n",
      "Leaf Node\n",
      "Population of leaf node:16\n",
      "Avg. value at leaf node:66.1875\n",
      "\n",
      "Node name:child4\n",
      "Attribute spliting the node:symmetry 3\n",
      "Mean value that splits the node:0.3485\n",
      "\n",
      "Node name:child9\n",
      "Leaf Node\n",
      "Population of leaf node:17\n",
      "Avg. value at leaf node:67.58823529411765\n",
      "\n",
      "Node name:child10\n",
      "Leaf Node\n",
      "Population of leaf node:16\n",
      "Avg. value at leaf node:76.25\n",
      "\n",
      "Node name:child2\n",
      "Attribute spliting the node:perimeter 3\n",
      "Mean value that splits the node:157.6\n",
      "\n",
      "Node name:child5\n",
      "Leaf Node\n",
      "Population of leaf node:34\n",
      "Avg. value at leaf node:57.1764705882353\n",
      "\n",
      "Node name:child6\n",
      "Leaf Node\n",
      "Population of leaf node:32\n",
      "Avg. value at leaf node:36.90625\n"
     ]
    }
   ],
   "source": [
    "treeorder(root)"
   ]
  },
  {
   "cell_type": "markdown",
   "metadata": {},
   "source": [
    "## Leaf nodes details"
   ]
  },
  {
   "cell_type": "code",
   "execution_count": 91,
   "metadata": {
    "collapsed": true
   },
   "outputs": [],
   "source": [
    "def leafnodes(tree):\n",
    "    if tree:\n",
    "        if(tree.left == None):\n",
    "            print('\\nLeaf node name:' + str(tree.name))\n",
    "            print('Population of leaf node is:' + str(tree.data[1].size))\n",
    "            print('Avg. value at leaf node is:' + str(tree.data[0]))\n",
    "        leafnodes(tree.left)\n",
    "        leafnodes(tree.right)"
   ]
  },
  {
   "cell_type": "code",
   "execution_count": 92,
   "metadata": {},
   "outputs": [
    {
     "name": "stdout",
     "output_type": "stream",
     "text": [
      "\n",
      "Leaf node name:child7\n",
      "Population of leaf node is:17\n",
      "Avg. value at leaf node is:71.3529411764706\n",
      "\n",
      "Leaf node name:child8\n",
      "Population of leaf node is:16\n",
      "Avg. value at leaf node is:66.1875\n",
      "\n",
      "Leaf node name:child9\n",
      "Population of leaf node is:17\n",
      "Avg. value at leaf node is:67.58823529411765\n",
      "\n",
      "Leaf node name:child10\n",
      "Population of leaf node is:16\n",
      "Avg. value at leaf node is:76.25\n",
      "\n",
      "Leaf node name:child5\n",
      "Population of leaf node is:34\n",
      "Avg. value at leaf node is:57.1764705882353\n",
      "\n",
      "Leaf node name:child6\n",
      "Population of leaf node is:32\n",
      "Avg. value at leaf node is:36.90625\n"
     ]
    }
   ],
   "source": [
    "leafnodes(root)"
   ]
  },
  {
   "cell_type": "markdown",
   "metadata": {},
   "source": [
    "## Evaluating the regression tree"
   ]
  },
  {
   "cell_type": "code",
   "execution_count": 93,
   "metadata": {
    "collapsed": true
   },
   "outputs": [],
   "source": [
    "def predictions(X,rootnode):\n",
    "    currentnode = rootnode\n",
    "    for i in range(10):\n",
    "        if(currentnode.left == None):\n",
    "            #print(currentnode.data[0])\n",
    "            return currentnode.data[0]\n",
    "        elif(X[currentnode.data[0]] < currentnode.data[1]):\n",
    "            currentnode = currentnode.left\n",
    "        else:\n",
    "            currentnode = currentnode.right"
   ]
  },
  {
   "cell_type": "code",
   "execution_count": 94,
   "metadata": {
    "collapsed": true
   },
   "outputs": [],
   "source": [
    "def tree_MSE_calc(X,y,rootnode):\n",
    "    error = 0\n",
    "    for i in range(len(X)):\n",
    "        pred = predictions(X.iloc[i],rootnode)\n",
    "        error = error + (y.iloc[i] - pred)**2\n",
    "    return error/len(X)"
   ]
  },
  {
   "cell_type": "markdown",
   "metadata": {},
   "source": [
    "## MSE on training data"
   ]
  },
  {
   "cell_type": "code",
   "execution_count": 95,
   "metadata": {},
   "outputs": [
    {
     "name": "stdout",
     "output_type": "stream",
     "text": [
      "MSE on traing set: 978.0910456376321\n"
     ]
    }
   ],
   "source": [
    "MSETrain = tree_MSE_calc(X_train,y_train,root)\n",
    "print('MSE on traing set: ' +str(MSETrain))"
   ]
  },
  {
   "cell_type": "code",
   "execution_count": 96,
   "metadata": {},
   "outputs": [
    {
     "name": "stdout",
     "output_type": "stream",
     "text": [
      "MSE over testing set : 1558.43982482699\n"
     ]
    }
   ],
   "source": [
    "MSETest = tree_MSE_calc(X_test,y_test,root)\n",
    "print('MSE over testing set : ' +str(MSETest))"
   ]
  },
  {
   "cell_type": "markdown",
   "metadata": {},
   "source": [
    "## Answer 2(d)."
   ]
  },
  {
   "cell_type": "markdown",
   "metadata": {},
   "source": [
    "### Performance of the model is better as compared to performance without using the model.\n",
    "### Before\n",
    "### MSE on Train: 1183.9419191919192\n",
    "### MSE on Test: 1616.4924242424247\n",
    "### Model\n",
    "### MSE on Train: 978.0910456376321\n",
    "### MSE on Test: 1558.43982482699\n",
    "### It can be observer that the MSE values for the regression model built is comparatively less."
   ]
  },
  {
   "cell_type": "markdown",
   "metadata": {},
   "source": [
    "### The structre of the tree:\n",
    "### Total Number of Nodes: 11\n",
    "### Total Number of Leaf Nodes: 6\n",
    "### Depth of the tree: 3"
   ]
  },
  {
   "cell_type": "markdown",
   "metadata": {},
   "source": [
    "## MSE at each leaf node"
   ]
  },
  {
   "cell_type": "code",
   "execution_count": 97,
   "metadata": {
    "collapsed": true
   },
   "outputs": [],
   "source": [
    "def MSE(y,avg):\n",
    "    MSEValue = ((y - avg)**2).mean()\n",
    "    return MSEValue\n",
    "def leafnode_MSE(tree):\n",
    "    if tree:\n",
    "        if(tree.left == None):\n",
    "            print('\\nLeaf node name:' + str(tree.name))\n",
    "            MSEAtLeaf = MSE(tree.data[1], tree.data[0])\n",
    "            print('MSE at leaf node is:' + str(MSEAtLeaf))\n",
    "        leafnode_MSE(tree.left)\n",
    "        leafnode_MSE(tree.right)"
   ]
  },
  {
   "cell_type": "code",
   "execution_count": 98,
   "metadata": {},
   "outputs": [
    {
     "name": "stdout",
     "output_type": "stream",
     "text": [
      "\n",
      "Leaf node name:child7\n",
      "MSE at leaf node is:988.4636678200691\n",
      "\n",
      "Leaf node name:child8\n",
      "MSE at leaf node is:1394.77734375\n",
      "\n",
      "Leaf node name:child9\n",
      "MSE at leaf node is:980.8304498269897\n",
      "\n",
      "Leaf node name:child10\n",
      "MSE at leaf node is:1280.6875\n",
      "\n",
      "Leaf node name:child5\n",
      "MSE at leaf node is:845.262975778547\n",
      "\n",
      "Leaf node name:child6\n",
      "MSE at leaf node is:815.3349609375\n"
     ]
    }
   ],
   "source": [
    "leafnode_MSE(root)"
   ]
  },
  {
   "cell_type": "markdown",
   "metadata": {
    "collapsed": true
   },
   "source": [
    "## The best path of the model is from root node to child6 as the MSE value at child 6 is the least = 815.3349609375, and it is constantly decreasing from the root node."
   ]
  },
  {
   "cell_type": "markdown",
   "metadata": {
    "collapsed": true
   },
   "source": [
    "## Worst path of the model would be from root node to child8 as the MSE value at child8 is the maximum"
   ]
  },
  {
   "cell_type": "markdown",
   "metadata": {
    "collapsed": true
   },
   "source": [
    "### For splitting following attributes were used in order:\n",
    "### 1. Split root node: Perimeter 1\n",
    "### 2. Split child1: Tumor Size\n",
    "### 3. Split child2: Perimeter 3\n",
    "### 4. Split child3: Area 3\n",
    "### 5. Split child4: Symmetry 3"
   ]
  },
  {
   "cell_type": "markdown",
   "metadata": {
    "collapsed": true
   },
   "source": [
    "### The regression tree built and the decision tree from 1(a). both have similar structure. Each of them have 11 nodes, 6 leaf nodes. The differences is that the minimum samples per leaf nodes in decision tree is 25 whereas in regression tree it is 16. Also the attributes used to split nodes are different for both the models"
   ]
  },
  {
   "cell_type": "markdown",
   "metadata": {},
   "source": [
    "## Answer 3"
   ]
  },
  {
   "cell_type": "markdown",
   "metadata": {},
   "source": [
    "## Importing Dataset for White Wine Quality"
   ]
  },
  {
   "cell_type": "code",
   "execution_count": 305,
   "metadata": {},
   "outputs": [
    {
     "data": {
      "text/html": [
       "<div>\n",
       "<style>\n",
       "    .dataframe thead tr:only-child th {\n",
       "        text-align: right;\n",
       "    }\n",
       "\n",
       "    .dataframe thead th {\n",
       "        text-align: left;\n",
       "    }\n",
       "\n",
       "    .dataframe tbody tr th {\n",
       "        vertical-align: top;\n",
       "    }\n",
       "</style>\n",
       "<table border=\"1\" class=\"dataframe\">\n",
       "  <thead>\n",
       "    <tr style=\"text-align: right;\">\n",
       "      <th></th>\n",
       "      <th>fixed acidity</th>\n",
       "      <th>volatile acidity</th>\n",
       "      <th>citric acid</th>\n",
       "      <th>residual sugar</th>\n",
       "      <th>chlorides</th>\n",
       "      <th>free sulfur dioxide</th>\n",
       "      <th>total sulfur dioxide</th>\n",
       "      <th>density</th>\n",
       "      <th>pH</th>\n",
       "      <th>sulphates</th>\n",
       "      <th>alcohol</th>\n",
       "      <th>quality</th>\n",
       "    </tr>\n",
       "  </thead>\n",
       "  <tbody>\n",
       "    <tr>\n",
       "      <th>0</th>\n",
       "      <td>7.0</td>\n",
       "      <td>0.27</td>\n",
       "      <td>0.36</td>\n",
       "      <td>20.7</td>\n",
       "      <td>0.045</td>\n",
       "      <td>45.0</td>\n",
       "      <td>170.0</td>\n",
       "      <td>1.0010</td>\n",
       "      <td>3.00</td>\n",
       "      <td>0.45</td>\n",
       "      <td>8.8</td>\n",
       "      <td>6</td>\n",
       "    </tr>\n",
       "    <tr>\n",
       "      <th>1</th>\n",
       "      <td>6.3</td>\n",
       "      <td>0.30</td>\n",
       "      <td>0.34</td>\n",
       "      <td>1.6</td>\n",
       "      <td>0.049</td>\n",
       "      <td>14.0</td>\n",
       "      <td>132.0</td>\n",
       "      <td>0.9940</td>\n",
       "      <td>3.30</td>\n",
       "      <td>0.49</td>\n",
       "      <td>9.5</td>\n",
       "      <td>6</td>\n",
       "    </tr>\n",
       "    <tr>\n",
       "      <th>2</th>\n",
       "      <td>8.1</td>\n",
       "      <td>0.28</td>\n",
       "      <td>0.40</td>\n",
       "      <td>6.9</td>\n",
       "      <td>0.050</td>\n",
       "      <td>30.0</td>\n",
       "      <td>97.0</td>\n",
       "      <td>0.9951</td>\n",
       "      <td>3.26</td>\n",
       "      <td>0.44</td>\n",
       "      <td>10.1</td>\n",
       "      <td>6</td>\n",
       "    </tr>\n",
       "    <tr>\n",
       "      <th>3</th>\n",
       "      <td>7.2</td>\n",
       "      <td>0.23</td>\n",
       "      <td>0.32</td>\n",
       "      <td>8.5</td>\n",
       "      <td>0.058</td>\n",
       "      <td>47.0</td>\n",
       "      <td>186.0</td>\n",
       "      <td>0.9956</td>\n",
       "      <td>3.19</td>\n",
       "      <td>0.40</td>\n",
       "      <td>9.9</td>\n",
       "      <td>6</td>\n",
       "    </tr>\n",
       "    <tr>\n",
       "      <th>4</th>\n",
       "      <td>7.2</td>\n",
       "      <td>0.23</td>\n",
       "      <td>0.32</td>\n",
       "      <td>8.5</td>\n",
       "      <td>0.058</td>\n",
       "      <td>47.0</td>\n",
       "      <td>186.0</td>\n",
       "      <td>0.9956</td>\n",
       "      <td>3.19</td>\n",
       "      <td>0.40</td>\n",
       "      <td>9.9</td>\n",
       "      <td>6</td>\n",
       "    </tr>\n",
       "  </tbody>\n",
       "</table>\n",
       "</div>"
      ],
      "text/plain": [
       "   fixed acidity  volatile acidity  citric acid  residual sugar  chlorides  \\\n",
       "0            7.0              0.27         0.36            20.7      0.045   \n",
       "1            6.3              0.30         0.34             1.6      0.049   \n",
       "2            8.1              0.28         0.40             6.9      0.050   \n",
       "3            7.2              0.23         0.32             8.5      0.058   \n",
       "4            7.2              0.23         0.32             8.5      0.058   \n",
       "\n",
       "   free sulfur dioxide  total sulfur dioxide  density    pH  sulphates  \\\n",
       "0                 45.0                 170.0   1.0010  3.00       0.45   \n",
       "1                 14.0                 132.0   0.9940  3.30       0.49   \n",
       "2                 30.0                  97.0   0.9951  3.26       0.44   \n",
       "3                 47.0                 186.0   0.9956  3.19       0.40   \n",
       "4                 47.0                 186.0   0.9956  3.19       0.40   \n",
       "\n",
       "   alcohol  quality  \n",
       "0      8.8        6  \n",
       "1      9.5        6  \n",
       "2     10.1        6  \n",
       "3      9.9        6  \n",
       "4      9.9        6  "
      ]
     },
     "execution_count": 305,
     "metadata": {},
     "output_type": "execute_result"
    }
   ],
   "source": [
    "WWQdata = pd.read_csv('C:/Users/rachi/Desktop/WWQ.csv')\n",
    "WWQdata.head()"
   ]
  },
  {
   "cell_type": "markdown",
   "metadata": {},
   "source": [
    "## Separating features and label"
   ]
  },
  {
   "cell_type": "code",
   "execution_count": 306,
   "metadata": {},
   "outputs": [
    {
     "data": {
      "text/html": [
       "<div>\n",
       "<style>\n",
       "    .dataframe thead tr:only-child th {\n",
       "        text-align: right;\n",
       "    }\n",
       "\n",
       "    .dataframe thead th {\n",
       "        text-align: left;\n",
       "    }\n",
       "\n",
       "    .dataframe tbody tr th {\n",
       "        vertical-align: top;\n",
       "    }\n",
       "</style>\n",
       "<table border=\"1\" class=\"dataframe\">\n",
       "  <thead>\n",
       "    <tr style=\"text-align: right;\">\n",
       "      <th></th>\n",
       "      <th>fixed acidity</th>\n",
       "      <th>volatile acidity</th>\n",
       "      <th>citric acid</th>\n",
       "      <th>residual sugar</th>\n",
       "      <th>chlorides</th>\n",
       "      <th>free sulfur dioxide</th>\n",
       "      <th>total sulfur dioxide</th>\n",
       "      <th>density</th>\n",
       "      <th>pH</th>\n",
       "      <th>sulphates</th>\n",
       "      <th>alcohol</th>\n",
       "    </tr>\n",
       "  </thead>\n",
       "  <tbody>\n",
       "    <tr>\n",
       "      <th>0</th>\n",
       "      <td>7.0</td>\n",
       "      <td>0.27</td>\n",
       "      <td>0.36</td>\n",
       "      <td>20.7</td>\n",
       "      <td>0.045</td>\n",
       "      <td>45.0</td>\n",
       "      <td>170.0</td>\n",
       "      <td>1.0010</td>\n",
       "      <td>3.00</td>\n",
       "      <td>0.45</td>\n",
       "      <td>8.8</td>\n",
       "    </tr>\n",
       "    <tr>\n",
       "      <th>1</th>\n",
       "      <td>6.3</td>\n",
       "      <td>0.30</td>\n",
       "      <td>0.34</td>\n",
       "      <td>1.6</td>\n",
       "      <td>0.049</td>\n",
       "      <td>14.0</td>\n",
       "      <td>132.0</td>\n",
       "      <td>0.9940</td>\n",
       "      <td>3.30</td>\n",
       "      <td>0.49</td>\n",
       "      <td>9.5</td>\n",
       "    </tr>\n",
       "    <tr>\n",
       "      <th>2</th>\n",
       "      <td>8.1</td>\n",
       "      <td>0.28</td>\n",
       "      <td>0.40</td>\n",
       "      <td>6.9</td>\n",
       "      <td>0.050</td>\n",
       "      <td>30.0</td>\n",
       "      <td>97.0</td>\n",
       "      <td>0.9951</td>\n",
       "      <td>3.26</td>\n",
       "      <td>0.44</td>\n",
       "      <td>10.1</td>\n",
       "    </tr>\n",
       "    <tr>\n",
       "      <th>3</th>\n",
       "      <td>7.2</td>\n",
       "      <td>0.23</td>\n",
       "      <td>0.32</td>\n",
       "      <td>8.5</td>\n",
       "      <td>0.058</td>\n",
       "      <td>47.0</td>\n",
       "      <td>186.0</td>\n",
       "      <td>0.9956</td>\n",
       "      <td>3.19</td>\n",
       "      <td>0.40</td>\n",
       "      <td>9.9</td>\n",
       "    </tr>\n",
       "    <tr>\n",
       "      <th>4</th>\n",
       "      <td>7.2</td>\n",
       "      <td>0.23</td>\n",
       "      <td>0.32</td>\n",
       "      <td>8.5</td>\n",
       "      <td>0.058</td>\n",
       "      <td>47.0</td>\n",
       "      <td>186.0</td>\n",
       "      <td>0.9956</td>\n",
       "      <td>3.19</td>\n",
       "      <td>0.40</td>\n",
       "      <td>9.9</td>\n",
       "    </tr>\n",
       "  </tbody>\n",
       "</table>\n",
       "</div>"
      ],
      "text/plain": [
       "   fixed acidity  volatile acidity  citric acid  residual sugar  chlorides  \\\n",
       "0            7.0              0.27         0.36            20.7      0.045   \n",
       "1            6.3              0.30         0.34             1.6      0.049   \n",
       "2            8.1              0.28         0.40             6.9      0.050   \n",
       "3            7.2              0.23         0.32             8.5      0.058   \n",
       "4            7.2              0.23         0.32             8.5      0.058   \n",
       "\n",
       "   free sulfur dioxide  total sulfur dioxide  density    pH  sulphates  \\\n",
       "0                 45.0                 170.0   1.0010  3.00       0.45   \n",
       "1                 14.0                 132.0   0.9940  3.30       0.49   \n",
       "2                 30.0                  97.0   0.9951  3.26       0.44   \n",
       "3                 47.0                 186.0   0.9956  3.19       0.40   \n",
       "4                 47.0                 186.0   0.9956  3.19       0.40   \n",
       "\n",
       "   alcohol  \n",
       "0      8.8  \n",
       "1      9.5  \n",
       "2     10.1  \n",
       "3      9.9  \n",
       "4      9.9  "
      ]
     },
     "execution_count": 306,
     "metadata": {},
     "output_type": "execute_result"
    }
   ],
   "source": [
    "X = WWQdata.loc[:,'fixed acidity':'alcohol'] # features\n",
    "y = WWQdata.loc[:,'quality'] # target label\n",
    "X.head()"
   ]
  },
  {
   "cell_type": "code",
   "execution_count": 307,
   "metadata": {},
   "outputs": [
    {
     "data": {
      "text/plain": [
       "Index(['fixed acidity', 'volatile acidity', 'citric acid', 'residual sugar',\n",
       "       'chlorides', 'free sulfur dioxide', 'total sulfur dioxide', 'density',\n",
       "       'pH', 'sulphates', 'alcohol'],\n",
       "      dtype='object')"
      ]
     },
     "execution_count": 307,
     "metadata": {},
     "output_type": "execute_result"
    }
   ],
   "source": [
    "features = X.keys()\n",
    "features"
   ]
  },
  {
   "cell_type": "markdown",
   "metadata": {},
   "source": [
    "## Dividng data into training and testing sets"
   ]
  },
  {
   "cell_type": "code",
   "execution_count": 308,
   "metadata": {
    "collapsed": true
   },
   "outputs": [],
   "source": [
    "X_train, X_test, y_train, y_test = X[:3266], X[3266:], y[:3266], y[3266:]"
   ]
  },
  {
   "cell_type": "markdown",
   "metadata": {},
   "source": [
    "## Average quality measure of wine"
   ]
  },
  {
   "cell_type": "code",
   "execution_count": 309,
   "metadata": {},
   "outputs": [
    {
     "data": {
      "text/plain": [
       "5.850581751377832"
      ]
     },
     "execution_count": 309,
     "metadata": {},
     "output_type": "execute_result"
    }
   ],
   "source": [
    "avg_quality_train = y_train.mean()\n",
    "avg_quality_train"
   ]
  },
  {
   "cell_type": "markdown",
   "metadata": {},
   "source": [
    "## Calculating Mean Square Error"
   ]
  },
  {
   "cell_type": "markdown",
   "metadata": {},
   "source": [
    "## MSE for training data"
   ]
  },
  {
   "cell_type": "code",
   "execution_count": 310,
   "metadata": {},
   "outputs": [
    {
     "data": {
      "text/plain": [
       "0.8343796370705479"
      ]
     },
     "execution_count": 310,
     "metadata": {},
     "output_type": "execute_result"
    }
   ],
   "source": [
    "error_train = y_train - avg_quality_train\n",
    "square_error_train = error_train * error_train\n",
    "mean_square_error_train = square_error_train.mean()\n",
    "mean_square_error_train"
   ]
  },
  {
   "cell_type": "markdown",
   "metadata": {},
   "source": [
    "## MSE for testing data"
   ]
  },
  {
   "cell_type": "code",
   "execution_count": 311,
   "metadata": {},
   "outputs": [
    {
     "data": {
      "text/plain": [
       "0.6860071765649042"
      ]
     },
     "execution_count": 311,
     "metadata": {},
     "output_type": "execute_result"
    }
   ],
   "source": [
    "error_test = y_test - avg_quality_train\n",
    "square_error_test = error_test * error_test\n",
    "mean_square_error_test = square_error_test.mean()\n",
    "mean_square_error_test"
   ]
  },
  {
   "cell_type": "markdown",
   "metadata": {},
   "source": [
    "## Regression Tree"
   ]
  },
  {
   "cell_type": "code",
   "execution_count": 312,
   "metadata": {
    "collapsed": true
   },
   "outputs": [],
   "source": [
    "class tree_structure(object):\n",
    "    def __init__(self,name):\n",
    "        self.name = name\n",
    "        self.left = None\n",
    "        self.right = None\n",
    "        self.data = None"
   ]
  },
  {
   "cell_type": "code",
   "execution_count": 313,
   "metadata": {
    "collapsed": true
   },
   "outputs": [],
   "source": [
    "tree = tree_structure('rootnode')  # defining the root node"
   ]
  },
  {
   "cell_type": "markdown",
   "metadata": {},
   "source": [
    "## Splitting the maximum correlated attribute"
   ]
  },
  {
   "cell_type": "code",
   "execution_count": 314,
   "metadata": {
    "collapsed": true
   },
   "outputs": [],
   "source": [
    "def node_split(X_train, y_train):\n",
    "    cal_correlation(X_train, y_train)\n",
    "    max_correlation = corr\n",
    "    max_correlation_index = max_correlation.index(max(max_correlation))\n",
    "    print(\"\\n\" + str(features[max_correlation_index]) + \" has the maximum correlation with disease free year = \" + str(max(max_correlation)))\n",
    "    max_correlation_att = features[max_correlation_index]\n",
    "    median_most_corr_att = X_train[max_correlation_att].median()\n",
    "    print(\"\\n Median value used for split: \" + str(median_most_corr_att))\n",
    "    X_train_child1 = X_train[X_train[max_correlation_att] <= median_most_corr_att]\n",
    "    X_train_child2 = X_train[X_train[max_correlation_att] > median_most_corr_att]\n",
    "    y_train_child1 = y_train[X_train[max_correlation_att] <= median_most_corr_att]\n",
    "    y_train_child2 = y_train[X_train[max_correlation_att] > median_most_corr_att]\n",
    "    MSE_child1 = cal_MSE(y_train_child1)\n",
    "    MSE_child2 = cal_MSE(y_train_child2)\n",
    "    print(\"Split:\\n MSE value at left child: \" + str(MSE_child1) +\"\\n MSE value at right child: \" + str(MSE_child2))\n",
    "    return X_train_child1,X_train_child2, y_train_child1, y_train_child2, median_most_corr_att, max_correlation_att"
   ]
  },
  {
   "cell_type": "code",
   "execution_count": 315,
   "metadata": {},
   "outputs": [
    {
     "name": "stdout",
     "output_type": "stream",
     "text": [
      "Correlation between fixed acidity and disease-free years is: -0.0018204878288098955\n",
      "Correlation between volatile acidity and disease-free years is: -0.003404564083342887\n",
      "Correlation between citric acid and disease-free years is: -5.703476414645546e-05\n",
      "Correlation between residual sugar and disease-free years is: -0.0019332379019645926\n",
      "Correlation between chlorides and disease-free years is: -0.0035144266527587253\n",
      "Correlation between free sulfur dioxide and disease-free years is: 0.00042858014769571007\n",
      "Correlation between total sulfur dioxide and disease-free years is: -0.002699663657288541\n",
      "Correlation between density and disease-free years is: -0.005326000873896224\n",
      "Correlation between pH and disease-free years is: 0.0023282001101219336\n",
      "Correlation between sulphates and disease-free years is: 0.0012001407736442799\n",
      "Correlation between alcohol and disease-free years is: 0.007638762934055219\n",
      "\n",
      "alcohol has the maximum correlation with disease free year = 0.007638762934055219\n",
      "\n",
      " Median value used for split: 10.1\n",
      "Split:\n",
      " MSE value at left child: 0.561601063480023\n",
      " MSE value at right child: 0.8770932289510249\n"
     ]
    }
   ],
   "source": [
    "child1_X_train, child2_X_train, child1_y_train, child2_y_train, median_value_split, max_correlation_att = node_split(X_train, y_train)"
   ]
  },
  {
   "cell_type": "markdown",
   "metadata": {},
   "source": [
    "## Updating the tree"
   ]
  },
  {
   "cell_type": "code",
   "execution_count": 316,
   "metadata": {
    "collapsed": true
   },
   "outputs": [],
   "source": [
    "tree.data = [max_correlation_att, median_value_split]"
   ]
  },
  {
   "cell_type": "code",
   "execution_count": 317,
   "metadata": {
    "collapsed": true
   },
   "outputs": [],
   "source": [
    "child1 = tree_structure('child1')\n",
    "tree.left = child1\n",
    "child1.data = [child1_y_train.mean(), child1_y_train]\n",
    "child2 = tree_structure('child2')\n",
    "tree.right = child2"
   ]
  },
  {
   "cell_type": "markdown",
   "metadata": {},
   "source": [
    "## Taking the Threshold value as 0.70. Child1 will not be splitted as its MSE value is < 0.70"
   ]
  },
  {
   "cell_type": "markdown",
   "metadata": {},
   "source": [
    "## Splitting child 2 with most correlated attribute"
   ]
  },
  {
   "cell_type": "code",
   "execution_count": 318,
   "metadata": {},
   "outputs": [
    {
     "name": "stdout",
     "output_type": "stream",
     "text": [
      "Correlation between fixed acidity and disease-free years is: -0.00342402300845018\n",
      "Correlation between volatile acidity and disease-free years is: -0.001098707679321442\n",
      "Correlation between citric acid and disease-free years is: -0.0004354279030061746\n",
      "Correlation between residual sugar and disease-free years is: 0.0001521960086301738\n",
      "Correlation between chlorides and disease-free years is: -0.002652549872843986\n",
      "Correlation between free sulfur dioxide and disease-free years is: 0.0029386196156985438\n",
      "Correlation between total sulfur dioxide and disease-free years is: -0.0005175101895538468\n",
      "Correlation between density and disease-free years is: -0.003968988670811414\n",
      "Correlation between pH and disease-free years is: 0.0023007909892711876\n",
      "Correlation between sulphates and disease-free years is: 0.0013354425664486972\n",
      "Correlation between alcohol and disease-free years is: 0.006164464766419385\n",
      "\n",
      "alcohol has the maximum correlation with disease free year = 0.006164464766419385\n",
      "\n",
      " Median value used for split: 11.149999999999999\n",
      "Split:\n",
      " MSE value at left child: 0.7794949000715129\n",
      " MSE value at right child: 0.8412721592833747\n"
     ]
    }
   ],
   "source": [
    "child3_X_train, child4_X_train, child3_y_train, child4_y_train, median_value_split, max_correlation_att = node_split(child2_X_train, child2_y_train)"
   ]
  },
  {
   "cell_type": "code",
   "execution_count": 319,
   "metadata": {
    "collapsed": true
   },
   "outputs": [],
   "source": [
    "child2.data = [max_correlation_att, median_value_split]\n",
    "child3 = tree_structure('child3')\n",
    "child2.left = child3\n",
    "child4 = tree_structure('child4')\n",
    "child2.right = child4"
   ]
  },
  {
   "cell_type": "markdown",
   "metadata": {},
   "source": [
    "## Splitting child 3 with most correlated attribute"
   ]
  },
  {
   "cell_type": "code",
   "execution_count": 320,
   "metadata": {},
   "outputs": [
    {
     "name": "stdout",
     "output_type": "stream",
     "text": [
      "Correlation between fixed acidity and disease-free years is: -0.002982733807318036\n",
      "Correlation between volatile acidity and disease-free years is: -0.005412570011408333\n",
      "Correlation between citric acid and disease-free years is: -0.0003141214172855591\n",
      "Correlation between residual sugar and disease-free years is: 0.00033303641546438527\n",
      "Correlation between chlorides and disease-free years is: -0.0004402612746740858\n",
      "Correlation between free sulfur dioxide and disease-free years is: 0.00196174656561497\n",
      "Correlation between total sulfur dioxide and disease-free years is: -0.00101381313476099\n",
      "Correlation between density and disease-free years is: -0.0019855295086641848\n",
      "Correlation between pH and disease-free years is: 0.0028316138737994536\n",
      "Correlation between sulphates and disease-free years is: 0.0013259817333749722\n",
      "Correlation between alcohol and disease-free years is: 0.0034002968517479262\n",
      "\n",
      "volatile acidity has the maximum correlation with disease free year = 0.005412570011408333\n",
      "\n",
      " Median value used for split: 0.24\n",
      "Split:\n",
      " MSE value at left child: 0.6522282382340706\n",
      " MSE value at right child: 0.830106665904086\n"
     ]
    }
   ],
   "source": [
    "child5_X_train, child6_X_train, child5_y_train, child6_y_train, median_value_split, max_correlation_att = node_split(child3_X_train, child3_y_train)"
   ]
  },
  {
   "cell_type": "code",
   "execution_count": 321,
   "metadata": {
    "collapsed": true
   },
   "outputs": [],
   "source": [
    "child3.data = [max_correlation_att, median_value_split]\n",
    "child5 = tree_structure('child5')\n",
    "child3.left = child5\n",
    "child5.data = [child5_y_train.mean(), child5_y_train]\n",
    "child6 = tree_structure('child6')\n",
    "child3.right = child6"
   ]
  },
  {
   "cell_type": "markdown",
   "metadata": {},
   "source": [
    "## MSE of child5 < threshold value, no splitting required"
   ]
  },
  {
   "cell_type": "markdown",
   "metadata": {},
   "source": [
    "## Splitting child 4 with most correlated attribute"
   ]
  },
  {
   "cell_type": "code",
   "execution_count": 322,
   "metadata": {},
   "outputs": [
    {
     "name": "stdout",
     "output_type": "stream",
     "text": [
      "Correlation between fixed acidity and disease-free years is: -0.003048545117126431\n",
      "Correlation between volatile acidity and disease-free years is: 0.00146581274222481\n",
      "Correlation between citric acid and disease-free years is: -0.0012126233820582454\n",
      "Correlation between residual sugar and disease-free years is: 0.0006766456967955467\n",
      "Correlation between chlorides and disease-free years is: -0.0024640504482020837\n",
      "Correlation between free sulfur dioxide and disease-free years is: 0.00431744493225706\n",
      "Correlation between total sulfur dioxide and disease-free years is: 0.0018370545352411555\n",
      "Correlation between density and disease-free years is: -0.0017852650741580968\n",
      "Correlation between pH and disease-free years is: 0.002850827124186709\n",
      "Correlation between sulphates and disease-free years is: 0.0018225336311031611\n",
      "Correlation between alcohol and disease-free years is: 0.004291543429920085\n",
      "\n",
      "free sulfur dioxide has the maximum correlation with disease free year = 0.00431744493225706\n",
      "\n",
      " Median value used for split: 30.0\n",
      "Split:\n",
      " MSE value at left child: 0.9297959183673409\n",
      " MSE value at right child: 0.7072840890882878\n"
     ]
    }
   ],
   "source": [
    "child7_X_train, child8_X_train, child7_y_train, child8_y_train, median_value_split, max_correlation_att = node_split(child4_X_train, child4_y_train)"
   ]
  },
  {
   "cell_type": "code",
   "execution_count": 323,
   "metadata": {
    "collapsed": true
   },
   "outputs": [],
   "source": [
    "child4.data = [max_correlation_att, median_value_split]\n",
    "child7 = tree_structure('child7')\n",
    "child4.left = child7\n",
    "child8 = tree_structure('child8')\n",
    "child4.right = child8\n",
    "child8.data = [child8_y_train.mean(), child8_y_train]"
   ]
  },
  {
   "cell_type": "markdown",
   "metadata": {},
   "source": [
    "## MSE of child8 < threshold value, no splitting required"
   ]
  },
  {
   "cell_type": "markdown",
   "metadata": {},
   "source": [
    "## Splitting child 6 with most correlated attribute"
   ]
  },
  {
   "cell_type": "code",
   "execution_count": 324,
   "metadata": {},
   "outputs": [
    {
     "name": "stdout",
     "output_type": "stream",
     "text": [
      "Correlation between fixed acidity and disease-free years is: -0.0032393642830191613\n",
      "Correlation between volatile acidity and disease-free years is: -0.005380620323246324\n",
      "Correlation between citric acid and disease-free years is: -0.001201493900243985\n",
      "Correlation between residual sugar and disease-free years is: 0.0005154755656088908\n",
      "Correlation between chlorides and disease-free years is: -0.0009522081909605675\n",
      "Correlation between free sulfur dioxide and disease-free years is: 0.002051268231748571\n",
      "Correlation between total sulfur dioxide and disease-free years is: -0.001177140835309058\n",
      "Correlation between density and disease-free years is: -0.002405882305535073\n",
      "Correlation between pH and disease-free years is: 0.0038741360467223263\n",
      "Correlation between sulphates and disease-free years is: 0.0010190362897814942\n",
      "Correlation between alcohol and disease-free years is: 0.003840241541093177\n",
      "\n",
      "volatile acidity has the maximum correlation with disease free year = 0.005380620323246324\n",
      "\n",
      " Median value used for split: 0.29\n",
      "Split:\n",
      " MSE value at left child: 0.8201392032593922\n",
      " MSE value at right child: 0.7764192392184084\n"
     ]
    }
   ],
   "source": [
    "child9_X_train, child10_X_train, child9_y_train, child10_y_train, median_value_split, max_correlation_att = node_split(child6_X_train, child6_y_train)"
   ]
  },
  {
   "cell_type": "code",
   "execution_count": 325,
   "metadata": {
    "collapsed": true
   },
   "outputs": [],
   "source": [
    "child6.data = [max_correlation_att, median_value_split]\n",
    "child9 = tree_structure('child9')\n",
    "child6.left = child9\n",
    "child9.data = [child9_y_train.mean(), child9_y_train]\n",
    "child10 = tree_structure('child10')\n",
    "child6.right = child10\n",
    "child10.data = [child10_y_train.mean(), child10_y_train]"
   ]
  },
  {
   "cell_type": "markdown",
   "metadata": {},
   "source": [
    "## Splitting child 7 with most correlated attribute"
   ]
  },
  {
   "cell_type": "code",
   "execution_count": 326,
   "metadata": {},
   "outputs": [
    {
     "name": "stdout",
     "output_type": "stream",
     "text": [
      "Correlation between fixed acidity and disease-free years is: -0.0030312682630186305\n",
      "Correlation between volatile acidity and disease-free years is: 0.0005005835778545466\n",
      "Correlation between citric acid and disease-free years is: -0.0011119297901105575\n",
      "Correlation between residual sugar and disease-free years is: 0.00022985457232548004\n",
      "Correlation between chlorides and disease-free years is: -0.002590511831014671\n",
      "Correlation between free sulfur dioxide and disease-free years is: 0.0072070265477533636\n",
      "Correlation between total sulfur dioxide and disease-free years is: 0.0027885986603713563\n",
      "Correlation between density and disease-free years is: -0.0016181724731311874\n",
      "Correlation between pH and disease-free years is: 0.0030849919411288004\n",
      "Correlation between sulphates and disease-free years is: 0.0025508927081964007\n",
      "Correlation between alcohol and disease-free years is: 0.003707374301130754\n",
      "\n",
      "free sulfur dioxide has the maximum correlation with disease free year = 0.0072070265477533636\n",
      "\n",
      " Median value used for split: 21.0\n",
      "Split:\n",
      " MSE value at left child: 1.0776705389116956\n",
      " MSE value at right child: 0.6192148176076921\n"
     ]
    }
   ],
   "source": [
    "child11_X_train, child12_X_train, child11_y_train, child12_y_train, median_value_split, max_correlation_att = node_split(child7_X_train, child7_y_train)"
   ]
  },
  {
   "cell_type": "code",
   "execution_count": 327,
   "metadata": {
    "collapsed": true
   },
   "outputs": [],
   "source": [
    "child7.data = [max_correlation_att, median_value_split]\n",
    "child7.left = child11\n",
    "child11.data = [child11_y_train.mean(), child11_y_train]\n",
    "child12 = tree_structure('child12')\n",
    "child7.right = child12\n",
    "child12.data = [child12_y_train.mean(), child12_y_train]"
   ]
  },
  {
   "cell_type": "markdown",
   "metadata": {},
   "source": [
    "## MSE of child12 < threshold value, no splitting required"
   ]
  },
  {
   "cell_type": "markdown",
   "metadata": {},
   "source": [
    "## The MSE throshold value = 0.70 is used as stopping condition for the model. For values than these might lead to overfitting the data. For smaller values of threshold the MSE value will become 0 if the model containg only 1 element in leaf nodes, which is basically overfitting the model"
   ]
  },
  {
   "cell_type": "code",
   "execution_count": 328,
   "metadata": {
    "collapsed": true
   },
   "outputs": [],
   "source": [
    "def treeorder(tree):\n",
    "    if tree:\n",
    "        print('\\nNode name:' + str(tree.name))\n",
    "        if(tree.left == None):\n",
    "            print('Leaf Node')\n",
    "            print('Population of leaf node:' + str(tree.data[1].size))\n",
    "            print('Avg. value at leaf node:' + str(tree.data[0]))\n",
    "        else:\n",
    "            print('Attribute spliting the node:' + str(tree.data[0]))\n",
    "            print('Mean value that splits the node:' + str(tree.data[1]))\n",
    "        treeorder(tree.left)\n",
    "        treeorder(tree.right)"
   ]
  },
  {
   "cell_type": "code",
   "execution_count": 331,
   "metadata": {
    "collapsed": true
   },
   "outputs": [],
   "source": [
    "def leafnodes(tree):\n",
    "    if tree:\n",
    "        if(tree.left == None):\n",
    "            print('\\nLeaf node name: ' + str(tree.name))\n",
    "            print('Population of leaf node is: ' + str(tree.data[1].size))\n",
    "            print('Avg. value for quality at leaf node is: ' + str(tree.data[0]))\n",
    "        leafnodes(tree.left)\n",
    "        leafnodes(tree.right)"
   ]
  },
  {
   "cell_type": "markdown",
   "metadata": {},
   "source": [
    "## Answer 3(a)."
   ]
  },
  {
   "cell_type": "markdown",
   "metadata": {},
   "source": [
    "## Structure of the tree constructed"
   ]
  },
  {
   "cell_type": "code",
   "execution_count": 330,
   "metadata": {},
   "outputs": [
    {
     "name": "stdout",
     "output_type": "stream",
     "text": [
      "\n",
      "Node name:rootnode\n",
      "Attribute spliting the node:alcohol\n",
      "Mean value that splits the node:10.1\n",
      "\n",
      "Node name:child1\n",
      "Leaf Node\n",
      "Population of leaf node:1636\n",
      "Avg. value at leaf node:5.51161369193154\n",
      "\n",
      "Node name:child2\n",
      "Attribute spliting the node:alcohol\n",
      "Mean value that splits the node:11.149999999999999\n",
      "\n",
      "Node name:child3\n",
      "Attribute spliting the node:volatile acidity\n",
      "Mean value that splits the node:0.24\n",
      "\n",
      "Node name:child5\n",
      "Leaf Node\n",
      "Population of leaf node:441\n",
      "Avg. value at leaf node:6.129251700680272\n",
      "\n",
      "Node name:child6\n",
      "Attribute spliting the node:volatile acidity\n",
      "Mean value that splits the node:0.29\n",
      "\n",
      "Node name:child9\n",
      "Leaf Node\n",
      "Population of leaf node:188\n",
      "Avg. value at leaf node:5.877659574468085\n",
      "\n",
      "Node name:child10\n",
      "Leaf Node\n",
      "Population of leaf node:186\n",
      "Avg. value at leaf node:5.521505376344086\n",
      "\n",
      "Node name:child4\n",
      "Attribute spliting the node:free sulfur dioxide\n",
      "Mean value that splits the node:30.0\n",
      "\n",
      "Node name:child7\n",
      "Attribute spliting the node:free sulfur dioxide\n",
      "Mean value that splits the node:21.0\n",
      "\n",
      "Node name:child11\n",
      "Leaf Node\n",
      "Population of leaf node:214\n",
      "Avg. value at leaf node:6.042056074766355\n",
      "\n",
      "Node name:child12\n",
      "Leaf Node\n",
      "Population of leaf node:206\n",
      "Avg. value at leaf node:6.597087378640777\n",
      "\n",
      "Node name:child8\n",
      "Leaf Node\n",
      "Population of leaf node:395\n",
      "Avg. value at leaf node:6.592405063291139\n"
     ]
    }
   ],
   "source": [
    "treeorder(tree)"
   ]
  },
  {
   "cell_type": "markdown",
   "metadata": {},
   "source": [
    "## Leaf nodes info"
   ]
  },
  {
   "cell_type": "code",
   "execution_count": 332,
   "metadata": {},
   "outputs": [
    {
     "name": "stdout",
     "output_type": "stream",
     "text": [
      "\n",
      "Leaf node name: child1\n",
      "Population of leaf node is: 1636\n",
      "Avg. value for quality at leaf node is: 5.51161369193154\n",
      "\n",
      "Leaf node name: child5\n",
      "Population of leaf node is: 441\n",
      "Avg. value for quality at leaf node is: 6.129251700680272\n",
      "\n",
      "Leaf node name: child9\n",
      "Population of leaf node is: 188\n",
      "Avg. value for quality at leaf node is: 5.877659574468085\n",
      "\n",
      "Leaf node name: child10\n",
      "Population of leaf node is: 186\n",
      "Avg. value for quality at leaf node is: 5.521505376344086\n",
      "\n",
      "Leaf node name: child11\n",
      "Population of leaf node is: 214\n",
      "Avg. value for quality at leaf node is: 6.042056074766355\n",
      "\n",
      "Leaf node name: child12\n",
      "Population of leaf node is: 206\n",
      "Avg. value for quality at leaf node is: 6.597087378640777\n",
      "\n",
      "Leaf node name: child8\n",
      "Population of leaf node is: 395\n",
      "Avg. value for quality at leaf node is: 6.592405063291139\n"
     ]
    }
   ],
   "source": [
    "leafnodes(tree)"
   ]
  },
  {
   "cell_type": "markdown",
   "metadata": {},
   "source": [
    "## Making predictions and calculating MSE values"
   ]
  },
  {
   "cell_type": "markdown",
   "metadata": {},
   "source": [
    "## MSE values  for training data"
   ]
  },
  {
   "cell_type": "code",
   "execution_count": 335,
   "metadata": {},
   "outputs": [
    {
     "name": "stdout",
     "output_type": "stream",
     "text": [
      "MSE over training set: 0.6570298682495789\n"
     ]
    }
   ],
   "source": [
    "MSE_train = tree_MSE_calc(X_train, y_train, tree)\n",
    "print('MSE over training set: ' +str(MSE_train))"
   ]
  },
  {
   "cell_type": "markdown",
   "metadata": {},
   "source": [
    "## MSE values  for test data"
   ]
  },
  {
   "cell_type": "code",
   "execution_count": 336,
   "metadata": {},
   "outputs": [
    {
     "name": "stdout",
     "output_type": "stream",
     "text": [
      "MSE over testing set: 0.5536694548548751\n"
     ]
    }
   ],
   "source": [
    "MSE_test = tree_MSE_calc(X_test, y_test, tree)\n",
    "print('MSE over testing set: ' +str(MSE_test))"
   ]
  },
  {
   "cell_type": "markdown",
   "metadata": {},
   "source": [
    "## Answer 3(b)."
   ]
  },
  {
   "cell_type": "markdown",
   "metadata": {},
   "source": [
    "## MSE at each leaf node"
   ]
  },
  {
   "cell_type": "code",
   "execution_count": 337,
   "metadata": {},
   "outputs": [
    {
     "name": "stdout",
     "output_type": "stream",
     "text": [
      "\n",
      "Leaf node name:child1\n",
      "MSE at leaf node is:0.561601063480023\n",
      "\n",
      "Leaf node name:child5\n",
      "MSE at leaf node is:0.6522282382340706\n",
      "\n",
      "Leaf node name:child9\n",
      "MSE at leaf node is:0.8201392032593922\n",
      "\n",
      "Leaf node name:child10\n",
      "MSE at leaf node is:0.7764192392184084\n",
      "\n",
      "Leaf node name:child11\n",
      "MSE at leaf node is:1.0776705389116956\n",
      "\n",
      "Leaf node name:child12\n",
      "MSE at leaf node is:0.6192148176076921\n",
      "\n",
      "Leaf node name:child8\n",
      "MSE at leaf node is:0.7072840890882878\n"
     ]
    }
   ],
   "source": [
    "leafnode_MSE(tree)"
   ]
  },
  {
   "cell_type": "markdown",
   "metadata": {},
   "source": [
    "### The best path in the regression tree model will be from root node to child1 as the MSE value is the lowest = 0.561601063480023\n",
    "### The worst path in the model is from root node to child11 as the MSE value is very high at this node = 1.0776705389116956"
   ]
  },
  {
   "cell_type": "markdown",
   "metadata": {
    "collapsed": true
   },
   "source": [
    "## Answer 4"
   ]
  },
  {
   "cell_type": "markdown",
   "metadata": {},
   "source": [
    "## Loading the Red Wine Quality dataset"
   ]
  },
  {
   "cell_type": "code",
   "execution_count": 338,
   "metadata": {},
   "outputs": [
    {
     "data": {
      "text/html": [
       "<div>\n",
       "<style>\n",
       "    .dataframe thead tr:only-child th {\n",
       "        text-align: right;\n",
       "    }\n",
       "\n",
       "    .dataframe thead th {\n",
       "        text-align: left;\n",
       "    }\n",
       "\n",
       "    .dataframe tbody tr th {\n",
       "        vertical-align: top;\n",
       "    }\n",
       "</style>\n",
       "<table border=\"1\" class=\"dataframe\">\n",
       "  <thead>\n",
       "    <tr style=\"text-align: right;\">\n",
       "      <th></th>\n",
       "      <th>fixed acidity</th>\n",
       "      <th>volatile acidity</th>\n",
       "      <th>citric acid</th>\n",
       "      <th>residual sugar</th>\n",
       "      <th>chlorides</th>\n",
       "      <th>free sulfur dioxide</th>\n",
       "      <th>total sulfur dioxide</th>\n",
       "      <th>density</th>\n",
       "      <th>pH</th>\n",
       "      <th>sulphates</th>\n",
       "      <th>alcohol</th>\n",
       "      <th>quality</th>\n",
       "    </tr>\n",
       "  </thead>\n",
       "  <tbody>\n",
       "    <tr>\n",
       "      <th>0</th>\n",
       "      <td>7.4</td>\n",
       "      <td>0.70</td>\n",
       "      <td>0.00</td>\n",
       "      <td>1.9</td>\n",
       "      <td>0.076</td>\n",
       "      <td>11.0</td>\n",
       "      <td>34.0</td>\n",
       "      <td>0.9978</td>\n",
       "      <td>3.51</td>\n",
       "      <td>0.56</td>\n",
       "      <td>9.4</td>\n",
       "      <td>5</td>\n",
       "    </tr>\n",
       "    <tr>\n",
       "      <th>1</th>\n",
       "      <td>7.8</td>\n",
       "      <td>0.88</td>\n",
       "      <td>0.00</td>\n",
       "      <td>2.6</td>\n",
       "      <td>0.098</td>\n",
       "      <td>25.0</td>\n",
       "      <td>67.0</td>\n",
       "      <td>0.9968</td>\n",
       "      <td>3.20</td>\n",
       "      <td>0.68</td>\n",
       "      <td>9.8</td>\n",
       "      <td>5</td>\n",
       "    </tr>\n",
       "    <tr>\n",
       "      <th>2</th>\n",
       "      <td>7.8</td>\n",
       "      <td>0.76</td>\n",
       "      <td>0.04</td>\n",
       "      <td>2.3</td>\n",
       "      <td>0.092</td>\n",
       "      <td>15.0</td>\n",
       "      <td>54.0</td>\n",
       "      <td>0.9970</td>\n",
       "      <td>3.26</td>\n",
       "      <td>0.65</td>\n",
       "      <td>9.8</td>\n",
       "      <td>5</td>\n",
       "    </tr>\n",
       "    <tr>\n",
       "      <th>3</th>\n",
       "      <td>11.2</td>\n",
       "      <td>0.28</td>\n",
       "      <td>0.56</td>\n",
       "      <td>1.9</td>\n",
       "      <td>0.075</td>\n",
       "      <td>17.0</td>\n",
       "      <td>60.0</td>\n",
       "      <td>0.9980</td>\n",
       "      <td>3.16</td>\n",
       "      <td>0.58</td>\n",
       "      <td>9.8</td>\n",
       "      <td>6</td>\n",
       "    </tr>\n",
       "    <tr>\n",
       "      <th>4</th>\n",
       "      <td>7.4</td>\n",
       "      <td>0.70</td>\n",
       "      <td>0.00</td>\n",
       "      <td>1.9</td>\n",
       "      <td>0.076</td>\n",
       "      <td>11.0</td>\n",
       "      <td>34.0</td>\n",
       "      <td>0.9978</td>\n",
       "      <td>3.51</td>\n",
       "      <td>0.56</td>\n",
       "      <td>9.4</td>\n",
       "      <td>5</td>\n",
       "    </tr>\n",
       "  </tbody>\n",
       "</table>\n",
       "</div>"
      ],
      "text/plain": [
       "   fixed acidity  volatile acidity  citric acid  residual sugar  chlorides  \\\n",
       "0            7.4              0.70         0.00             1.9      0.076   \n",
       "1            7.8              0.88         0.00             2.6      0.098   \n",
       "2            7.8              0.76         0.04             2.3      0.092   \n",
       "3           11.2              0.28         0.56             1.9      0.075   \n",
       "4            7.4              0.70         0.00             1.9      0.076   \n",
       "\n",
       "   free sulfur dioxide  total sulfur dioxide  density    pH  sulphates  \\\n",
       "0                 11.0                  34.0   0.9978  3.51       0.56   \n",
       "1                 25.0                  67.0   0.9968  3.20       0.68   \n",
       "2                 15.0                  54.0   0.9970  3.26       0.65   \n",
       "3                 17.0                  60.0   0.9980  3.16       0.58   \n",
       "4                 11.0                  34.0   0.9978  3.51       0.56   \n",
       "\n",
       "   alcohol  quality  \n",
       "0      9.4        5  \n",
       "1      9.8        5  \n",
       "2      9.8        5  \n",
       "3      9.8        6  \n",
       "4      9.4        5  "
      ]
     },
     "execution_count": 338,
     "metadata": {},
     "output_type": "execute_result"
    }
   ],
   "source": [
    "RWQdata = pd.read_csv('C:/Users/rachi/Desktop/RWQ.csv')\n",
    "RWQdata.head()"
   ]
  },
  {
   "cell_type": "markdown",
   "metadata": {},
   "source": [
    "## Separating features and labels"
   ]
  },
  {
   "cell_type": "code",
   "execution_count": 339,
   "metadata": {},
   "outputs": [
    {
     "data": {
      "text/plain": [
       "(1599, 11)"
      ]
     },
     "execution_count": 339,
     "metadata": {},
     "output_type": "execute_result"
    }
   ],
   "source": [
    "X = RWQdata.loc[:,'fixed acidity':'alcohol']\n",
    "y = RWQdata.loc[:,'quality']\n",
    "X.shape"
   ]
  },
  {
   "cell_type": "markdown",
   "metadata": {},
   "source": [
    "## Computing the MSE value of the red wine data using regression tree learned for white wine data"
   ]
  },
  {
   "cell_type": "code",
   "execution_count": 340,
   "metadata": {},
   "outputs": [
    {
     "name": "stdout",
     "output_type": "stream",
     "text": [
      "MSE of red wines: 0.5516244960024362\n"
     ]
    }
   ],
   "source": [
    "RWQ_MSE = tree_MSE_calc(X,y,tree)\n",
    "print('MSE of Red Wine Data: ' + str(RWQ_MSE))"
   ]
  },
  {
   "cell_type": "markdown",
   "metadata": {},
   "source": [
    "## Comparing the MSE values of both datasets"
   ]
  },
  {
   "cell_type": "code",
   "execution_count": 342,
   "metadata": {},
   "outputs": [
    {
     "name": "stdout",
     "output_type": "stream",
     "text": [
      "MSE of White Wine Data: 0.5536694548548751\n",
      "MSE of Red Red Data: 0.5516244960024362\n"
     ]
    }
   ],
   "source": [
    "print('MSE of White Wine Data: ' +str(MSE_test))\n",
    "print('MSE of Red Red Data: ' + str(RWQ_MSE))"
   ]
  },
  {
   "cell_type": "markdown",
   "metadata": {
    "collapsed": true
   },
   "source": [
    "### The performance of the model for Red Wine Data is very much comparable to the performance on White Wine Data. The MSE values are very similar for both the datasets.\n",
    "### It can be concluded that, since same features were used for both the datasets, it is clear that the samples in both datasets are highly relatable and similar. The Regression Tree model trained on White Wine Data can be used to predict values for the Red Wine Data much efficiently."
   ]
  },
  {
   "cell_type": "code",
   "execution_count": null,
   "metadata": {
    "collapsed": true
   },
   "outputs": [],
   "source": []
  }
 ],
 "metadata": {
  "kernelspec": {
   "display_name": "Python 3",
   "language": "python",
   "name": "python3"
  },
  "language_info": {
   "codemirror_mode": {
    "name": "ipython",
    "version": 3
   },
   "file_extension": ".py",
   "mimetype": "text/x-python",
   "name": "python",
   "nbconvert_exporter": "python",
   "pygments_lexer": "ipython3",
   "version": "3.6.3"
  }
 },
 "nbformat": 4,
 "nbformat_minor": 2
}
